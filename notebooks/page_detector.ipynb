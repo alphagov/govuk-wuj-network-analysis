{
 "cells": [
  {
   "cell_type": "markdown",
   "id": "3dc44467",
   "metadata": {},
   "source": [
    "# Page detector \n",
    "\n",
    "A functional graph based on page hit session data is created, to find a list of pages related to a Whole User Journey (WUJ). This approach does not rely on the existing knowledge graph. There are 3 main steps: \n",
    "\n",
    "- Set variables\n",
    "- Create functional network \n",
    "- Apply biased random walks\n",
    "\n",
    "Requirements: \n",
    "- The functional network is based on user movement data and therefore retrives data from Google BigQuery. As such,\n",
    "  Google BigQuery credentials are required to run this notebook. "
   ]
  },
  {
   "cell_type": "markdown",
   "id": "a827a670",
   "metadata": {},
   "source": [
    "## Authentication and imports"
   ]
  },
  {
   "cell_type": "code",
   "execution_count": null,
   "id": "8d12b3e2",
   "metadata": {},
   "outputs": [],
   "source": [
    "from src.utils.create_functional_network import (\n",
    "    create_networkx_graph,\n",
    "    extract_nodes_and_edges,\n",
    "    extract_seed_sessions,\n",
    "    identify_seed_pages,\n",
    ")\n",
    "\n",
    "# Authenticate the user - follow the link and the prompts to get an authentication token\n",
    "auth.authenticate_user()"
   ]
  },
  {
   "cell_type": "markdown",
   "id": "0bdc3707",
   "metadata": {},
   "source": [
    "## Set variables\n",
    "\n",
    "`seed0_pages`: a list of pages that are known to be vital to the WUJ. seed1_pages are defined as pages that contain a hyperlink on seed0_pages, so it is logical to choose seed0_pages which have hyperlinks to other pages, such as browse or topic pages.  \n",
    "\n",
    "`start_date`: the functional graph is based on page hit session data. This is the start date for the session hit data.\n",
    "\n",
    "`end_date`: the functional graph is based on page hit session data. This is the end date for the session hit data."
   ]
  },
  {
   "cell_type": "code",
   "execution_count": null,
   "id": "56158172",
   "metadata": {},
   "outputs": [],
   "source": [
    "seed0_pages = [\n",
    "    \"/guidance/travel-to-england-from-another-country-during-coronavirus-covid-19\",\n",
    "    \"/email/subscriptions/single-page/new?topic_id=travel-to-england-from-another-country-during-coronavirus-covid-19\",\n",
    "    \"/sign-in/callback\",\n",
    "    \"/email/manage\",\n",
    "]\n",
    "\n",
    "start_date = [\"20210803\"]\n",
    "\n",
    "end_date = [\"20210803\"]"
   ]
  },
  {
   "cell_type": "markdown",
   "id": "9cbc83d8",
   "metadata": {},
   "source": [
    "## Create functional network\n",
    "\n",
    "The first step is to create the functional network. To do this, call four functions, in order: \n",
    "- `identify_seed_pages(seed0_pages)`: the first step scrapes the seed0_pages, and creates a topology sparse matrix where the row entities are seed0_pages, and the column entities are the pages seed0_pages hyperlink to. Returns a list of seed1_pages (i.e. the column entities).  \n",
    "\n",
    "- `extract_seed_sessions(start_date, end_date, seed0_pages, seed1_pages)`: Using the list of `seed1_pages` from `identify_seed_pages()`, this function retrieves all page hits from sessions that visit at least one seed0 or seed1 page from Google BigQuery.\n",
    "\n",
    "- `extract_nodes_and_edges(page_view_network)`: Extracts nodes and edges from the functional network `page_view_network` created via the function `extract_seed_sessions()`. \n",
    "\n",
    "- `create_networkx_graph(nodes, edges)`: Combines `nodes` and `edges` from `extract_nodes_and_edges()` to create a NetworkX functional graph related to a set of seed pages.\n"
   ]
  },
  {
   "cell_type": "code",
   "execution_count": null,
   "id": "fcba1351",
   "metadata": {},
   "outputs": [],
   "source": [
    "seed1_pages = identify_seed_pages(seed0_pages)"
   ]
  },
  {
   "cell_type": "code",
   "execution_count": null,
   "id": "a1dca815",
   "metadata": {},
   "outputs": [],
   "source": [
    "page_view_network = extract_seed_sessions(\n",
    "    start_date, end_date, seed0_pages, seed1_pages\n",
    ")"
   ]
  },
  {
   "cell_type": "code",
   "execution_count": null,
   "id": "d8325829",
   "metadata": {},
   "outputs": [],
   "source": [
    "(nodes, edges) = extract_nodes_and_edges(page_view_network)"
   ]
  },
  {
   "cell_type": "code",
   "execution_count": null,
   "id": "f5b3a8eb",
   "metadata": {},
   "outputs": [],
   "source": [
    "G = create_networkx_graph(nodes, edges)"
   ]
  }
 ],
 "metadata": {
  "language_info": {
   "codemirror_mode": {
    "name": "ipython",
    "version": 3
   },
   "file_extension": ".py",
   "mimetype": "text/x-python",
   "name": "python",
   "nbconvert_exporter": "python",
   "pygments_lexer": "ipython3",
   "version": "3.9.7"
  }
 },
 "nbformat": 4,
 "nbformat_minor": 5
}
