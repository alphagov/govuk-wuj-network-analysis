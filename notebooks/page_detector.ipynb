{
  "cells": [
    {
      "cell_type": "markdown",
      "metadata": {
        "id": "3dc44467"
      },
      "source": [
        "# Page detector \n",
        "\n",
        "A functional graph based on page hit session data is created, to find a list of pages related to a Whole User Journey (WUJ). This approach does not rely on the existing knowledge graph. There are 3 main steps: \n",
        "\n",
        "- Set variables\n",
        "- Create functional network \n",
        "- Apply biased random walks"
      ],
      "id": "3dc44467"
    },
    {
      "cell_type": "markdown",
      "source": [
        "### Requirements: \n",
        "- The functional network is based on user movement data and therefore retrives data from Google BigQuery. As such,\n",
        "  Google BigQuery credentials are required to run this notebook. "
      ],
      "metadata": {
        "id": "BAPE3DmyhR0k"
      },
      "id": "BAPE3DmyhR0k"
    },
    {
      "cell_type": "markdown",
      "source": [
        "### Steps to run this script:\n",
        "\n",
        "\n",
        "* Make sure you have permissions to use BigQuery\n",
        "* Run steps 1, 2 and 3 and wait for all dependencies to be installed\n",
        "* Restart the Runtime by going to `Runtime > Restart runtime`\n",
        "* Run steps 1 and 2\n",
        "* Proceed to the Page detection section\n",
        "* Set variables\n",
        "* Create functional network. This costs money each time you run it, because it makes use of BigQuery.\n",
        "* Experiment with random walk community detection:\n",
        "  * Experiment as much as you want. This bit doesn't cost money to run.\n",
        "  * Set number of steps and repeats\n",
        "  * See below for guidance on this \n"
      ],
      "metadata": {
        "id": "lgDRi_7vfga8"
      },
      "id": "lgDRi_7vfga8"
    },
    {
      "cell_type": "markdown",
      "source": [
        "### Guidance on setting steps and repeats parameters:\n",
        "\n",
        "Firstly, a random walk will perform a certain number of steps. This is the number of movements it makes between pages. E.g. `A -> B -> C -> B -> D` is a 4 step random walk. \n",
        "\n",
        "If we performed this random walk again, we might get a different outcome, like `A -> C -> D -> E -> B`. This is a repeat. We have set `steps = 4` and `repeats = 2`.\n",
        "\n",
        "Then, the results of each random walk are unioned, to become `{A, B, C, D, E}`.\n",
        "\n",
        "With this in mind, here is some guidance:\n",
        "\n",
        "* If you're interested in retrieving a list of pages ranked by relevance to the WUJ, set `repeats` to a large value like 1000.\n",
        "  * As the number of repeats is increased, the ranks of each page begin to stabilise to a \"true\" position\n",
        "  * Large values have the side effect of giving the random walk more opportunities to escape the space of pages related to the WUJ\n",
        "  * When using a large number of repeats, consider increasing `n_jobs` to speed up processing. This tends to be beneficial when `repeats >= 200`, as the speed up from parallelisation outweighs the overhead of initialising multi-core parallelism.\n",
        "\n",
        "* The more `steps` you have, the more movements the random walk will make.\n",
        "\n",
        "  Typically, if `steps` is set to a large value, e.g. over 100, then the random walk has the opportunity to travel far enough through GOV.UK to visit pages that aren't relevant to the WUJ. On the other hand, irrelevant pages will tend to be assigned a low rank and more steps will contribute to the stabilisation of the rankings.\n",
        "\n",
        "Overall, `repeats = 1000`, `steps = 100` and `n_jobs = -1`, followed by taking pages ranked in the top X% tends to work well. Where X is the top 5% for example.\n"
      ],
      "metadata": {
        "id": "EoEVv1RvhJbl"
      },
      "id": "EoEVv1RvhJbl"
    },
    {
      "cell_type": "markdown",
      "metadata": {
        "id": "a827a670"
      },
      "source": [
        "## Authentication and imports"
      ],
      "id": "a827a670"
    },
    {
      "cell_type": "markdown",
      "source": [
        "### Step 1"
      ],
      "metadata": {
        "id": "4nsyPDWxf4zm"
      },
      "id": "4nsyPDWxf4zm"
    },
    {
      "cell_type": "code",
      "execution_count": null,
      "metadata": {
        "colab": {
          "base_uri": "https://localhost:8080/"
        },
        "id": "O7HIsv6a9icR",
        "outputId": "1437acaa-523d-43e0-efbb-74f9ede5ef18"
      },
      "outputs": [
        {
          "output_type": "stream",
          "name": "stdout",
          "text": [
            "fatal: destination path 'govuk-wuj-network-analysis' already exists and is not an empty directory.\n"
          ]
        }
      ],
      "source": [
        "!git clone -b sort-repo https://github.com/alphagov/govuk-wuj-network-analysis.git"
      ],
      "id": "O7HIsv6a9icR"
    },
    {
      "cell_type": "markdown",
      "source": [
        "### Step 2"
      ],
      "metadata": {
        "id": "fY_Nb3D6f7Hk"
      },
      "id": "fY_Nb3D6f7Hk"
    },
    {
      "cell_type": "code",
      "execution_count": null,
      "metadata": {
        "colab": {
          "base_uri": "https://localhost:8080/"
        },
        "id": "Zk6CMZLYTgLN",
        "outputId": "b6153659-80c8-410f-f5f7-07be48bfe63e"
      },
      "outputs": [
        {
          "output_type": "stream",
          "name": "stdout",
          "text": [
            "/content/govuk-wuj-network-analysis\n"
          ]
        }
      ],
      "source": [
        "cd govuk-wuj-network-analysis"
      ],
      "id": "Zk6CMZLYTgLN"
    },
    {
      "cell_type": "markdown",
      "source": [
        "Execute `!pip install -r requirements.txt --ignore-installed`, wait until it's done, then restart the runtime. After that, run the cells above this again, and proceed to run the cells below `!pip install -r requirements.txt --ignore-installed`."
      ],
      "metadata": {
        "id": "6hWTumzttnxZ"
      },
      "id": "6hWTumzttnxZ"
    },
    {
      "cell_type": "markdown",
      "source": [
        "### Step 3"
      ],
      "metadata": {
        "id": "C00GCwRDf_yI"
      },
      "id": "C00GCwRDf_yI"
    },
    {
      "cell_type": "code",
      "execution_count": null,
      "metadata": {
        "id": "AvcP4RoVPOL6"
      },
      "outputs": [],
      "source": [
        "!pip install -r requirements.txt --ignore-installed"
      ],
      "id": "AvcP4RoVPOL6"
    },
    {
      "cell_type": "markdown",
      "source": [
        "# Page detection"
      ],
      "metadata": {
        "id": "l-7sEfTqgF8D"
      },
      "id": "l-7sEfTqgF8D"
    },
    {
      "cell_type": "code",
      "execution_count": null,
      "metadata": {
        "id": "pzqRvO1v-PCP"
      },
      "outputs": [],
      "source": [
        "!pip install python-dotenv==0.19.2 --quiet"
      ],
      "id": "pzqRvO1v-PCP"
    },
    {
      "cell_type": "code",
      "execution_count": null,
      "metadata": {
        "colab": {
          "base_uri": "https://localhost:8080/"
        },
        "id": "WVwJYzpIK8Vp",
        "outputId": "78c3324e-b251-4a83-8cdb-2ed3e239e57d"
      },
      "outputs": [
        {
          "output_type": "stream",
          "name": "stdout",
          "text": [
            "Mounted at /content/gdrive/\n"
          ]
        }
      ],
      "source": [
        "from google.colab import drive, auth\n",
        "import os\n",
        "import networkx as nx\n",
        "from dotenv import load_dotenv\n",
        "from src.utils.create_functional_network import (\n",
        "    create_networkx_graph,\n",
        "    extract_nodes_and_edges,\n",
        "    extract_seed_sessions,\n",
        "    identify_seed_pages,\n",
        ")\n",
        "import src.utils.randomwalks as rw\n",
        "\n",
        "drive.mount('/content/gdrive/')\n",
        "\n",
        "nb_path = '/content/gdrive/Shareddrives/GOV.UK teams/2021-2022/Data labs/14 Network analysis/Page Finding Tool'\n",
        "load_dotenv(os.path.join(nb_path, '.env'))\n",
        "\n",
        "# Authenticate the user - follow the link and the prompts to get an authentication token\n",
        "auth.authenticate_user()"
      ],
      "id": "WVwJYzpIK8Vp"
    },
    {
      "cell_type": "markdown",
      "metadata": {
        "id": "0bdc3707"
      },
      "source": [
        "## Set variables\n",
        "\n",
        "`seed0_pages`: a list of pages that are known to be vital to the WUJ. seed1_pages are defined as pages that contain a hyperlink on seed0_pages, so it is logical to choose seed0_pages which have hyperlinks to other pages, such as browse or topic pages.  \n",
        "\n",
        "`start_date`: the functional graph is based on page hit session data. This is the start date for the session hit data.\n",
        "\n",
        "`end_date`: the functional graph is based on page hit session data. This is the end date for the session hit data."
      ],
      "id": "0bdc3707"
    },
    {
      "cell_type": "code",
      "execution_count": null,
      "metadata": {
        "id": "56158172"
      },
      "outputs": [],
      "source": [
        "seed0_pages = [\n",
        "    \"/guidance/travel-to-england-from-another-country-during-coronavirus-covid-19\",\n",
        "    \"/email/subscriptions/single-page/new?topic_id=travel-to-england-from-another-country-during-coronavirus-covid-19\",\n",
        "    \"/sign-in/callback\",\n",
        "    \"/email/manage\"\n",
        "]\n",
        "\n",
        "start_date = [\"20210803\"]\n",
        "\n",
        "end_date = [\"20210803\"]"
      ],
      "id": "56158172"
    },
    {
      "cell_type": "markdown",
      "metadata": {
        "id": "9cbc83d8"
      },
      "source": [
        "## Create functional network\n",
        "\n",
        "The first step is to create the functional network. To do this, call four functions, in order: \n",
        "- `identify_seed_pages(seed0_pages)`: the first step scrapes the seed0_pages, and creates a topology sparse matrix where the row entities are seed0_pages, and the column entities are the pages seed0_pages hyperlink to. Returns a list of seed1_pages (i.e. the column entities).  \n",
        "\n",
        "- `extract_seed_sessions(start_date, end_date, seed0_pages, seed1_pages)`: Using the list of `seed1_pages` from `identify_seed_pages()`, this function retrieves all page hits from sessions that visit at least one seed0 or seed1 page from Google BigQuery.\n",
        "\n",
        "- `extract_nodes_and_edges(page_view_network)`: Extracts nodes and edges from the functional network `page_view_network` created via the function `extract_seed_sessions()`. \n",
        "\n",
        "- `create_networkx_graph(nodes, edges)`: Combines `nodes` and `edges` from `extract_nodes_and_edges()` to create a NetworkX functional graph related to a set of seed pages.\n"
      ],
      "id": "9cbc83d8"
    },
    {
      "cell_type": "code",
      "execution_count": null,
      "metadata": {
        "colab": {
          "base_uri": "https://localhost:8080/"
        },
        "id": "fcba1351",
        "outputId": "91b23701-41bd-48a6-ef69-5f1e5c26860a"
      },
      "outputs": [
        {
          "output_type": "stream",
          "name": "stderr",
          "text": [
            "/content/govuk-wuj-network-analysis/src/utils/create_functional_network.py:88: GuessedAtParserWarning: No parser was explicitly specified, so I'm using the best available HTML parser for this system (\"lxml\"). This usually isn't a problem, but if you run this code on another system, or in a different virtual environment, it may use a different parser and behave differently.\n",
            "\n",
            "The code that caused this warning is on line 88 of the file /content/govuk-wuj-network-analysis/src/utils/create_functional_network.py. To get rid of this warning, pass the additional argument 'features=\"lxml\"' to the BeautifulSoup constructor.\n",
            "\n",
            "  links = BeautifulSoup(html_contents, parse_only=SoupStrainer(\"a\"))\n"
          ]
        }
      ],
      "source": [
        "seed1_pages = identify_seed_pages(seed0_pages)"
      ],
      "id": "fcba1351"
    },
    {
      "cell_type": "code",
      "execution_count": null,
      "metadata": {
        "id": "a1dca815"
      },
      "outputs": [],
      "source": [
        "page_view_network = extract_seed_sessions(\n",
        "    start_date, end_date, seed0_pages, seed1_pages\n",
        ")"
      ],
      "id": "a1dca815"
    },
    {
      "cell_type": "code",
      "execution_count": null,
      "metadata": {
        "id": "d8325829"
      },
      "outputs": [],
      "source": [
        "(nodes, edges) = extract_nodes_and_edges(page_view_network)"
      ],
      "id": "d8325829"
    },
    {
      "cell_type": "code",
      "execution_count": null,
      "metadata": {
        "id": "f5b3a8eb"
      },
      "outputs": [],
      "source": [
        "G = create_networkx_graph(nodes, edges)"
      ],
      "id": "f5b3a8eb"
    },
    {
      "cell_type": "markdown",
      "source": [
        "## Random walk community detection"
      ],
      "metadata": {
        "id": "aOctXPDsGFDU"
      },
      "id": "aOctXPDsGFDU"
    },
    {
      "cell_type": "code",
      "source": [
        "# get G in the right format\n",
        "G = rw.reformat_graph(G)"
      ],
      "metadata": {
        "id": "kQM9FmkZI_D_"
      },
      "id": "kQM9FmkZI_D_",
      "execution_count": null,
      "outputs": []
    },
    {
      "cell_type": "code",
      "source": [
        "# get transition matrix of G\n",
        "# T = rw.get_transition_matrix(G)"
      ],
      "metadata": {
        "id": "J5MajGsCMr3D"
      },
      "id": "J5MajGsCMr3D",
      "execution_count": null,
      "outputs": []
    },
    {
      "cell_type": "code",
      "source": [
        "T = nx.adjacency_matrix(G, weight=None)"
      ],
      "metadata": {
        "id": "-njpNHLeShfi"
      },
      "id": "-njpNHLeShfi",
      "execution_count": null,
      "outputs": []
    },
    {
      "cell_type": "code",
      "source": [
        "# execute random walks\n",
        "results = rw.repeat_random_walks(\n",
        "    steps=10,\n",
        "    repeats=10,\n",
        "    T=T,\n",
        "    G=G,\n",
        "    seed_pages=seed0_pages,\n",
        "    proba=False,\n",
        "    combine='union',\n",
        "    level=1,\n",
        "    n_jobs=1\n",
        "    )"
      ],
      "metadata": {
        "id": "fdfsfKslGG3P",
        "colab": {
          "base_uri": "https://localhost:8080/",
          "height": 86,
          "referenced_widgets": [
            "594362286071456a9bb3c2f72f621ddc",
            "bacc343dd85e4b668690fc967445076c",
            "f7d7bb0d6fb04ba18c001b84575d592c",
            "d96957b590ea4a479b5d1a346b43e013",
            "0e556e6513004be6a60ef264548d87ed",
            "d21e57e323c64a0f9d19a2087f4aa5f6",
            "ae1be86be56443c1b54246a0b971c5d8",
            "b6e4683725c54c8e886697ebc015ea50",
            "fd7758a7c50c465d88ce88827a87df9a",
            "25df166dfccd4cc49428e0cd4ab47fb5",
            "6f78029ebea0443ba64ebeefeb1f5150"
          ]
        },
        "outputId": "93327804-ae5b-423a-a8ba-f6600821f8c7"
      },
      "id": "fdfsfKslGG3P",
      "execution_count": null,
      "outputs": [
        {
          "output_type": "stream",
          "name": "stdout",
          "text": [
            "['/email/subscriptions/single-page/new?topic_id=travel-to-england-from-another-country-during-coronavirus-covid-19'] could not be found in the graph\n"
          ]
        },
        {
          "output_type": "display_data",
          "data": {
            "text/plain": [
              "  0%|          | 0/3 [00:00<?, ?it/s]"
            ],
            "application/vnd.jupyter.widget-view+json": {
              "version_major": 2,
              "version_minor": 0,
              "model_id": "594362286071456a9bb3c2f72f621ddc"
            }
          },
          "metadata": {}
        }
      ]
    },
    {
      "cell_type": "code",
      "source": [
        "# rank pages by page-freq path-freq metric\n",
        "page_scores = rw.page_freq_path_freq_ranking(results)"
      ],
      "metadata": {
        "id": "_1gYhdR3Miry"
      },
      "id": "_1gYhdR3Miry",
      "execution_count": null,
      "outputs": []
    },
    {
      "cell_type": "code",
      "source": [
        "ranked_pages = rw.add_additional_information(page_scores, G)\n",
        "ranked_pages.head()"
      ],
      "metadata": {
        "id": "yemmeoLMPNpO",
        "colab": {
          "base_uri": "https://localhost:8080/",
          "height": 371
        },
        "outputId": "5807a172-0433-4593-fa71-ece42219b8f8"
      },
      "id": "yemmeoLMPNpO",
      "execution_count": null,
      "outputs": [
        {
          "output_type": "execute_result",
          "data": {
            "text/plain": [
              "                                           page path   document type  \\\n",
              "0  /guidance/travel-to-england-from-another-count...  detailed_guide   \n",
              "1                                  /sign-in/callback        no value   \n",
              "2                                      /email/manage        no value   \n",
              "3                                                  /        homepage   \n",
              "4                                        /search/all          finder   \n",
              "\n",
              "        document supertype  number of sessions that visit this page  \\\n",
              "0  guidance and regulation                                    65398   \n",
              "1                    other                                        8   \n",
              "2                    other                                     4242   \n",
              "3                    other                                   111628   \n",
              "4                    other                                    50883   \n",
              "\n",
              "  number of sessions where this page is an entrance hit  \\\n",
              "0                                               3395      \n",
              "1                                                  1      \n",
              "2                                                324      \n",
              "3                                              62311      \n",
              "4                                               1429      \n",
              "\n",
              "  number of sessions where this page is an exit hit  \\\n",
              "0                                             11627   \n",
              "1                                                 4   \n",
              "2                                              1498   \n",
              "3                                              8320   \n",
              "4                                              2073   \n",
              "\n",
              "  number of sessions where this page is both an entrance and exit hit  \\\n",
              "0                                              46485                    \n",
              "1                                                  3                    \n",
              "2                                               1052                    \n",
              "3                                              40997                    \n",
              "4                                              47381                    \n",
              "\n",
              "   all sessions that visit this page, regardless of the session visiting a seed page  \\\n",
              "0                                              62421                                   \n",
              "1                                                  6                                   \n",
              "2                                               3837                                   \n",
              "3                                             391279                                   \n",
              "4                                             171950                                   \n",
              "\n",
              "   how frequent the page occurs in the whole user journey  \n",
              "0                                               11.0       \n",
              "1                                               10.0       \n",
              "2                                               10.0       \n",
              "3                                                8.0       \n",
              "4                                                5.0       "
            ],
            "text/html": [
              "\n",
              "  <div id=\"df-fc8a3852-7c56-411b-bc9c-473984a28f15\">\n",
              "    <div class=\"colab-df-container\">\n",
              "      <div>\n",
              "<style scoped>\n",
              "    .dataframe tbody tr th:only-of-type {\n",
              "        vertical-align: middle;\n",
              "    }\n",
              "\n",
              "    .dataframe tbody tr th {\n",
              "        vertical-align: top;\n",
              "    }\n",
              "\n",
              "    .dataframe thead th {\n",
              "        text-align: right;\n",
              "    }\n",
              "</style>\n",
              "<table border=\"1\" class=\"dataframe\">\n",
              "  <thead>\n",
              "    <tr style=\"text-align: right;\">\n",
              "      <th></th>\n",
              "      <th>page path</th>\n",
              "      <th>document type</th>\n",
              "      <th>document supertype</th>\n",
              "      <th>number of sessions that visit this page</th>\n",
              "      <th>number of sessions where this page is an entrance hit</th>\n",
              "      <th>number of sessions where this page is an exit hit</th>\n",
              "      <th>number of sessions where this page is both an entrance and exit hit</th>\n",
              "      <th>all sessions that visit this page, regardless of the session visiting a seed page</th>\n",
              "      <th>how frequent the page occurs in the whole user journey</th>\n",
              "    </tr>\n",
              "  </thead>\n",
              "  <tbody>\n",
              "    <tr>\n",
              "      <th>0</th>\n",
              "      <td>/guidance/travel-to-england-from-another-count...</td>\n",
              "      <td>detailed_guide</td>\n",
              "      <td>guidance and regulation</td>\n",
              "      <td>65398</td>\n",
              "      <td>3395</td>\n",
              "      <td>11627</td>\n",
              "      <td>46485</td>\n",
              "      <td>62421</td>\n",
              "      <td>11.0</td>\n",
              "    </tr>\n",
              "    <tr>\n",
              "      <th>1</th>\n",
              "      <td>/sign-in/callback</td>\n",
              "      <td>no value</td>\n",
              "      <td>other</td>\n",
              "      <td>8</td>\n",
              "      <td>1</td>\n",
              "      <td>4</td>\n",
              "      <td>3</td>\n",
              "      <td>6</td>\n",
              "      <td>10.0</td>\n",
              "    </tr>\n",
              "    <tr>\n",
              "      <th>2</th>\n",
              "      <td>/email/manage</td>\n",
              "      <td>no value</td>\n",
              "      <td>other</td>\n",
              "      <td>4242</td>\n",
              "      <td>324</td>\n",
              "      <td>1498</td>\n",
              "      <td>1052</td>\n",
              "      <td>3837</td>\n",
              "      <td>10.0</td>\n",
              "    </tr>\n",
              "    <tr>\n",
              "      <th>3</th>\n",
              "      <td>/</td>\n",
              "      <td>homepage</td>\n",
              "      <td>other</td>\n",
              "      <td>111628</td>\n",
              "      <td>62311</td>\n",
              "      <td>8320</td>\n",
              "      <td>40997</td>\n",
              "      <td>391279</td>\n",
              "      <td>8.0</td>\n",
              "    </tr>\n",
              "    <tr>\n",
              "      <th>4</th>\n",
              "      <td>/search/all</td>\n",
              "      <td>finder</td>\n",
              "      <td>other</td>\n",
              "      <td>50883</td>\n",
              "      <td>1429</td>\n",
              "      <td>2073</td>\n",
              "      <td>47381</td>\n",
              "      <td>171950</td>\n",
              "      <td>5.0</td>\n",
              "    </tr>\n",
              "  </tbody>\n",
              "</table>\n",
              "</div>\n",
              "      <button class=\"colab-df-convert\" onclick=\"convertToInteractive('df-fc8a3852-7c56-411b-bc9c-473984a28f15')\"\n",
              "              title=\"Convert this dataframe to an interactive table.\"\n",
              "              style=\"display:none;\">\n",
              "        \n",
              "  <svg xmlns=\"http://www.w3.org/2000/svg\" height=\"24px\"viewBox=\"0 0 24 24\"\n",
              "       width=\"24px\">\n",
              "    <path d=\"M0 0h24v24H0V0z\" fill=\"none\"/>\n",
              "    <path d=\"M18.56 5.44l.94 2.06.94-2.06 2.06-.94-2.06-.94-.94-2.06-.94 2.06-2.06.94zm-11 1L8.5 8.5l.94-2.06 2.06-.94-2.06-.94L8.5 2.5l-.94 2.06-2.06.94zm10 10l.94 2.06.94-2.06 2.06-.94-2.06-.94-.94-2.06-.94 2.06-2.06.94z\"/><path d=\"M17.41 7.96l-1.37-1.37c-.4-.4-.92-.59-1.43-.59-.52 0-1.04.2-1.43.59L10.3 9.45l-7.72 7.72c-.78.78-.78 2.05 0 2.83L4 21.41c.39.39.9.59 1.41.59.51 0 1.02-.2 1.41-.59l7.78-7.78 2.81-2.81c.8-.78.8-2.07 0-2.86zM5.41 20L4 18.59l7.72-7.72 1.47 1.35L5.41 20z\"/>\n",
              "  </svg>\n",
              "      </button>\n",
              "      \n",
              "  <style>\n",
              "    .colab-df-container {\n",
              "      display:flex;\n",
              "      flex-wrap:wrap;\n",
              "      gap: 12px;\n",
              "    }\n",
              "\n",
              "    .colab-df-convert {\n",
              "      background-color: #E8F0FE;\n",
              "      border: none;\n",
              "      border-radius: 50%;\n",
              "      cursor: pointer;\n",
              "      display: none;\n",
              "      fill: #1967D2;\n",
              "      height: 32px;\n",
              "      padding: 0 0 0 0;\n",
              "      width: 32px;\n",
              "    }\n",
              "\n",
              "    .colab-df-convert:hover {\n",
              "      background-color: #E2EBFA;\n",
              "      box-shadow: 0px 1px 2px rgba(60, 64, 67, 0.3), 0px 1px 3px 1px rgba(60, 64, 67, 0.15);\n",
              "      fill: #174EA6;\n",
              "    }\n",
              "\n",
              "    [theme=dark] .colab-df-convert {\n",
              "      background-color: #3B4455;\n",
              "      fill: #D2E3FC;\n",
              "    }\n",
              "\n",
              "    [theme=dark] .colab-df-convert:hover {\n",
              "      background-color: #434B5C;\n",
              "      box-shadow: 0px 1px 3px 1px rgba(0, 0, 0, 0.15);\n",
              "      filter: drop-shadow(0px 1px 2px rgba(0, 0, 0, 0.3));\n",
              "      fill: #FFFFFF;\n",
              "    }\n",
              "  </style>\n",
              "\n",
              "      <script>\n",
              "        const buttonEl =\n",
              "          document.querySelector('#df-fc8a3852-7c56-411b-bc9c-473984a28f15 button.colab-df-convert');\n",
              "        buttonEl.style.display =\n",
              "          google.colab.kernel.accessAllowed ? 'block' : 'none';\n",
              "\n",
              "        async function convertToInteractive(key) {\n",
              "          const element = document.querySelector('#df-fc8a3852-7c56-411b-bc9c-473984a28f15');\n",
              "          const dataTable =\n",
              "            await google.colab.kernel.invokeFunction('convertToInteractive',\n",
              "                                                     [key], {});\n",
              "          if (!dataTable) return;\n",
              "\n",
              "          const docLinkHtml = 'Like what you see? Visit the ' +\n",
              "            '<a target=\"_blank\" href=https://colab.research.google.com/notebooks/data_table.ipynb>data table notebook</a>'\n",
              "            + ' to learn more about interactive tables.';\n",
              "          element.innerHTML = '';\n",
              "          dataTable['output_type'] = 'display_data';\n",
              "          await google.colab.output.renderOutput(dataTable, element);\n",
              "          const docLink = document.createElement('div');\n",
              "          docLink.innerHTML = docLinkHtml;\n",
              "          element.appendChild(docLink);\n",
              "        }\n",
              "      </script>\n",
              "    </div>\n",
              "  </div>\n",
              "  "
            ]
          },
          "metadata": {},
          "execution_count": 16
        }
      ]
    }
  ],
  "metadata": {
    "colab": {
      "collapsed_sections": [],
      "name": "page_detector.ipynb",
      "provenance": []
    },
    "kernelspec": {
      "display_name": "Python 3",
      "name": "python3"
    },
    "language_info": {
      "name": "python"
    },
    "widgets": {
      "application/vnd.jupyter.widget-state+json": {
        "594362286071456a9bb3c2f72f621ddc": {
          "model_module": "@jupyter-widgets/controls",
          "model_name": "HBoxModel",
          "model_module_version": "1.5.0",
          "state": {
            "_dom_classes": [],
            "_model_module": "@jupyter-widgets/controls",
            "_model_module_version": "1.5.0",
            "_model_name": "HBoxModel",
            "_view_count": null,
            "_view_module": "@jupyter-widgets/controls",
            "_view_module_version": "1.5.0",
            "_view_name": "HBoxView",
            "box_style": "",
            "children": [
              "IPY_MODEL_bacc343dd85e4b668690fc967445076c",
              "IPY_MODEL_f7d7bb0d6fb04ba18c001b84575d592c",
              "IPY_MODEL_d96957b590ea4a479b5d1a346b43e013"
            ],
            "layout": "IPY_MODEL_0e556e6513004be6a60ef264548d87ed"
          }
        },
        "bacc343dd85e4b668690fc967445076c": {
          "model_module": "@jupyter-widgets/controls",
          "model_name": "HTMLModel",
          "model_module_version": "1.5.0",
          "state": {
            "_dom_classes": [],
            "_model_module": "@jupyter-widgets/controls",
            "_model_module_version": "1.5.0",
            "_model_name": "HTMLModel",
            "_view_count": null,
            "_view_module": "@jupyter-widgets/controls",
            "_view_module_version": "1.5.0",
            "_view_name": "HTMLView",
            "description": "",
            "description_tooltip": null,
            "layout": "IPY_MODEL_d21e57e323c64a0f9d19a2087f4aa5f6",
            "placeholder": "​",
            "style": "IPY_MODEL_ae1be86be56443c1b54246a0b971c5d8",
            "value": "100%"
          }
        },
        "f7d7bb0d6fb04ba18c001b84575d592c": {
          "model_module": "@jupyter-widgets/controls",
          "model_name": "FloatProgressModel",
          "model_module_version": "1.5.0",
          "state": {
            "_dom_classes": [],
            "_model_module": "@jupyter-widgets/controls",
            "_model_module_version": "1.5.0",
            "_model_name": "FloatProgressModel",
            "_view_count": null,
            "_view_module": "@jupyter-widgets/controls",
            "_view_module_version": "1.5.0",
            "_view_name": "ProgressView",
            "bar_style": "success",
            "description": "",
            "description_tooltip": null,
            "layout": "IPY_MODEL_b6e4683725c54c8e886697ebc015ea50",
            "max": 3,
            "min": 0,
            "orientation": "horizontal",
            "style": "IPY_MODEL_fd7758a7c50c465d88ce88827a87df9a",
            "value": 3
          }
        },
        "d96957b590ea4a479b5d1a346b43e013": {
          "model_module": "@jupyter-widgets/controls",
          "model_name": "HTMLModel",
          "model_module_version": "1.5.0",
          "state": {
            "_dom_classes": [],
            "_model_module": "@jupyter-widgets/controls",
            "_model_module_version": "1.5.0",
            "_model_name": "HTMLModel",
            "_view_count": null,
            "_view_module": "@jupyter-widgets/controls",
            "_view_module_version": "1.5.0",
            "_view_name": "HTMLView",
            "description": "",
            "description_tooltip": null,
            "layout": "IPY_MODEL_25df166dfccd4cc49428e0cd4ab47fb5",
            "placeholder": "​",
            "style": "IPY_MODEL_6f78029ebea0443ba64ebeefeb1f5150",
            "value": " 3/3 [00:00&lt;00:00, 14.08it/s]"
          }
        },
        "0e556e6513004be6a60ef264548d87ed": {
          "model_module": "@jupyter-widgets/base",
          "model_name": "LayoutModel",
          "model_module_version": "1.2.0",
          "state": {
            "_model_module": "@jupyter-widgets/base",
            "_model_module_version": "1.2.0",
            "_model_name": "LayoutModel",
            "_view_count": null,
            "_view_module": "@jupyter-widgets/base",
            "_view_module_version": "1.2.0",
            "_view_name": "LayoutView",
            "align_content": null,
            "align_items": null,
            "align_self": null,
            "border": null,
            "bottom": null,
            "display": null,
            "flex": null,
            "flex_flow": null,
            "grid_area": null,
            "grid_auto_columns": null,
            "grid_auto_flow": null,
            "grid_auto_rows": null,
            "grid_column": null,
            "grid_gap": null,
            "grid_row": null,
            "grid_template_areas": null,
            "grid_template_columns": null,
            "grid_template_rows": null,
            "height": null,
            "justify_content": null,
            "justify_items": null,
            "left": null,
            "margin": null,
            "max_height": null,
            "max_width": null,
            "min_height": null,
            "min_width": null,
            "object_fit": null,
            "object_position": null,
            "order": null,
            "overflow": null,
            "overflow_x": null,
            "overflow_y": null,
            "padding": null,
            "right": null,
            "top": null,
            "visibility": null,
            "width": null
          }
        },
        "d21e57e323c64a0f9d19a2087f4aa5f6": {
          "model_module": "@jupyter-widgets/base",
          "model_name": "LayoutModel",
          "model_module_version": "1.2.0",
          "state": {
            "_model_module": "@jupyter-widgets/base",
            "_model_module_version": "1.2.0",
            "_model_name": "LayoutModel",
            "_view_count": null,
            "_view_module": "@jupyter-widgets/base",
            "_view_module_version": "1.2.0",
            "_view_name": "LayoutView",
            "align_content": null,
            "align_items": null,
            "align_self": null,
            "border": null,
            "bottom": null,
            "display": null,
            "flex": null,
            "flex_flow": null,
            "grid_area": null,
            "grid_auto_columns": null,
            "grid_auto_flow": null,
            "grid_auto_rows": null,
            "grid_column": null,
            "grid_gap": null,
            "grid_row": null,
            "grid_template_areas": null,
            "grid_template_columns": null,
            "grid_template_rows": null,
            "height": null,
            "justify_content": null,
            "justify_items": null,
            "left": null,
            "margin": null,
            "max_height": null,
            "max_width": null,
            "min_height": null,
            "min_width": null,
            "object_fit": null,
            "object_position": null,
            "order": null,
            "overflow": null,
            "overflow_x": null,
            "overflow_y": null,
            "padding": null,
            "right": null,
            "top": null,
            "visibility": null,
            "width": null
          }
        },
        "ae1be86be56443c1b54246a0b971c5d8": {
          "model_module": "@jupyter-widgets/controls",
          "model_name": "DescriptionStyleModel",
          "model_module_version": "1.5.0",
          "state": {
            "_model_module": "@jupyter-widgets/controls",
            "_model_module_version": "1.5.0",
            "_model_name": "DescriptionStyleModel",
            "_view_count": null,
            "_view_module": "@jupyter-widgets/base",
            "_view_module_version": "1.2.0",
            "_view_name": "StyleView",
            "description_width": ""
          }
        },
        "b6e4683725c54c8e886697ebc015ea50": {
          "model_module": "@jupyter-widgets/base",
          "model_name": "LayoutModel",
          "model_module_version": "1.2.0",
          "state": {
            "_model_module": "@jupyter-widgets/base",
            "_model_module_version": "1.2.0",
            "_model_name": "LayoutModel",
            "_view_count": null,
            "_view_module": "@jupyter-widgets/base",
            "_view_module_version": "1.2.0",
            "_view_name": "LayoutView",
            "align_content": null,
            "align_items": null,
            "align_self": null,
            "border": null,
            "bottom": null,
            "display": null,
            "flex": null,
            "flex_flow": null,
            "grid_area": null,
            "grid_auto_columns": null,
            "grid_auto_flow": null,
            "grid_auto_rows": null,
            "grid_column": null,
            "grid_gap": null,
            "grid_row": null,
            "grid_template_areas": null,
            "grid_template_columns": null,
            "grid_template_rows": null,
            "height": null,
            "justify_content": null,
            "justify_items": null,
            "left": null,
            "margin": null,
            "max_height": null,
            "max_width": null,
            "min_height": null,
            "min_width": null,
            "object_fit": null,
            "object_position": null,
            "order": null,
            "overflow": null,
            "overflow_x": null,
            "overflow_y": null,
            "padding": null,
            "right": null,
            "top": null,
            "visibility": null,
            "width": null
          }
        },
        "fd7758a7c50c465d88ce88827a87df9a": {
          "model_module": "@jupyter-widgets/controls",
          "model_name": "ProgressStyleModel",
          "model_module_version": "1.5.0",
          "state": {
            "_model_module": "@jupyter-widgets/controls",
            "_model_module_version": "1.5.0",
            "_model_name": "ProgressStyleModel",
            "_view_count": null,
            "_view_module": "@jupyter-widgets/base",
            "_view_module_version": "1.2.0",
            "_view_name": "StyleView",
            "bar_color": null,
            "description_width": ""
          }
        },
        "25df166dfccd4cc49428e0cd4ab47fb5": {
          "model_module": "@jupyter-widgets/base",
          "model_name": "LayoutModel",
          "model_module_version": "1.2.0",
          "state": {
            "_model_module": "@jupyter-widgets/base",
            "_model_module_version": "1.2.0",
            "_model_name": "LayoutModel",
            "_view_count": null,
            "_view_module": "@jupyter-widgets/base",
            "_view_module_version": "1.2.0",
            "_view_name": "LayoutView",
            "align_content": null,
            "align_items": null,
            "align_self": null,
            "border": null,
            "bottom": null,
            "display": null,
            "flex": null,
            "flex_flow": null,
            "grid_area": null,
            "grid_auto_columns": null,
            "grid_auto_flow": null,
            "grid_auto_rows": null,
            "grid_column": null,
            "grid_gap": null,
            "grid_row": null,
            "grid_template_areas": null,
            "grid_template_columns": null,
            "grid_template_rows": null,
            "height": null,
            "justify_content": null,
            "justify_items": null,
            "left": null,
            "margin": null,
            "max_height": null,
            "max_width": null,
            "min_height": null,
            "min_width": null,
            "object_fit": null,
            "object_position": null,
            "order": null,
            "overflow": null,
            "overflow_x": null,
            "overflow_y": null,
            "padding": null,
            "right": null,
            "top": null,
            "visibility": null,
            "width": null
          }
        },
        "6f78029ebea0443ba64ebeefeb1f5150": {
          "model_module": "@jupyter-widgets/controls",
          "model_name": "DescriptionStyleModel",
          "model_module_version": "1.5.0",
          "state": {
            "_model_module": "@jupyter-widgets/controls",
            "_model_module_version": "1.5.0",
            "_model_name": "DescriptionStyleModel",
            "_view_count": null,
            "_view_module": "@jupyter-widgets/base",
            "_view_module_version": "1.2.0",
            "_view_name": "StyleView",
            "description_width": ""
          }
        }
      }
    }
  },
  "nbformat": 4,
  "nbformat_minor": 5
}