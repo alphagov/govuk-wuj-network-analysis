{
 "cells": [
  {
   "cell_type": "markdown",
   "id": "7e476570",
   "metadata": {},
   "source": [
    "# Community detection for identifying WUJ pages"
   ]
  },
  {
   "cell_type": "markdown",
   "id": "e16f390c",
   "metadata": {},
   "source": [
    "### Read graph"
   ]
  },
  {
   "cell_type": "code",
   "execution_count": 1,
   "id": "72421428",
   "metadata": {},
   "outputs": [],
   "source": [
    "import matplotlib.pyplot as plt\n",
    "import networkx as nx\n",
    "import numpy as np\n",
    "import pandas as pd\n",
    "from tqdm.notebook import tqdm"
   ]
  },
  {
   "cell_type": "code",
   "execution_count": 2,
   "id": "19fb8a55",
   "metadata": {},
   "outputs": [],
   "source": [
    "G = nx.read_gpickle(\"../data/processed/5_hits_per_contentID_graph.gpickle\")\n",
    "sab_pages = pd.read_csv(\"../data/processed/sab_pages.csv\").pagePath.tolist()"
   ]
  },
  {
   "cell_type": "markdown",
   "id": "bd597167",
   "metadata": {},
   "source": [
    "### Helper functions"
   ]
  },
  {
   "cell_type": "code",
   "execution_count": 3,
   "id": "b0c54d3b",
   "metadata": {},
   "outputs": [],
   "source": [
    "def evaluate(true_pages, predicted_pages):\n",
    "    '''\n",
    "    true_pages is a list of all the pages known to belong to a WUJ\n",
    "    predicted_pages ia a list of pages predicted to belong to a WUJ\n",
    "    \n",
    "    returns precision and recall as percentages\n",
    "    '''\n",
    "    \n",
    "    true_pages = set(true_pages)\n",
    "    predicted_pages = set(predicted_pages)\n",
    "    \n",
    "    # what proportion of true pages were correctly predicted?\n",
    "    recall = len(true_pages.intersection(predicted_pages))/len(true_pages)*100\n",
    "    \n",
    "    # what proportion of predicted pages are true pages?\n",
    "    precision = len(true_pages.intersection(predicted_pages))/len(predicted_pages)*100\n",
    "    \n",
    "    return (precision, recall)\n",
    "\n",
    "def getSlugs(G):\n",
    "    '''\n",
    "    Returns a list of slugs, given a networkx graph G.\n",
    "    '''\n",
    "    return [node[1]['properties']['name'] for node in G.nodes(data=True)]\n",
    "\n",
    "def showGraph(G):\n",
    "    print(nx.info(G))\n",
    "    plt.figure(figsize=((12,12)))\n",
    "    nx.draw(G)"
   ]
  },
  {
   "cell_type": "markdown",
   "id": "ceb3523f",
   "metadata": {},
   "source": [
    "# Random walks"
   ]
  },
  {
   "cell_type": "code",
   "execution_count": 35,
   "id": "bf508c0d",
   "metadata": {},
   "outputs": [],
   "source": [
    "def random_walk(G, steps, seed, nodeData=False):\n",
    "    '''\n",
    "    G is a networkx graph.\n",
    "    steps is the number of steps to take in the random walk.\n",
    "    seed is a page slug for your starting node in the random walk. E.g. \"/set-up-business\" \n",
    "    \n",
    "    returns a numpy array of node ids visited during the random walk.\n",
    "    can return numpy array of nodes with their data if nodeData == True\n",
    "    '''\n",
    "    \n",
    "    # get adjacency matrix A\n",
    "    A = nx.adj_matrix(G, weight=None)\n",
    "    #A = np.array(A.todense())\n",
    "\n",
    "    # set a seed node\n",
    "    foundSeed = False\n",
    "    for current_node_index, node in enumerate(G.nodes(data=True)):\n",
    "        if node[1][\"properties\"][\"name\"] == seed:\n",
    "            foundSeed = True\n",
    "            break\n",
    "    \n",
    "    assert foundSeed == True, \"Could not find seed node: {}\".format(seed)\n",
    "\n",
    "    # list of nodes visited during the random walk\n",
    "    visited = [current_node_index]\n",
    "\n",
    "    for step in range(steps):\n",
    "\n",
    "        # identify neighbours of current node\n",
    "        neighbours = np.nonzero(A[current_node_index])[1]\n",
    "\n",
    "        # if reached an absorbing state, i.e. no neighbours, then terminate the random walk\n",
    "        if neighbours.size == 0:\n",
    "            #print(\"Reached absorbing state after\", step, \"steps\")\n",
    "            visited = list(set(visited))\n",
    "            return np.array(G.nodes(data=nodeData))[visited]\n",
    "            \n",
    "        # randomly select the index of next node to transition to\n",
    "        current_node_index = np.random.choice(neighbours)\n",
    "\n",
    "        # maintain record of the path taken by the random walk\n",
    "        visited.append(current_node_index)\n",
    "    \n",
    "    # return unique pages visited\n",
    "    visited = list(set(visited))\n",
    "        \n",
    "    return np.array(G.nodes(data=nodeData))[visited]"
   ]
  },
  {
   "cell_type": "code",
   "execution_count": 4,
   "id": "e89dfcf4",
   "metadata": {},
   "outputs": [],
   "source": [
    "def random_walk(A, G, steps, seed, nodeData=False):\n",
    "    '''\n",
    "    A is an adjacency matrix.\n",
    "    G is a networkx graph.\n",
    "    steps is the number of steps to take in the random walk.\n",
    "    seed is a page slug for your starting node in the random walk. E.g. \"/set-up-business\" \n",
    "    \n",
    "    returns a numpy array of node ids visited during the random walk.\n",
    "    can return numpy array of nodes with their data if nodeData == True\n",
    "    '''\n",
    "\n",
    "    # set a seed node\n",
    "    foundSeed = False\n",
    "    for current_node_index, node in enumerate(G.nodes(data=True)):\n",
    "        if node[1][\"properties\"][\"name\"] == seed:\n",
    "            foundSeed = True\n",
    "            break\n",
    "    \n",
    "    assert foundSeed == True, \"Could not find seed node: {}\".format(seed)\n",
    "\n",
    "    # list of nodes visited during the random walk\n",
    "    visited = [current_node_index]\n",
    "\n",
    "    for step in range(steps):\n",
    "\n",
    "        # identify neighbours of current node\n",
    "        neighbours = np.nonzero(A[current_node_index])[1]\n",
    "\n",
    "        # if reached an absorbing state, i.e. no neighbours, then terminate the random walk\n",
    "        if neighbours.size == 0:\n",
    "            #print(\"Reached absorbing state after\", step, \"steps\")\n",
    "            visited = list(set(visited))\n",
    "            return np.array(G.nodes(data=nodeData))[visited]\n",
    "            \n",
    "        # randomly select the index of next node to transition to\n",
    "        current_node_index = np.random.choice(neighbours)\n",
    "\n",
    "        # maintain record of the path taken by the random walk\n",
    "        visited.append(current_node_index)\n",
    "    \n",
    "    # return unique pages visited\n",
    "    visited = list(set(visited))\n",
    "        \n",
    "    return np.array(G.nodes(data=nodeData))[visited]"
   ]
  },
  {
   "cell_type": "markdown",
   "id": "49a11566",
   "metadata": {},
   "source": [
    "## Naive random walk"
   ]
  },
  {
   "cell_type": "markdown",
   "id": "000d7b87",
   "metadata": {},
   "source": [
    "Here we're testing the most basic form of random walk, in which a random walk is initialised from a seed page, thereafter successively transitioning to neighbouring nodes, with uniformly distributed transition probabilities. One random walk is initialised per seed node. Each \"start a business\" page is used as a seed node. The precision and recall of the random walks starting from each of these seed nodes is computed."
   ]
  },
  {
   "cell_type": "code",
   "execution_count": 5,
   "id": "7a0e1a80",
   "metadata": {},
   "outputs": [],
   "source": [
    "# get adjacency matrix of G\n",
    "A = nx.adj_matrix(G, weight=None)"
   ]
  },
  {
   "cell_type": "code",
   "execution_count": 88,
   "id": "a2c0a910",
   "metadata": {},
   "outputs": [
    {
     "data": {
      "application/vnd.jupyter.widget-view+json": {
       "model_id": "691bb45a717b4662a13e583ee4a052d7",
       "version_major": 2,
       "version_minor": 0
      },
      "text/plain": [
       "  0%|          | 0/306 [00:00<?, ?it/s]"
      ]
     },
     "metadata": {},
     "output_type": "display_data"
    }
   ],
   "source": [
    "precisions = []\n",
    "recalls = []\n",
    "\n",
    "# number of steps to take in random walk\n",
    "N = 1000\n",
    "\n",
    "for sab_page in tqdm(sab_pages):\n",
    "    pred = getSlugs(G.subgraph(random_walk(A, G, N, sab_page)))\n",
    "    p, r = evaluate(sab_pages, pred)\n",
    "    precisions.append(p)\n",
    "    recalls.append(r)"
   ]
  },
  {
   "cell_type": "code",
   "execution_count": 89,
   "id": "10d2e455",
   "metadata": {
    "scrolled": false
   },
   "outputs": [
    {
     "data": {
      "image/png": "[encoded data removed]",
      "text/plain": [
       "<Figure size 1080x360 with 2 Axes>"
      ]
     },
     "metadata": {
      "needs_background": "light"
     },
     "output_type": "display_data"
    }
   ],
   "source": [
    "fig, ax = plt.subplots(1, 2, figsize=(15,5))\n",
    "ax[0].hist(precisions);\n",
    "ax[0].set_title(\"Precision\");\n",
    "ax[0].set_xlabel(\"Percentage\");\n",
    "ax[1].hist(recalls);\n",
    "ax[1].set_title(\"Recall\");\n",
    "ax[1].set_xlabel(\"Percentage\");"
   ]
  },
  {
   "cell_type": "markdown",
   "id": "0d54577a",
   "metadata": {},
   "source": [
    "Precision and recall are typically around 10% and 1%, respectively."
   ]
  },
  {
   "cell_type": "markdown",
   "id": "f9313d6c",
   "metadata": {},
   "source": [
    "### Seed node analysis"
   ]
  },
  {
   "cell_type": "markdown",
   "id": "0394fe7a",
   "metadata": {},
   "source": [
    "Which seed nodes recalled the most SaB pages? Here is the top 10:"
   ]
  },
  {
   "cell_type": "code",
   "execution_count": 46,
   "id": "11074ed1",
   "metadata": {},
   "outputs": [
    {
     "data": {
      "text/plain": [
       "[(7.18954248366013, '/closing-a-limited-company'),\n",
       " (6.862745098039216, '/health-and-safety-for-farm-vehicles'),\n",
       " (5.228758169934641, '/send-vat-return'),\n",
       " (4.901960784313726, '/calculate-your-business-rates'),\n",
       " (4.57516339869281, '/special-training-ratings-officers'),\n",
       " (4.57516339869281, '/renew-patent'),\n",
       " (4.248366013071895, '/creative-works-licence'),\n",
       " (4.248366013071895, '/hazardous-waste-producer-registration-wales'),\n",
       " (4.248366013071895, '/online-and-distance-selling-for-businesses'),\n",
       " (4.248366013071895, '/skip-licence-scotland')]"
      ]
     },
     "execution_count": 46,
     "metadata": {},
     "output_type": "execute_result"
    }
   ],
   "source": [
    "sorted(list(zip(recalls, sab_pages)), key=lambda x: -x[0])[:10]"
   ]
  },
  {
   "cell_type": "markdown",
   "id": "8438eb4b",
   "metadata": {},
   "source": [
    "Since only one random walk is initialised per seed node, these results could happen by chance. Hence, we now initialise multiple random walks per seed node. Then, compute the average precision and recall per seed node, to see if a particular node does best on average."
   ]
  },
  {
   "cell_type": "code",
   "execution_count": 6,
   "id": "0ec4ad60",
   "metadata": {},
   "outputs": [
    {
     "data": {
      "application/vnd.jupyter.widget-view+json": {
       "model_id": "1c60a9ffe0464206aecd0ecbace4250d",
       "version_major": 2,
       "version_minor": 0
      },
      "text/plain": [
       "  0%|          | 0/306 [00:00<?, ?it/s]"
      ]
     },
     "metadata": {},
     "output_type": "display_data"
    }
   ],
   "source": [
    "# these lists will be lists of lists, where each sublist\n",
    "# contains the precisions and recalls of the repeat random walks\n",
    "# for a given seed node. e.g.\n",
    "\n",
    "#                  sab_page_1       sab_page_2              sab_page_n\n",
    "# precisions = [[0.1,0.15,0.12], [0.2,0.19,0.21], . . ., [0.3, 0.25, 0.12]]\n",
    "\n",
    "#                                               sab_page_1  sab_page_2    sab_page_n\n",
    "# then we can compute averages: avg_precisions = [0.123,      0.199, . . ., 0.223]\n",
    "\n",
    "precisions = []\n",
    "recalls = []\n",
    "\n",
    "# number of steps to take in random walk\n",
    "N = 1000\n",
    "\n",
    "# number of repeats per seed node\n",
    "repeats = 100\n",
    "\n",
    "for sab_page in tqdm(sab_pages):\n",
    "    \n",
    "    # to store the precision and recall scores\n",
    "    # per seed page, for each repeat\n",
    "    ps = []\n",
    "    rs = []\n",
    "    \n",
    "    for repeat in range(repeats):\n",
    "        pred = getSlugs(G.subgraph(random_walk(A, G, N, sab_page)))\n",
    "        p, r = evaluate(sab_pages, pred)\n",
    "        ps.append(p)\n",
    "        rs.append(r)\n",
    "        \n",
    "    precisions.append(ps)\n",
    "    recalls.append(rs)"
   ]
  },
  {
   "cell_type": "code",
   "execution_count": 76,
   "id": "6d8a57ca",
   "metadata": {
    "scrolled": true
   },
   "outputs": [
    {
     "data": {
      "image/png": "[encoded data removed]",
      "text/plain": [
       "<Figure size 1080x360 with 2 Axes>"
      ]
     },
     "metadata": {
      "needs_background": "light"
     },
     "output_type": "display_data"
    }
   ],
   "source": [
    "avg_recalls = [np.median(r) for r in recalls]\n",
    "avg_precisions = [np.median(p) for p in precisions]\n",
    "\n",
    "fig, ax = plt.subplots(1, 2, figsize=(15,5))\n",
    "ax[0].hist(avg_precisions);\n",
    "ax[0].set_title(\"Median Precision\");\n",
    "ax[0].set_xlabel(\"Percentage\");\n",
    "ax[1].hist(avg_recalls);\n",
    "ax[1].set_title(\"Median Recall\");\n",
    "ax[1].set_xlabel(\"Percentage\");"
   ]
  },
  {
   "cell_type": "markdown",
   "id": "a6e87e9a",
   "metadata": {},
   "source": [
    "An average random walk scores 11% on precision and 1% on recall of SaB pages. The following seed pages perform best:"
   ]
  },
  {
   "cell_type": "code",
   "execution_count": 80,
   "id": "24a0f753",
   "metadata": {
    "scrolled": false
   },
   "outputs": [
    {
     "data": {
      "text/plain": [
       "[(1.9607843137254901, '/food-premises-approval-northern-ireland'),\n",
       " (1.7973856209150327, '/food-premises-approval-scotland'),\n",
       " (1.6339869281045754, '/doorstep-selling-regulations'),\n",
       " (1.6339869281045754, '/road-occupation-licence-for-building-work'),\n",
       " (1.6339869281045754, '/cattle-movement-notification-wales'),\n",
       " (1.6339869281045754, '/sqa-qualifications-approval-scotland'),\n",
       " (1.6339869281045754, '/check-the-design-journal'),\n",
       " (1.6339869281045754, '/company-voluntary-arrangements'),\n",
       " (1.6339869281045754, '/food-premises-approval'),\n",
       " (1.6339869281045754, '/food-safety-hazard-analysis')]"
      ]
     },
     "execution_count": 80,
     "metadata": {},
     "output_type": "execute_result"
    }
   ],
   "source": [
    "sorted(list(zip(avg_recalls, sab_pages)), key=lambda x: -x[0])[:10]"
   ]
  },
  {
   "cell_type": "markdown",
   "id": "be40dc1b",
   "metadata": {},
   "source": [
    "## Repeated random walk"
   ]
  },
  {
   "cell_type": "markdown",
   "id": "95835f1c",
   "metadata": {},
   "source": [
    "Let's use the 3 seed pages with the highest recall from the previous section as seed nodes, then perform M random walks beginning from each of these seed nodes. Hence, we get 3*M sets of pages. The union of these sets is used to define a set of pages related to the SaB WUJ."
   ]
  },
  {
   "cell_type": "code",
   "execution_count": 43,
   "id": "9e71bb6b",
   "metadata": {},
   "outputs": [
    {
     "data": {
      "text/plain": [
       "['/closing-a-limited-company',\n",
       " '/health-and-safety-for-farm-vehicles',\n",
       " '/send-vat-return']"
      ]
     },
     "execution_count": 43,
     "metadata": {},
     "output_type": "execute_result"
    }
   ],
   "source": [
    "top3_sab_pages = sorted(list(zip(recalls, sab_pages)), key=lambda x: -x[0])[:3]\n",
    "top3_sab_pages = [x[1] for x in top3_sab_pages]\n",
    "top3_sab_pages"
   ]
  },
  {
   "cell_type": "code",
   "execution_count": 40,
   "id": "30e55426",
   "metadata": {},
   "outputs": [
    {
     "ename": "NameError",
     "evalue": "name 'top3_sab_pages' is not defined",
     "output_type": "error",
     "traceback": [
      "\u001b[1;31m---------------------------------------------------------------------------\u001b[0m",
      "\u001b[1;31mNameError\u001b[0m                                 Traceback (most recent call last)",
      "\u001b[1;32m<ipython-input-40-0f31396f4bc6>\u001b[0m in \u001b[0;36m<module>\u001b[1;34m\u001b[0m\n\u001b[0;32m     10\u001b[0m \u001b[0mpages_visited\u001b[0m \u001b[1;33m=\u001b[0m \u001b[0mlist\u001b[0m\u001b[1;33m(\u001b[0m\u001b[1;33m)\u001b[0m\u001b[1;33m\u001b[0m\u001b[1;33m\u001b[0m\u001b[0m\n\u001b[0;32m     11\u001b[0m \u001b[1;33m\u001b[0m\u001b[0m\n\u001b[1;32m---> 12\u001b[1;33m \u001b[1;32mfor\u001b[0m \u001b[0msab_page\u001b[0m \u001b[1;32min\u001b[0m \u001b[0mtqdm\u001b[0m\u001b[1;33m(\u001b[0m\u001b[0mtop3_sab_pages\u001b[0m\u001b[1;33m)\u001b[0m\u001b[1;33m:\u001b[0m\u001b[1;33m\u001b[0m\u001b[1;33m\u001b[0m\u001b[0m\n\u001b[0m\u001b[0;32m     13\u001b[0m     \u001b[1;32mfor\u001b[0m \u001b[0mm\u001b[0m \u001b[1;32min\u001b[0m \u001b[0mtqdm\u001b[0m\u001b[1;33m(\u001b[0m\u001b[0mrange\u001b[0m\u001b[1;33m(\u001b[0m\u001b[0mM\u001b[0m\u001b[1;33m)\u001b[0m\u001b[1;33m)\u001b[0m\u001b[1;33m:\u001b[0m\u001b[1;33m\u001b[0m\u001b[1;33m\u001b[0m\u001b[0m\n\u001b[0;32m     14\u001b[0m         \u001b[0mpages_visited\u001b[0m\u001b[1;33m.\u001b[0m\u001b[0mextend\u001b[0m\u001b[1;33m(\u001b[0m\u001b[0mgetSlugs\u001b[0m\u001b[1;33m(\u001b[0m\u001b[0mG\u001b[0m\u001b[1;33m.\u001b[0m\u001b[0msubgraph\u001b[0m\u001b[1;33m(\u001b[0m\u001b[0mrandom_walk\u001b[0m\u001b[1;33m(\u001b[0m\u001b[0mG\u001b[0m\u001b[1;33m,\u001b[0m \u001b[0mN\u001b[0m\u001b[1;33m,\u001b[0m \u001b[0msab_page\u001b[0m\u001b[1;33m)\u001b[0m\u001b[1;33m)\u001b[0m\u001b[1;33m)\u001b[0m\u001b[1;33m)\u001b[0m\u001b[1;33m\u001b[0m\u001b[1;33m\u001b[0m\u001b[0m\n",
      "\u001b[1;31mNameError\u001b[0m: name 'top3_sab_pages' is not defined"
     ]
    }
   ],
   "source": [
    "precisions = []\n",
    "recalls = []\n",
    "\n",
    "# number of times to initialise random walk from a given seed node\n",
    "M = 100\n",
    "\n",
    "# number of steps to take in random walk\n",
    "N = 1000\n",
    "\n",
    "pages_visited = list()\n",
    "\n",
    "for sab_page in tqdm(top3_sab_pages):\n",
    "    for m in tqdm(range(M)):\n",
    "        pages_visited.extend(getSlugs(G.subgraph(random_walk(G, N, sab_page))))\n",
    "        \n",
    "pages_visited = list(set(pages_visited))\n",
    "        \n",
    "p, r = evaluate(sab_pages, pages_visited)"
   ]
  },
  {
   "cell_type": "code",
   "execution_count": 33,
   "id": "d6456e9b",
   "metadata": {},
   "outputs": [
    {
     "data": {
      "text/plain": [
       "(1.374588684852988, 84.640522875817, 18842)"
      ]
     },
     "execution_count": 33,
     "metadata": {},
     "output_type": "execute_result"
    }
   ],
   "source": [
    "p,r, len(pages_visited)"
   ]
  },
  {
   "cell_type": "code",
   "execution_count": 34,
   "id": "15e52890",
   "metadata": {
    "scrolled": true
   },
   "outputs": [
    {
     "data": {
      "text/plain": [
       "259"
      ]
     },
     "execution_count": 34,
     "metadata": {},
     "output_type": "execute_result"
    }
   ],
   "source": [
    "len(set(pages_visited).intersection(set(sab_pages)))"
   ]
  },
  {
   "cell_type": "markdown",
   "id": "f76ba386",
   "metadata": {},
   "source": [
    "### Seed node sensitivity"
   ]
  },
  {
   "cell_type": "markdown",
   "id": "05849b78",
   "metadata": {},
   "source": [
    "We need to know how sensitive results are to the choice of seed nodes. Hence, "
   ]
  },
  {
   "cell_type": "markdown",
   "id": "b980c507",
   "metadata": {},
   "source": [
    "# Biased random walks"
   ]
  },
  {
   "cell_type": "markdown",
   "id": "db9fb51b",
   "metadata": {},
   "source": [
    "Previously, transition probabilities were uniformly distributed. Hence, the random walk treated all neighbouring nodes as equal. In reality, information from the random walk so far can inform which node to transition to. Now, transition probabilities will be biased using such information, to increase the probability of moving towards nodes that are more relevant to a WUJ."
   ]
  },
  {
   "cell_type": "markdown",
   "id": "9d7455db",
   "metadata": {},
   "source": [
    "## Node2vec"
   ]
  },
  {
   "cell_type": "markdown",
   "id": "498e9d56",
   "metadata": {},
   "source": []
  },
  {
   "cell_type": "code",
   "execution_count": null,
   "id": "df81cb79",
   "metadata": {},
   "outputs": [],
   "source": []
  }
 ],
 "metadata": {
  "kernelspec": {
   "display_name": "Python 3",
   "language": "python",
   "name": "python3"
  },
  "language_info": {
   "codemirror_mode": {
    "name": "ipython",
    "version": 3
   },
   "file_extension": ".py",
   "mimetype": "text/x-python",
   "name": "python",
   "nbconvert_exporter": "python",
   "pygments_lexer": "ipython3",
   "version": "3.8.8"
  }
 },
 "nbformat": 4,
 "nbformat_minor": 5
}
