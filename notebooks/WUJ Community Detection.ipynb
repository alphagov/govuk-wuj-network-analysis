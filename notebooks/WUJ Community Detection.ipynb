{
 "cells": [
  {
   "cell_type": "markdown",
   "id": "7e476570",
   "metadata": {},
   "source": [
    "# Community detection for identifying WUJ pages"
   ]
  },
  {
   "cell_type": "markdown",
   "id": "e16f390c",
   "metadata": {},
   "source": [
    "### Read graph"
   ]
  },
  {
   "cell_type": "code",
   "execution_count": 1,
   "id": "72421428",
   "metadata": {},
   "outputs": [],
   "source": [
    "import matplotlib.pyplot as plt\n",
    "import networkx as nx\n",
    "import numpy as np\n",
    "import pandas as pd"
   ]
  },
  {
   "cell_type": "code",
   "execution_count": 2,
   "id": "19fb8a55",
   "metadata": {},
   "outputs": [],
   "source": [
    "G = nx.read_gpickle(\"../data/processed/5_hits_per_contentID_graph.gpickle\")"
   ]
  },
  {
   "cell_type": "markdown",
   "id": "68587a28",
   "metadata": {},
   "source": [
    "### Helper functions"
   ]
  },
  {
   "cell_type": "code",
   "execution_count": 19,
   "id": "5f0b1758",
   "metadata": {},
   "outputs": [],
   "source": [
    "def evaluate(true_pages, predicted_pages):\n",
    "    '''\n",
    "    true_pages is a list of all the pages known to belong to a WUJ\n",
    "    predicted_pages ia a list of pages predicted to belong to a WUJ\n",
    "    \n",
    "    returns precision and recall\n",
    "    '''\n",
    "    \n",
    "    true_pages = set(true_pages)\n",
    "    predicted_pages = set(predicted_pages)\n",
    "    \n",
    "    # what proportion of true pages were correctly predicted?\n",
    "    recall = len(true_pages.intersection(predicted_pages))/len(true_pages)\n",
    "    \n",
    "    # what proportion of predicted pages are true pages?\n",
    "    precision = len(true_pages.intersection(predicted_pages))/len(predicted_pages)\n",
    "    \n",
    "    return (precision, recall)\n",
    "\n",
    "def getSlugs(G):\n",
    "    '''\n",
    "    Returns a list of slugs, given a networkx graph G.\n",
    "    '''\n",
    "    return [node[1]['properties']['name'] for node in G.nodes(data=True)]"
   ]
  },
  {
   "cell_type": "markdown",
   "id": "ceb3523f",
   "metadata": {},
   "source": [
    "## Random walks"
   ]
  },
  {
   "cell_type": "code",
   "execution_count": 31,
   "id": "bf508c0d",
   "metadata": {},
   "outputs": [],
   "source": [
    "def random_walk(G, steps, seed):\n",
    "    '''\n",
    "    G is a networkx graph.\n",
    "    steps is the number of steps to take in the random walk.\n",
    "    seed is a page slug for your starting node in the random walk. E.g. \"/set-up-business\" \n",
    "    \n",
    "    returns a numpy array of node ids visited during the random walk.\n",
    "    '''\n",
    "    \n",
    "    # get adjacency matrix A\n",
    "    A = nx.adj_matrix(G, weight=None)\n",
    "    #A = np.array(A.todense())\n",
    "\n",
    "    # set a seed node\n",
    "    for i, node in enumerate(G.nodes(data=True)):\n",
    "        if node[1][\"properties\"][\"name\"] == seed:\n",
    "            break\n",
    "    current_node_index = i\n",
    "\n",
    "    # list of nodes visited during the random walk\n",
    "    visited = [current_node_index]\n",
    "\n",
    "    for step in range(steps):\n",
    "\n",
    "        # identify neighbours of current node\n",
    "        neighbours = np.nonzero(A[current_node_index])[1]\n",
    "\n",
    "        # if reached an absorbing state, i.e. no neighbours, terminate the random walk\n",
    "        if neighbours.size == 0:\n",
    "            print(\"Reached absorbing state after\",step,\"steps\")\n",
    "            return visited\n",
    "            \n",
    "        # randomly select the index of next node to transition to\n",
    "        current_node_index = np.random.choice(neighbours)\n",
    "\n",
    "        # maintain record of the path taken by the random walk\n",
    "        visited.append(current_node_index)\n",
    "        \n",
    "    return np.array(G.nodes())[visited]"
   ]
  },
  {
   "cell_type": "markdown",
   "id": "f5fcf03f",
   "metadata": {},
   "source": [
    "## Naive random walk"
   ]
  },
  {
   "cell_type": "code",
   "execution_count": 34,
   "id": "e95eaac4",
   "metadata": {
    "scrolled": true
   },
   "outputs": [
    {
     "data": {
      "text/plain": [
       "(0.12903225806451613, 0.013029315960912053)"
      ]
     },
     "execution_count": 34,
     "metadata": {},
     "output_type": "execute_result"
    }
   ],
   "source": [
    "evaluate(pd.read_csv(\"../data/processed/sab_pages.csv\").pagePath.tolist(),\n",
    "         getSlugs(G.subgraph(random_walk(G, 500, '/set-up-business'))))"
   ]
  }
 ],
 "metadata": {
  "kernelspec": {
   "display_name": "Python 3",
   "language": "python",
   "name": "python3"
  },
  "language_info": {
   "codemirror_mode": {
    "name": "ipython",
    "version": 3
   },
   "file_extension": ".py",
   "mimetype": "text/x-python",
   "name": "python",
   "nbconvert_exporter": "python",
   "pygments_lexer": "ipython3",
   "version": "3.8.8"
  }
 },
 "nbformat": 4,
 "nbformat_minor": 5
}
