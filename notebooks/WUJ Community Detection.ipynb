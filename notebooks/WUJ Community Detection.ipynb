{
 "cells": [
  {
   "cell_type": "markdown",
   "id": "7e476570",
   "metadata": {},
   "source": [
    "# Community detection for identifying WUJ pages"
   ]
  },
  {
   "cell_type": "markdown",
   "id": "e16f390c",
   "metadata": {},
   "source": [
    "### Read graph"
   ]
  },
  {
   "cell_type": "code",
   "execution_count": null,
   "id": "72421428",
   "metadata": {},
   "outputs": [],
   "source": [
    "import matplotlib.pyplot as plt\n",
    "import networkx as nx\n",
    "import numpy as np\n",
    "import pandas as pd"
   ]
  },
  {
   "cell_type": "code",
   "execution_count": null,
   "id": "19fb8a55",
   "metadata": {},
   "outputs": [],
   "source": [
    "G = nx.read_gpickle(\"5_hits_per_contentID_graph.gpickle\")"
   ]
  },
  {
   "cell_type": "markdown",
   "id": "ceb3523f",
   "metadata": {},
   "source": [
    "## Random walks"
   ]
  },
  {
   "cell_type": "code",
   "execution_count": null,
   "id": "49990393",
   "metadata": {},
   "outputs": [],
   "source": [
    "# get adjacency matrix A\n",
    "A = nx.adj_matrix(G, weight=None)\n",
    "A = np.array(A.todense())"
   ]
  },
  {
   "cell_type": "code",
   "execution_count": null,
   "id": "a0414b07",
   "metadata": {},
   "outputs": [],
   "source": [
    "# number of steps in the random walk\n",
    "steps = 500\n",
    "\n",
    "# set a seed node\n",
    "for i, node in enumerate(G.nodes(data=True)):\n",
    "    if node[1][\"properties\"][\"name\"] == \"/set-up-business\":\n",
    "        break\n",
    "current_node_index = i\n",
    "\n",
    "# list of nodes visited during the random walk\n",
    "visited = [current_node_index]\n",
    "\n",
    "for _ in range(steps):\n",
    "\n",
    "    # identify neighbours of current node\n",
    "    neighbours = np.nonzero(A[current_node_index])[0]\n",
    "\n",
    "    # if no neighbours..\n",
    "    # if len(neigbours):\n",
    "\n",
    "    # randomly select the index of next node to transition to\n",
    "    current_node_index = np.random.choice(neigbours)\n",
    "\n",
    "    # maintain record of the path taken by the random walk\n",
    "    visited.append(current_node_index)\n",
    "\n",
    "# convert list of visited pages to a graph\n",
    "wuj_G = G.subgraph(np.array(G.nodes())[visited])"
   ]
  },
  {
   "cell_type": "code",
   "execution_count": null,
   "id": "62885714",
   "metadata": {},
   "outputs": [],
   "source": [
    "plt.figure(figsize=(12, 12))\n",
    "nx.draw(wuj_G, with_labels=True)"
   ]
  },
  {
   "cell_type": "code",
   "execution_count": null,
   "id": "f248110f",
   "metadata": {},
   "outputs": [],
   "source": [
    "visited_pages = set([node[1][\"properties\"][\"name\"] for node in wuj_G.nodes(data=True)])\n",
    "sab_pages = set(pd.read_csv(\"sab_pages.csv\").pagePath.tolist())\n",
    "len(sab_pages.intersection(visited_pages)) / len(sab_pages) * 100"
   ]
  },
  {
   "cell_type": "code",
   "execution_count": null,
   "id": "44136a08",
   "metadata": {},
   "outputs": [],
   "source": [
    "len(visited_pages)"
   ]
  },
  {
   "cell_type": "code",
   "execution_count": null,
   "id": "9b1a24c5",
   "metadata": {},
   "outputs": [],
   "source": [
    "sab_G = G.subgraph(\n",
    "    [\n",
    "        node[0]\n",
    "        for node in G.nodes(data=True)\n",
    "        if node[1][\"properties\"][\"name\"] in sab_pages\n",
    "    ]\n",
    ")"
   ]
  },
  {
   "cell_type": "code",
   "execution_count": null,
   "id": "52436318",
   "metadata": {},
   "outputs": [],
   "source": [
    "sorted(list(sab_G.degree()), key=lambda x: -x[1])"
   ]
  }
 ],
 "metadata": {
  "language_info": {
   "codemirror_mode": {
    "name": "ipython",
    "version": 3
   },
   "file_extension": ".py",
   "mimetype": "text/x-python",
   "name": "python",
   "nbconvert_exporter": "python",
   "pygments_lexer": "ipython3",
   "version": "3.8.8"
  }
 },
 "nbformat": 4,
 "nbformat_minor": 5
}
