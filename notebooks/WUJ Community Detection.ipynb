{
 "cells": [
  {
   "cell_type": "markdown",
   "id": "7e476570",
   "metadata": {},
   "source": [
    "# Community detection for identifying WUJ pages"
   ]
  },
  {
   "cell_type": "markdown",
   "id": "e16f390c",
   "metadata": {},
   "source": [
    "### Read graph"
   ]
  },
  {
   "cell_type": "code",
   "execution_count": 1,
   "id": "72421428",
   "metadata": {},
   "outputs": [],
   "source": [
    "import matplotlib.pyplot as plt\n",
    "import networkx as nx\n",
    "import numpy as np\n",
    "import pandas as pd\n",
    "from tqdm.notebook import tqdm"
   ]
  },
  {
   "cell_type": "code",
   "execution_count": 10,
   "id": "19fb8a55",
   "metadata": {},
   "outputs": [],
   "source": [
    "G = nx.read_gpickle(\"../data/processed/5_hits_per_contentID_graph.gpickle\")\n",
    "sab_pages = pd.read_csv(\"../data/processed/sab_pages.csv\").pagePath.tolist()"
   ]
  },
  {
   "cell_type": "markdown",
   "id": "bd597167",
   "metadata": {},
   "source": [
    "### Helper functions"
   ]
  },
  {
   "cell_type": "code",
   "execution_count": 3,
   "id": "b0c54d3b",
   "metadata": {},
   "outputs": [],
   "source": [
    "def evaluate(true_pages, predicted_pages):\n",
    "    '''\n",
    "    true_pages is a list of all the pages known to belong to a WUJ\n",
    "    predicted_pages ia a list of pages predicted to belong to a WUJ\n",
    "    \n",
    "    returns precision and recall as percentages\n",
    "    '''\n",
    "    \n",
    "    true_pages = set(true_pages)\n",
    "    predicted_pages = set(predicted_pages)\n",
    "    \n",
    "    # what proportion of true pages were correctly predicted?\n",
    "    recall = len(true_pages.intersection(predicted_pages))/len(true_pages)*100\n",
    "    \n",
    "    # what proportion of predicted pages are true pages?\n",
    "    precision = len(true_pages.intersection(predicted_pages))/len(predicted_pages)*100\n",
    "    \n",
    "    return (precision, recall)\n",
    "\n",
    "def getSlugs(G):\n",
    "    '''\n",
    "    Returns a list of slugs, given a networkx graph G.\n",
    "    '''\n",
    "    return [node[1]['properties']['name'] for node in G.nodes(data=True)]\n",
    "\n",
    "def showGraph(G):\n",
    "    print(nx.info(G))\n",
    "    plt.figure(figsize=((12,12)))\n",
    "    nx.draw(G)"
   ]
  },
  {
   "cell_type": "markdown",
   "id": "ceb3523f",
   "metadata": {},
   "source": [
    "## Random walks"
   ]
  },
  {
   "cell_type": "code",
   "execution_count": 4,
   "id": "bf508c0d",
   "metadata": {},
   "outputs": [],
   "source": [
    "def random_walk(G, steps, seed, nodeData=False):\n",
    "    '''\n",
    "    G is a networkx graph.\n",
    "    steps is the number of steps to take in the random walk.\n",
    "    seed is a page slug for your starting node in the random walk. E.g. \"/set-up-business\" \n",
    "    \n",
    "    returns a numpy array of node ids visited during the random walk.\n",
    "    can return numpy array of nodes with their data if nodeData == True\n",
    "    '''\n",
    "    \n",
    "    # get adjacency matrix A\n",
    "    A = nx.adj_matrix(G, weight=None)\n",
    "    #A = np.array(A.todense())\n",
    "\n",
    "    # set a seed node\n",
    "    foundSeed = False\n",
    "    for current_node_index, node in enumerate(G.nodes(data=True)):\n",
    "        if node[1][\"properties\"][\"name\"] == seed:\n",
    "            foundSeed = True\n",
    "            break\n",
    "    \n",
    "    assert foundSeed == True, \"Could not find seed node: {}\".format(seed)\n",
    "\n",
    "    # list of nodes visited during the random walk\n",
    "    visited = [current_node_index]\n",
    "\n",
    "    for step in range(steps):\n",
    "\n",
    "        # identify neighbours of current node\n",
    "        neighbours = np.nonzero(A[current_node_index])[1]\n",
    "\n",
    "        # if reached an absorbing state, i.e. no neighbours, then terminate the random walk\n",
    "        if neighbours.size == 0:\n",
    "            #print(\"Reached absorbing state after\", step, \"steps\")\n",
    "            visited = list(set(visited))\n",
    "            return np.array(G.nodes(data=nodeData))[visited]\n",
    "            \n",
    "        # randomly select the index of next node to transition to\n",
    "        current_node_index = np.random.choice(neighbours)\n",
    "\n",
    "        # maintain record of the path taken by the random walk\n",
    "        visited.append(current_node_index)\n",
    "    \n",
    "    # return unique pages visited\n",
    "    visited = list(set(visited))\n",
    "        \n",
    "    return np.array(G.nodes(data=nodeData))[visited]"
   ]
  },
  {
   "cell_type": "markdown",
   "id": "49a11566",
   "metadata": {},
   "source": [
    "## Naive random walk"
   ]
  },
  {
   "cell_type": "markdown",
   "id": "000d7b87",
   "metadata": {},
   "source": [
    "Here we're testing the most basic form of random walk, in which a random walk is initialised from a seed page, thereafter successively transitioning to neighbouring nodes, with uniformly distributed transition probabilities. One random walk is initialised per seed node. Each \"start a business\" page is used as a seed node. The precision and recall of the random walks starting from each of these seed nodes is computed."
   ]
  },
  {
   "cell_type": "code",
   "execution_count": 11,
   "id": "35a21df1",
   "metadata": {
    "scrolled": false
   },
   "outputs": [
    {
     "data": {
      "application/vnd.jupyter.widget-view+json": {
       "model_id": "a643794d40fa4149b28e6900b1a8a0e9",
       "version_major": 2,
       "version_minor": 0
      },
      "text/plain": [
       "  0%|          | 0/306 [00:00<?, ?it/s]"
      ]
     },
     "metadata": {},
     "output_type": "display_data"
    }
   ],
   "source": [
    "precisions = []\n",
    "recalls = []\n",
    "n_pages = []\n",
    "\n",
    "# number of steps to take in random walk\n",
    "N = 1000\n",
    "\n",
    "for sab_page in tqdm(sab_pages):\n",
    "    pred = getSlugs(G.subgraph(random_walk(G, N, sab_page)))\n",
    "    p, r = evaluate(sab_pages, pred)\n",
    "    precisions.append(p)\n",
    "    recalls.append(r)\n",
    "    n_pages.append(len(pred))"
   ]
  },
  {
   "cell_type": "code",
   "execution_count": 12,
   "id": "10d2e455",
   "metadata": {
    "scrolled": true
   },
   "outputs": [
    {
     "data": {
      "image/png": "[encoded data removed]",
      "text/plain": [
       "<Figure size 1080x360 with 2 Axes>"
      ]
     },
     "metadata": {
      "needs_background": "light"
     },
     "output_type": "display_data"
    }
   ],
   "source": [
    "fig, ax = plt.subplots(1, 2, figsize=(15,5))\n",
    "ax[0].hist(precisions);\n",
    "ax[0].set_title(\"Precision\");\n",
    "ax[0].set_xlabel(\"Percentage\");\n",
    "ax[1].hist(recalls);\n",
    "ax[1].set_title(\"Recall\");\n",
    "ax[1].set_xlabel(\"Percentage\");"
   ]
  },
  {
   "cell_type": "markdown",
   "id": "be40dc1b",
   "metadata": {},
   "source": [
    "## Repeated random walk"
   ]
  },
  {
   "cell_type": "markdown",
   "id": "95835f1c",
   "metadata": {},
   "source": [
    "Let's use the 3 seed pages with the highest recall from the previous section as seed nodes, then perform M random walks beginning from each of these seed nodes. Hence, we get 3*M sets of pages. The union of these sets is used to define a set of pages related to the SaB WUJ."
   ]
  },
  {
   "cell_type": "code",
   "execution_count": 26,
   "id": "9e71bb6b",
   "metadata": {},
   "outputs": [
    {
     "data": {
      "text/plain": [
       "['/renew-your-trade-mark',\n",
       " '/using-somebody-elses-intellectual-property',\n",
       " '/marketing-advertising-law']"
      ]
     },
     "execution_count": 26,
     "metadata": {},
     "output_type": "execute_result"
    }
   ],
   "source": [
    "top3_sab_pages = sorted(list(zip(recalls, sab_pages)), key=lambda x: -x[0])[:3]\n",
    "top3_sab_pages = [x[1] for x in top3_sab_pages]\n",
    "top3_sab_pages"
   ]
  },
  {
   "cell_type": "code",
   "execution_count": 32,
   "id": "30e55426",
   "metadata": {},
   "outputs": [
    {
     "data": {
      "application/vnd.jupyter.widget-view+json": {
       "model_id": "8ac7a9b93fd849808938bbc418289bfd",
       "version_major": 2,
       "version_minor": 0
      },
      "text/plain": [
       "  0%|          | 0/3 [00:00<?, ?it/s]"
      ]
     },
     "metadata": {},
     "output_type": "display_data"
    },
    {
     "data": {
      "application/vnd.jupyter.widget-view+json": {
       "model_id": "23158075787942c3ba1259b955cb05de",
       "version_major": 2,
       "version_minor": 0
      },
      "text/plain": [
       "  0%|          | 0/1000 [00:00<?, ?it/s]"
      ]
     },
     "metadata": {},
     "output_type": "display_data"
    },
    {
     "data": {
      "application/vnd.jupyter.widget-view+json": {
       "model_id": "91a90870d3174c19baffc1df21d52a39",
       "version_major": 2,
       "version_minor": 0
      },
      "text/plain": [
       "  0%|          | 0/1000 [00:00<?, ?it/s]"
      ]
     },
     "metadata": {},
     "output_type": "display_data"
    },
    {
     "data": {
      "application/vnd.jupyter.widget-view+json": {
       "model_id": "2bdcad2102d34391bcb198bde35db683",
       "version_major": 2,
       "version_minor": 0
      },
      "text/plain": [
       "  0%|          | 0/1000 [00:00<?, ?it/s]"
      ]
     },
     "metadata": {},
     "output_type": "display_data"
    }
   ],
   "source": [
    "precisions = []\n",
    "recalls = []\n",
    "\n",
    "# number of times to initialise random walk from a given seed node\n",
    "M = 1000\n",
    "\n",
    "# number of steps to take in random walk\n",
    "N = 1000\n",
    "\n",
    "pages_visited = list()\n",
    "\n",
    "for sab_page in tqdm(top3_sab_pages):\n",
    "    for m in tqdm(range(M)):\n",
    "        pages_visited.extend(getSlugs(G.subgraph(random_walk(G, N, sab_page))))\n",
    "        \n",
    "pages_visited = list(set(pages_visited))\n",
    "        \n",
    "p, r = evaluate(sab_pages, pages_visited)"
   ]
  },
  {
   "cell_type": "code",
   "execution_count": 33,
   "id": "d6456e9b",
   "metadata": {},
   "outputs": [
    {
     "data": {
      "text/plain": [
       "(1.374588684852988, 84.640522875817, 18842)"
      ]
     },
     "execution_count": 33,
     "metadata": {},
     "output_type": "execute_result"
    }
   ],
   "source": [
    "p,r, len(pages_visited)"
   ]
  },
  {
   "cell_type": "code",
   "execution_count": 34,
   "id": "15e52890",
   "metadata": {},
   "outputs": [
    {
     "data": {
      "text/plain": [
       "259"
      ]
     },
     "execution_count": 34,
     "metadata": {},
     "output_type": "execute_result"
    }
   ],
   "source": [
    "len(set(pages_visited).intersection(set(sab_pages)))"
   ]
  },
  {
   "cell_type": "code",
   "execution_count": null,
   "id": "73ebb4d5",
   "metadata": {},
   "outputs": [],
   "source": []
  }
 ],
 "metadata": {
  "kernelspec": {
   "display_name": "Python 3",
   "language": "python",
   "name": "python3"
  },
  "language_info": {
   "codemirror_mode": {
    "name": "ipython",
    "version": 3
   },
   "file_extension": ".py",
   "mimetype": "text/x-python",
   "name": "python",
   "nbconvert_exporter": "python",
   "pygments_lexer": "ipython3",
   "version": "3.8.8"
  }
 },
 "nbformat": 4,
 "nbformat_minor": 5
}
