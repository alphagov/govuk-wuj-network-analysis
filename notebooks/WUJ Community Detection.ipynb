{
 "cells": [
  {
   "cell_type": "markdown",
   "id": "7e476570",
   "metadata": {},
   "source": [
    "# Community detection for identifying WUJ pages"
   ]
  },
  {
   "cell_type": "markdown",
   "id": "e16f390c",
   "metadata": {},
   "source": [
    "### Read graph"
   ]
  },
  {
   "cell_type": "code",
   "execution_count": 74,
   "id": "72421428",
   "metadata": {},
   "outputs": [],
   "source": [
    "import matplotlib.pyplot as plt\n",
    "import networkx as nx\n",
    "import numpy as np\n",
    "import pandas as pd\n",
    "from tqdm.notebook import tqdm"
   ]
  },
  {
   "cell_type": "code",
   "execution_count": 136,
   "id": "19fb8a55",
   "metadata": {},
   "outputs": [],
   "source": [
    "# get networkx graph\n",
    "G = nx.read_gpickle(\"../data/processed/5_hits_per_contentID_graph.gpickle\")\n",
    "\n",
    "# get undirected version of G\n",
    "GU = G.to_undirected()\n",
    "\n",
    "# get SaB pages\n",
    "sab_pages = pd.read_csv(\"../data/processed/sab_pages.csv\").pagePath.tolist()\n",
    "\n",
    "# get adjacency matrix of G\n",
    "A = nx.adj_matrix(G, weight=None)\n",
    "\n",
    "# get adjacency matrix of GU\n",
    "AU = nx.adj_matrix(G, weight=None)"
   ]
  },
  {
   "cell_type": "markdown",
   "id": "bd597167",
   "metadata": {},
   "source": [
    "### Helper functions"
   ]
  },
  {
   "cell_type": "code",
   "execution_count": 83,
   "id": "b0c54d3b",
   "metadata": {},
   "outputs": [],
   "source": [
    "def evaluate(true_pages, predicted_pages):\n",
    "    '''\n",
    "    true_pages is a list of all the pages known to belong to a WUJ\n",
    "    predicted_pages ia a list of pages predicted to belong to a WUJ\n",
    "    \n",
    "    returns precision and recall as percentages\n",
    "    '''\n",
    "    \n",
    "    true_pages = set(true_pages)\n",
    "    predicted_pages = set(predicted_pages)\n",
    "    \n",
    "    # what proportion of true pages were correctly predicted?\n",
    "    recall = len(true_pages.intersection(predicted_pages))/len(true_pages)*100\n",
    "    \n",
    "    # what proportion of predicted pages are true pages?\n",
    "    precision = len(true_pages.intersection(predicted_pages))/len(predicted_pages)*100\n",
    "    \n",
    "    return (precision, recall)\n",
    "\n",
    "def getSlugs(G):\n",
    "    '''\n",
    "    Returns a list of slugs, given a networkx graph G.\n",
    "    '''\n",
    "    return [node[1]['properties']['name'] for node in G.nodes(data=True)]\n",
    "\n",
    "def showGraph(G, figsize=None):\n",
    "    '''\n",
    "    Prints graph information and plots the graph, G.\n",
    "    Takes figsize as input, a tuple, e.g. (10,10)\n",
    "    '''\n",
    "    print(nx.info(G))\n",
    "    plt.figure(figsize=(figsize))\n",
    "    nx.draw(G)"
   ]
  },
  {
   "cell_type": "markdown",
   "id": "87004e74",
   "metadata": {},
   "source": [
    "### Brief analysis of network structure"
   ]
  },
  {
   "cell_type": "markdown",
   "id": "e359909d",
   "metadata": {},
   "source": [
    "#### Size of connected components"
   ]
  },
  {
   "cell_type": "markdown",
   "id": "70bd70bc",
   "metadata": {},
   "source": [
    "Strongly connected components in the entire subgraph:"
   ]
  },
  {
   "cell_type": "code",
   "execution_count": 119,
   "id": "c24ccbb0",
   "metadata": {
    "scrolled": true
   },
   "outputs": [
    {
     "data": {
      "text/plain": [
       "[34541, 66, 40, 37, 28, 22, 21, 18, 18, 18]"
      ]
     },
     "execution_count": 119,
     "metadata": {},
     "output_type": "execute_result"
    }
   ],
   "source": [
    "strong_components = [G.subgraph(c) for c in nx.strongly_connected_components(G)]\n",
    "sorted([g.number_of_nodes() for g in strong_components], reverse=True)[:10]"
   ]
  },
  {
   "cell_type": "code",
   "execution_count": 118,
   "id": "7d0398a0",
   "metadata": {
    "scrolled": true
   },
   "outputs": [
    {
     "name": "stdout",
     "output_type": "stream",
     "text": [
      "Name: \n",
      "Type: MultiDiGraph\n",
      "Number of nodes: 53237\n",
      "Number of edges: 400337\n",
      "Average in degree:   7.5199\n",
      "Average out degree:   7.5199\n"
     ]
    }
   ],
   "source": [
    "print(nx.info(G))"
   ]
  },
  {
   "cell_type": "markdown",
   "id": "61b478ef",
   "metadata": {},
   "source": [
    "There is one large mass of 34,541 nodes, leaving 18,696 nodes in smaller connected components. Hence, viewing the graph as directed leaves much of the graph inaccessible if random walks are initialised in the largest connected component."
   ]
  },
  {
   "cell_type": "markdown",
   "id": "e2976684",
   "metadata": {},
   "source": [
    "Weakly connected components in the entire subgraph:"
   ]
  },
  {
   "cell_type": "code",
   "execution_count": 120,
   "id": "c1a5f278",
   "metadata": {},
   "outputs": [
    {
     "data": {
      "text/plain": [
       "[51639, 49, 24, 14, 10, 9, 9, 9, 8, 8]"
      ]
     },
     "execution_count": 120,
     "metadata": {},
     "output_type": "execute_result"
    }
   ],
   "source": [
    "weak_components = [G.subgraph(c) for c in nx.weakly_connected_components(G)]\n",
    "sorted([g.number_of_nodes() for g in weak_components], reverse=True)[:10]"
   ]
  },
  {
   "cell_type": "markdown",
   "id": "7f5ec749",
   "metadata": {},
   "source": [
    "Ignoring edge direction groups together 97% of the nodes into a single component, meaning very few nodes are inaccesible if a random walk is initialised in the largest component."
   ]
  },
  {
   "cell_type": "markdown",
   "id": "c5cd115b",
   "metadata": {},
   "source": [
    "Let's examine sab pages now."
   ]
  },
  {
   "cell_type": "code",
   "execution_count": 121,
   "id": "3fbe3aa3",
   "metadata": {
    "scrolled": false
   },
   "outputs": [
    {
     "data": {
      "text/plain": [
       "[198, 10, 6, 3, 3, 3, 3, 2, 2, 2]"
      ]
     },
     "execution_count": 121,
     "metadata": {},
     "output_type": "execute_result"
    }
   ],
   "source": [
    "strong_sab_components = [sab_graph.subgraph(c) for c in nx.strongly_connected_components(sab_graph)]\n",
    "sorted([g.number_of_nodes() for g in strong_sab_components], reverse=True)[:10]"
   ]
  },
  {
   "cell_type": "code",
   "execution_count": 122,
   "id": "f64b7436",
   "metadata": {},
   "outputs": [
    {
     "data": {
      "text/plain": [
       "[273, 16, 3, 2, 2, 1, 1, 1, 1, 1]"
      ]
     },
     "execution_count": 122,
     "metadata": {},
     "output_type": "execute_result"
    }
   ],
   "source": [
    "weak_sab_components = [sab_graph.subgraph(c) for c in nx.weakly_connected_components(sab_graph)]\n",
    "sorted([g.number_of_nodes() for g in weak_sab_components], reverse=True)[:10]"
   ]
  },
  {
   "cell_type": "markdown",
   "id": "7c200280",
   "metadata": {},
   "source": [
    "If a random walk were only to visit nodes within the SaB WUJ, some nodes will be accessible whether edge direction is ignored or not. Hence, a random walk either needs to be able to leave the space of SaB pages, in order to traverse to smaller components, or be able to perturb its position and land in another component of SaB pages.\n",
    "\n",
    "89% of pages are within the largest weakly connected component, hence, a random walk will potentially have more ease in finding SaB pages on an undirected graph than a directed graph."
   ]
  },
  {
   "cell_type": "code",
   "execution_count": 133,
   "id": "d433a9a0",
   "metadata": {
    "scrolled": false
   },
   "outputs": [
    {
     "name": "stdout",
     "output_type": "stream",
     "text": [
      "Name: \n",
      "Type: MultiDiGraph\n",
      "Number of nodes: 306\n",
      "Number of edges: 3268\n",
      "Average in degree:  10.6797\n",
      "Average out degree:  10.6797\n"
     ]
    },
    {
     "data": {
      "image/png": "[encoded data removed]",
      "text/plain": [
       "<Figure size 576x576 with 1 Axes>"
      ]
     },
     "metadata": {},
     "output_type": "display_data"
    }
   ],
   "source": [
    "sab_graph = G.subgraph([node[0] for node in G.nodes(data=True) if node[1]['properties']['name'] in sab_pages])\n",
    "showGraph(sab_graph, figsize=(8,8))"
   ]
  },
  {
   "cell_type": "code",
   "execution_count": 134,
   "id": "39a79cc9",
   "metadata": {},
   "outputs": [
    {
     "name": "stdout",
     "output_type": "stream",
     "text": [
      "Name: \n",
      "Type: MultiGraph\n",
      "Number of nodes: 306\n",
      "Number of edges: 3268\n",
      "Average degree:  21.3595\n"
     ]
    },
    {
     "data": {
      "image/png": "[encoded data removed]",
      "text/plain": [
       "<Figure size 576x576 with 1 Axes>"
      ]
     },
     "metadata": {},
     "output_type": "display_data"
    }
   ],
   "source": [
    "GU = G.to_undirected()\n",
    "sab_graph_U = GU.subgraph([node[0] for node in GU.nodes(data=True) if node[1]['properties']['name'] in sab_pages])\n",
    "showGraph(sab_graph_U, figsize=(8,8))"
   ]
  },
  {
   "cell_type": "markdown",
   "id": "ceb3523f",
   "metadata": {},
   "source": [
    "# Random walks"
   ]
  },
  {
   "cell_type": "code",
   "execution_count": 262,
   "id": "e89dfcf4",
   "metadata": {},
   "outputs": [],
   "source": [
    "def random_walk(A, G, steps, seed, p=False, nodeData=False):\n",
    "    '''\n",
    "    A is an adjacency matrix, or a transition probability matrix. These should be CSR sparse matrices.\n",
    "    Set p=True if using a transition probability matrix.\n",
    "    G is a networkx graph.\n",
    "    steps is the number of steps to take in the random walk.\n",
    "    seed is a page slug for your starting node in the random walk. E.g. \"/set-up-business\" \n",
    "    \n",
    "    returns a numpy array of node ids visited during the random walk.\n",
    "    can return numpy array of nodes with their data if nodeData == True\n",
    "    '''\n",
    "\n",
    "    # set a seed node\n",
    "    foundSeed = False\n",
    "    for current_node_index, node in enumerate(G.nodes(data=True)):\n",
    "        if node[1][\"properties\"][\"name\"] == seed:\n",
    "            foundSeed = True\n",
    "            break\n",
    "    \n",
    "    if not foundSeed:\n",
    "        print(\"Could not find seed node: {}\".format(seed))\n",
    "        return\n",
    "\n",
    "    # list of nodes visited during the random walk\n",
    "    visited = [current_node_index]\n",
    "    \n",
    "    transition_probs = None\n",
    "\n",
    "    for step in range(steps):\n",
    "\n",
    "        # identify neighbours of current node\n",
    "        neighbours = np.nonzero(A[current_node_index])[1]\n",
    "\n",
    "        # if reached an absorbing state, i.e. no neighbours, then terminate the random walk\n",
    "        if neighbours.size == 0:\n",
    "            #print(\"Reached absorbing state after\", step, \"steps\")\n",
    "            visited = list(set(visited))\n",
    "            return np.array(G.nodes(data=nodeData))[visited]\n",
    "        \n",
    "        # if using transition probabilities, get them\n",
    "        if p:\n",
    "            transition_probs = A[current_node_index].toarray()[0, neighbours]\n",
    "            #transition_probs = A[current_node_index, neighbours].toarray()[0]\n",
    "        \n",
    "        # select the index of next node to transition to\n",
    "        current_node_index = np.random.choice(neighbours, p=transition_probs)\n",
    "\n",
    "        # maintain record of the path taken by the random walk\n",
    "        visited.append(current_node_index)\n",
    "    \n",
    "    # return unique pages visited\n",
    "    visited = list(set(visited))\n",
    "        \n",
    "    return np.array(G.nodes(data=nodeData))[visited]"
   ]
  },
  {
   "cell_type": "code",
   "execution_count": 78,
   "id": "e801ff05",
   "metadata": {},
   "outputs": [],
   "source": [
    "def random_walk_T(T, G, steps, seed, nodeData=False):\n",
    "    '''\n",
    "    T is transition probability matrix.\n",
    "    G is a networkx graph.\n",
    "    steps is the number of steps to take in the random walk.\n",
    "    seed is a page slug for your starting node in the random walk. E.g. \"/set-up-business\" \n",
    "    \n",
    "    returns a numpy array of node ids visited during the random walk.\n",
    "    can return numpy array of nodes with their data if nodeData == True\n",
    "    '''\n",
    "\n",
    "    # set a seed node\n",
    "    foundSeed = False\n",
    "    for current_node_index, node in enumerate(G.nodes(data=True)):\n",
    "        if node[1][\"properties\"][\"name\"] == seed:\n",
    "            foundSeed = True\n",
    "            break\n",
    "    \n",
    "    if not foundSeed:\n",
    "        print(\"Could not find seed node: {}\".format(seed))\n",
    "        return\n",
    "    \n",
    "    # list of nodes visited during the random walk\n",
    "    visited = [current_node_index]\n",
    "\n",
    "    for step in range(steps):\n",
    "\n",
    "        # identify neighbours of current node\n",
    "        neighbours = np.nonzero(T[current_node_index])[1]\n",
    "\n",
    "        # if reached an absorbing state, i.e. no neighbours, then terminate the random walk\n",
    "        if neighbours.size == 0:\n",
    "            #print(\"Reached absorbing state after\", step, \"steps\")\n",
    "            visited = list(set(visited))\n",
    "            return np.array(G.nodes(data=nodeData))[visited]\n",
    "        \n",
    "        # select the index of next node to transition to\n",
    "        current_node_index = np.random.choice(neighbours,\n",
    "                                              p=T[current_node_index, neighbours].toarray()[0])\n",
    "            \n",
    "            \n",
    "        # maintain record of the path taken by the random walk\n",
    "        visited.append(current_node_index)\n",
    "    \n",
    "    # return unique pages visited\n",
    "    visited = list(set(visited))\n",
    "        \n",
    "    return np.array(G.nodes(data=nodeData))[visited]"
   ]
  },
  {
   "cell_type": "markdown",
   "id": "49a11566",
   "metadata": {},
   "source": [
    "## Naive random walk"
   ]
  },
  {
   "cell_type": "markdown",
   "id": "000d7b87",
   "metadata": {},
   "source": [
    "Here we're testing the most basic form of random walk, in which a random walk is initialised from a seed page, thereafter successively transitioning to neighbouring nodes, with uniformly distributed transition probabilities. One random walk is initialised per seed node. Each \"start a business\" page is used as a seed node. The precision and recall of the random walks starting from each of these seed nodes is computed."
   ]
  },
  {
   "cell_type": "code",
   "execution_count": 140,
   "id": "a2c0a910",
   "metadata": {},
   "outputs": [
    {
     "data": {
      "application/vnd.jupyter.widget-view+json": {
       "model_id": "0e928afad0f1456db971bf9f4347e9d6",
       "version_major": 2,
       "version_minor": 0
      },
      "text/plain": [
       "  0%|          | 0/306 [00:00<?, ?it/s]"
      ]
     },
     "metadata": {},
     "output_type": "display_data"
    },
    {
     "data": {
      "image/png": "[encoded data removed]",
      "text/plain": [
       "<Figure size 1080x360 with 2 Axes>"
      ]
     },
     "metadata": {
      "needs_background": "light"
     },
     "output_type": "display_data"
    }
   ],
   "source": [
    "precisions = []\n",
    "recalls = []\n",
    "\n",
    "# number of steps to take in random walk\n",
    "N = 1000\n",
    "\n",
    "for sab_page in tqdm(sab_pages):\n",
    "    pred = getSlugs(G.subgraph(random_walk(A, G, N, sab_page)))\n",
    "    p, r = evaluate(sab_pages, pred)\n",
    "    precisions.append(p)\n",
    "    recalls.append(r)\n",
    "    \n",
    "fig, ax = plt.subplots(1, 2, figsize=(15,5))\n",
    "ax[0].hist(precisions);\n",
    "ax[0].set_title(\"Precision\");\n",
    "ax[0].set_xlabel(\"Percentage\");\n",
    "ax[1].hist(recalls);\n",
    "ax[1].set_title(\"Recall\");\n",
    "ax[1].set_xlabel(\"Percentage\");"
   ]
  },
  {
   "cell_type": "markdown",
   "id": "0d54577a",
   "metadata": {},
   "source": [
    "Precision and recall are typically around 10% and 1%, respectively."
   ]
  },
  {
   "cell_type": "markdown",
   "id": "f9313d6c",
   "metadata": {},
   "source": [
    "### Seed node analysis"
   ]
  },
  {
   "cell_type": "markdown",
   "id": "0394fe7a",
   "metadata": {},
   "source": [
    "Which seed nodes recalled the most SaB pages? Here is the top 10:"
   ]
  },
  {
   "cell_type": "code",
   "execution_count": 46,
   "id": "11074ed1",
   "metadata": {},
   "outputs": [
    {
     "data": {
      "text/plain": [
       "[(7.18954248366013, '/closing-a-limited-company'),\n",
       " (6.862745098039216, '/health-and-safety-for-farm-vehicles'),\n",
       " (5.228758169934641, '/send-vat-return'),\n",
       " (4.901960784313726, '/calculate-your-business-rates'),\n",
       " (4.57516339869281, '/special-training-ratings-officers'),\n",
       " (4.57516339869281, '/renew-patent'),\n",
       " (4.248366013071895, '/creative-works-licence'),\n",
       " (4.248366013071895, '/hazardous-waste-producer-registration-wales'),\n",
       " (4.248366013071895, '/online-and-distance-selling-for-businesses'),\n",
       " (4.248366013071895, '/skip-licence-scotland')]"
      ]
     },
     "execution_count": 46,
     "metadata": {},
     "output_type": "execute_result"
    }
   ],
   "source": [
    "sorted(list(zip(recalls, sab_pages)), key=lambda x: -x[0])[:10]"
   ]
  },
  {
   "cell_type": "markdown",
   "id": "8438eb4b",
   "metadata": {},
   "source": [
    "Since only one random walk is initialised per seed node, these results could happen by chance. Hence, we now initialise multiple random walks per seed node. Then, compute the average precision and recall per seed node, to see if a particular node does best on average."
   ]
  },
  {
   "cell_type": "code",
   "execution_count": 145,
   "id": "0ec4ad60",
   "metadata": {},
   "outputs": [
    {
     "data": {
      "application/vnd.jupyter.widget-view+json": {
       "model_id": "4d2e235e5f8e4ce4a1276d36f1f70762",
       "version_major": 2,
       "version_minor": 0
      },
      "text/plain": [
       "  0%|          | 0/306 [00:00<?, ?it/s]"
      ]
     },
     "metadata": {},
     "output_type": "display_data"
    },
    {
     "ename": "KeyboardInterrupt",
     "evalue": "",
     "output_type": "error",
     "traceback": [
      "\u001b[1;31m---------------------------------------------------------------------------\u001b[0m",
      "\u001b[1;31mKeyboardInterrupt\u001b[0m                         Traceback (most recent call last)",
      "\u001b[1;32m<ipython-input-145-176dbc5a228c>\u001b[0m in \u001b[0;36m<module>\u001b[1;34m\u001b[0m\n\u001b[0;32m     26\u001b[0m \u001b[1;33m\u001b[0m\u001b[0m\n\u001b[0;32m     27\u001b[0m     \u001b[1;32mfor\u001b[0m \u001b[0mrepeat\u001b[0m \u001b[1;32min\u001b[0m \u001b[0mrange\u001b[0m\u001b[1;33m(\u001b[0m\u001b[0mrepeats\u001b[0m\u001b[1;33m)\u001b[0m\u001b[1;33m:\u001b[0m\u001b[1;33m\u001b[0m\u001b[1;33m\u001b[0m\u001b[0m\n\u001b[1;32m---> 28\u001b[1;33m         \u001b[0mpred\u001b[0m \u001b[1;33m=\u001b[0m \u001b[0mgetSlugs\u001b[0m\u001b[1;33m(\u001b[0m\u001b[0mG\u001b[0m\u001b[1;33m.\u001b[0m\u001b[0msubgraph\u001b[0m\u001b[1;33m(\u001b[0m\u001b[0mrandom_walk\u001b[0m\u001b[1;33m(\u001b[0m\u001b[0mA\u001b[0m\u001b[1;33m,\u001b[0m \u001b[0mG\u001b[0m\u001b[1;33m,\u001b[0m \u001b[0mN\u001b[0m\u001b[1;33m,\u001b[0m \u001b[0msab_page\u001b[0m\u001b[1;33m)\u001b[0m\u001b[1;33m)\u001b[0m\u001b[1;33m)\u001b[0m\u001b[1;33m\u001b[0m\u001b[1;33m\u001b[0m\u001b[0m\n\u001b[0m\u001b[0;32m     29\u001b[0m         \u001b[0mp\u001b[0m\u001b[1;33m,\u001b[0m \u001b[0mr\u001b[0m \u001b[1;33m=\u001b[0m \u001b[0mevaluate\u001b[0m\u001b[1;33m(\u001b[0m\u001b[0msab_pages\u001b[0m\u001b[1;33m,\u001b[0m \u001b[0mpred\u001b[0m\u001b[1;33m)\u001b[0m\u001b[1;33m\u001b[0m\u001b[1;33m\u001b[0m\u001b[0m\n\u001b[0;32m     30\u001b[0m         \u001b[0mps\u001b[0m\u001b[1;33m.\u001b[0m\u001b[0mappend\u001b[0m\u001b[1;33m(\u001b[0m\u001b[0mp\u001b[0m\u001b[1;33m)\u001b[0m\u001b[1;33m\u001b[0m\u001b[1;33m\u001b[0m\u001b[0m\n",
      "\u001b[1;32m<ipython-input-77-022701912b5e>\u001b[0m in \u001b[0;36mrandom_walk\u001b[1;34m(A, G, steps, seed, nodeData)\u001b[0m\n\u001b[0;32m     34\u001b[0m \u001b[1;33m\u001b[0m\u001b[0m\n\u001b[0;32m     35\u001b[0m         \u001b[1;31m# randomly select the index of next node to transition to\u001b[0m\u001b[1;33m\u001b[0m\u001b[1;33m\u001b[0m\u001b[1;33m\u001b[0m\u001b[0m\n\u001b[1;32m---> 36\u001b[1;33m         \u001b[0mcurrent_node_index\u001b[0m \u001b[1;33m=\u001b[0m \u001b[0mnp\u001b[0m\u001b[1;33m.\u001b[0m\u001b[0mrandom\u001b[0m\u001b[1;33m.\u001b[0m\u001b[0mchoice\u001b[0m\u001b[1;33m(\u001b[0m\u001b[0mneighbours\u001b[0m\u001b[1;33m)\u001b[0m\u001b[1;33m\u001b[0m\u001b[1;33m\u001b[0m\u001b[0m\n\u001b[0m\u001b[0;32m     37\u001b[0m \u001b[1;33m\u001b[0m\u001b[0m\n\u001b[0;32m     38\u001b[0m         \u001b[1;31m# maintain record of the path taken by the random walk\u001b[0m\u001b[1;33m\u001b[0m\u001b[1;33m\u001b[0m\u001b[1;33m\u001b[0m\u001b[0m\n",
      "\u001b[1;31mKeyboardInterrupt\u001b[0m: "
     ]
    }
   ],
   "source": [
    "# these lists will be lists of lists, where each sublist\n",
    "# contains the precisions and recalls of the repeat random walks\n",
    "# for a given seed node. e.g.\n",
    "\n",
    "#                  sab_page_1       sab_page_2              sab_page_n\n",
    "# precisions = [[0.1,0.15,0.12], [0.2,0.19,0.21], . . ., [0.3, 0.25, 0.12]]\n",
    "\n",
    "#                                               sab_page_1  sab_page_2    sab_page_n\n",
    "# then we can compute averages: avg_precisions = [0.123,      0.199, . . ., 0.223]\n",
    "\n",
    "precisions = []\n",
    "recalls = []\n",
    "\n",
    "# number of steps to take in random walk\n",
    "N = 1000\n",
    "\n",
    "# number of repeats per seed node\n",
    "repeats = 100\n",
    "\n",
    "for sab_page in tqdm(sab_pages):\n",
    "    \n",
    "    # to store the precision and recall scores\n",
    "    # per seed page, for each repeat\n",
    "    ps = []\n",
    "    rs = []\n",
    "    \n",
    "    for repeat in range(repeats):\n",
    "        pred = getSlugs(G.subgraph(random_walk(A, G, N, sab_page)))\n",
    "        p, r = evaluate(sab_pages, pred)\n",
    "        ps.append(p)\n",
    "        rs.append(r)\n",
    "        \n",
    "    precisions.append(ps)\n",
    "    recalls.append(rs)"
   ]
  },
  {
   "cell_type": "code",
   "execution_count": 76,
   "id": "6d8a57ca",
   "metadata": {
    "scrolled": true
   },
   "outputs": [
    {
     "data": {
      "image/png": "[encoded data removed]",
      "text/plain": [
       "<Figure size 1080x360 with 2 Axes>"
      ]
     },
     "metadata": {
      "needs_background": "light"
     },
     "output_type": "display_data"
    }
   ],
   "source": [
    "avg_recalls = [np.median(r) for r in recalls]\n",
    "avg_precisions = [np.median(p) for p in precisions]\n",
    "\n",
    "fig, ax = plt.subplots(1, 2, figsize=(15,5))\n",
    "ax[0].hist(avg_precisions);\n",
    "ax[0].set_title(\"Median Precision\");\n",
    "ax[0].set_xlabel(\"Percentage\");\n",
    "ax[1].hist(avg_recalls);\n",
    "ax[1].set_title(\"Median Recall\");\n",
    "ax[1].set_xlabel(\"Percentage\");"
   ]
  },
  {
   "cell_type": "markdown",
   "id": "7de26272",
   "metadata": {},
   "source": [
    "An average random walk scores 11% on precision and 1% on recall of SaB pages. The following seed pages perform best:"
   ]
  },
  {
   "cell_type": "code",
   "execution_count": 80,
   "id": "24a0f753",
   "metadata": {
    "scrolled": true
   },
   "outputs": [
    {
     "data": {
      "text/plain": [
       "[(1.9607843137254901, '/food-premises-approval-northern-ireland'),\n",
       " (1.7973856209150327, '/food-premises-approval-scotland'),\n",
       " (1.6339869281045754, '/doorstep-selling-regulations'),\n",
       " (1.6339869281045754, '/road-occupation-licence-for-building-work'),\n",
       " (1.6339869281045754, '/cattle-movement-notification-wales'),\n",
       " (1.6339869281045754, '/sqa-qualifications-approval-scotland'),\n",
       " (1.6339869281045754, '/check-the-design-journal'),\n",
       " (1.6339869281045754, '/company-voluntary-arrangements'),\n",
       " (1.6339869281045754, '/food-premises-approval'),\n",
       " (1.6339869281045754, '/food-safety-hazard-analysis')]"
      ]
     },
     "execution_count": 80,
     "metadata": {},
     "output_type": "execute_result"
    }
   ],
   "source": [
    "sorted(list(zip(avg_recalls, sab_pages)), key=lambda x: -x[0])[:10]"
   ]
  },
  {
   "cell_type": "markdown",
   "id": "c8d6ff06",
   "metadata": {},
   "source": []
  },
  {
   "cell_type": "code",
   "execution_count": 42,
   "id": "ebea67c0",
   "metadata": {
    "scrolled": true
   },
   "outputs": [
    {
     "data": {
      "image/png": "[encoded data removed]",
      "text/plain": [
       "<Figure size 432x288 with 1 Axes>"
      ]
     },
     "metadata": {
      "needs_background": "light"
     },
     "output_type": "display_data"
    }
   ],
   "source": [
    "for res in results[::50]:\n",
    "    plt.hist(res[1], alpha=0.5);\n",
    "plt.title(\"Recall histograms for sample of seed pages\");\n",
    "plt.xlabel(\"Percentage\");"
   ]
  },
  {
   "cell_type": "markdown",
   "id": "be40dc1b",
   "metadata": {},
   "source": [
    "## Repeated random walk"
   ]
  },
  {
   "cell_type": "markdown",
   "id": "95835f1c",
   "metadata": {},
   "source": [
    "Let's use the 3 seed pages with the highest recall from the previous section as seed nodes, then perform M random walks beginning from each of these seed nodes. Hence, we get 3*M sets of pages. The union of these sets is used to define a set of pages related to the SaB WUJ."
   ]
  },
  {
   "cell_type": "code",
   "execution_count": 43,
   "id": "9e71bb6b",
   "metadata": {},
   "outputs": [
    {
     "data": {
      "text/plain": [
       "['/closing-a-limited-company',\n",
       " '/health-and-safety-for-farm-vehicles',\n",
       " '/send-vat-return']"
      ]
     },
     "execution_count": 43,
     "metadata": {},
     "output_type": "execute_result"
    }
   ],
   "source": [
    "top3_sab_pages = sorted(list(zip(recalls, sab_pages)), key=lambda x: -x[0])[:3]\n",
    "top3_sab_pages = [x[1] for x in top3_sab_pages]\n",
    "top3_sab_pages"
   ]
  },
  {
   "cell_type": "code",
   "execution_count": 146,
   "id": "6c7db315",
   "metadata": {},
   "outputs": [],
   "source": [
    "top3_sab_pages = ['/closing-a-limited-company',\n",
    "                  '/health-and-safety-for-farm-vehicles',\n",
    "                  '/send-vat-return']"
   ]
  },
  {
   "cell_type": "code",
   "execution_count": 150,
   "id": "30e55426",
   "metadata": {},
   "outputs": [
    {
     "data": {
      "application/vnd.jupyter.widget-view+json": {
       "model_id": "af45d121833b499f93481c68af293aef",
       "version_major": 2,
       "version_minor": 0
      },
      "text/plain": [
       "  0%|          | 0/3 [00:00<?, ?it/s]"
      ]
     },
     "metadata": {},
     "output_type": "display_data"
    },
    {
     "data": {
      "application/vnd.jupyter.widget-view+json": {
       "model_id": "b66d9288ec5f4c9b8482daf39f06fa50",
       "version_major": 2,
       "version_minor": 0
      },
      "text/plain": [
       "  0%|          | 0/100 [00:00<?, ?it/s]"
      ]
     },
     "metadata": {},
     "output_type": "display_data"
    },
    {
     "data": {
      "application/vnd.jupyter.widget-view+json": {
       "model_id": "941dc882ea5f4f909d44d2dde603a7ff",
       "version_major": 2,
       "version_minor": 0
      },
      "text/plain": [
       "  0%|          | 0/100 [00:00<?, ?it/s]"
      ]
     },
     "metadata": {},
     "output_type": "display_data"
    },
    {
     "data": {
      "application/vnd.jupyter.widget-view+json": {
       "model_id": "69f2f743c4f34668b2b9e36becd7454a",
       "version_major": 2,
       "version_minor": 0
      },
      "text/plain": [
       "  0%|          | 0/100 [00:00<?, ?it/s]"
      ]
     },
     "metadata": {},
     "output_type": "display_data"
    }
   ],
   "source": [
    "# number of times to initialise random walk from a given seed node\n",
    "M = 100\n",
    "\n",
    "# number of steps to take in random walk\n",
    "N = 1000\n",
    "\n",
    "pages_visited = list()\n",
    "\n",
    "for sab_page in tqdm(top3_sab_pages):\n",
    "    for m in tqdm(range(M)):\n",
    "        pages_visited.extend(getSlugs(G.subgraph(random_walk(AU, GU, N, sab_page))))\n",
    "        \n",
    "pages_visited = list(set(pages_visited))\n",
    "        \n",
    "p, r = evaluate(sab_pages, pages_visited)"
   ]
  },
  {
   "cell_type": "code",
   "execution_count": 151,
   "id": "d6456e9b",
   "metadata": {},
   "outputs": [
    {
     "data": {
      "text/plain": [
       "(2.375580623755806, 58.496732026143796, 7535)"
      ]
     },
     "execution_count": 151,
     "metadata": {},
     "output_type": "execute_result"
    }
   ],
   "source": [
    "p,r, len(pages_visited)"
   ]
  },
  {
   "cell_type": "code",
   "execution_count": 152,
   "id": "15e52890",
   "metadata": {
    "scrolled": false
   },
   "outputs": [
    {
     "data": {
      "text/plain": [
       "179"
      ]
     },
     "execution_count": 152,
     "metadata": {},
     "output_type": "execute_result"
    }
   ],
   "source": [
    "len(set(pages_visited).intersection(set(sab_pages)))"
   ]
  },
  {
   "cell_type": "markdown",
   "id": "6b2bb839",
   "metadata": {},
   "source": [
    "With these seed nodes, recall is 60.78%, precision is 2.4%. In other words, 186 out of 306 SaB pages were found, but a set of 7678 pages needed to be collected to find those pages."
   ]
  },
  {
   "cell_type": "markdown",
   "id": "f76ba386",
   "metadata": {},
   "source": [
    "### Seed node sensitivity"
   ]
  },
  {
   "cell_type": "markdown",
   "id": "05849b78",
   "metadata": {},
   "source": [
    "We need to know how sensitive results are to the choice of seed nodes. Hence, we take all combinations of 3 seed nodes and repeat the above experiment. Since there are $_{306}C_3=4728720$ combinations, we'll do this on a random sample of these combinations."
   ]
  },
  {
   "cell_type": "code",
   "execution_count": 108,
   "id": "e0915a81",
   "metadata": {},
   "outputs": [
    {
     "data": {
      "text/plain": [
       "4728720"
      ]
     },
     "execution_count": 108,
     "metadata": {},
     "output_type": "execute_result"
    }
   ],
   "source": [
    "len(list(combinations(sab_pages,3)))"
   ]
  },
  {
   "cell_type": "code",
   "execution_count": 155,
   "id": "db384b0e",
   "metadata": {},
   "outputs": [],
   "source": [
    "from itertools import combinations\n",
    "from random import sample\n",
    "sab_samples = sample(list(combinations(sab_pages,3)),20)"
   ]
  },
  {
   "cell_type": "code",
   "execution_count": 111,
   "id": "36de3e32",
   "metadata": {},
   "outputs": [
    {
     "data": {
      "application/vnd.jupyter.widget-view+json": {
       "model_id": "6e2b811a5ddf42f18d727f4d77301e99",
       "version_major": 2,
       "version_minor": 0
      },
      "text/plain": [
       "  0%|          | 0/20 [00:00<?, ?it/s]"
      ]
     },
     "metadata": {},
     "output_type": "display_data"
    }
   ],
   "source": [
    "precisions = []\n",
    "recalls = []\n",
    "\n",
    "# number of times to initialise random walk from a given seed node\n",
    "M = 100\n",
    "\n",
    "# number of steps to take in random walk\n",
    "N = 1000\n",
    "\n",
    "for sab_sample in tqdm(sab_samples):\n",
    "    \n",
    "    pages_visited = list()\n",
    "    \n",
    "    for sab_page in sab_sample:\n",
    "        for m in range(M):\n",
    "            pages_visited.extend(getSlugs(G.subgraph(random_walk(A, G, N, sab_page))))\n",
    "\n",
    "    pages_visited = list(set(pages_visited))\n",
    "\n",
    "    p, r = evaluate(sab_pages, pages_visited)\n",
    "    \n",
    "    precisions.append((sab_sample,p))\n",
    "    recalls.append((sab_sample,r))"
   ]
  },
  {
   "cell_type": "code",
   "execution_count": 130,
   "id": "6d3c3653",
   "metadata": {
    "scrolled": false
   },
   "outputs": [
    {
     "data": {
      "image/png": "[encoded data removed]",
      "text/plain": [
       "<Figure size 1080x360 with 2 Axes>"
      ]
     },
     "metadata": {
      "needs_background": "light"
     },
     "output_type": "display_data"
    }
   ],
   "source": [
    "fig, ax = plt.subplots(1, 2, figsize=(15,5))\n",
    "ax[0].hist([p[1] for p in precisions]);\n",
    "ax[0].set_title(\"Precision per seed node combination\");\n",
    "ax[0].set_xlabel(\"Percentage\");\n",
    "ax[1].hist([r[1] for r in recalls]);\n",
    "ax[1].set_title('Recall per seed node combination');\n",
    "ax[1].set_xlabel('Percentage');"
   ]
  },
  {
   "cell_type": "markdown",
   "id": "19bc4820",
   "metadata": {},
   "source": [
    "Precision is not highly sensitive to the choice of seed nodes, but recall is. Recall ranges from 47% to 67%, but an average recall is 60%. This suggests a strategy for finding \"good\" combinations of seed nodes exists."
   ]
  },
  {
   "cell_type": "markdown",
   "id": "bd33b5b2",
   "metadata": {},
   "source": [
    "Here are the top 3 seed node combinations, ranked on recall:"
   ]
  },
  {
   "cell_type": "code",
   "execution_count": 140,
   "id": "cae9ea4f",
   "metadata": {
    "scrolled": true
   },
   "outputs": [
    {
     "data": {
      "text/plain": [
       "[(('/road-occupation-licence-for-building-work',\n",
       "   '/apply-for-child-performance-licence',\n",
       "   '/set-up-limited-company'),\n",
       "  67.64705882352942),\n",
       " (('/unincorporated-associations',\n",
       "   '/employers-liability-insurance',\n",
       "   '/scrap-metal-dealer-registration'),\n",
       "  66.99346405228758),\n",
       " (('/protecting-company-from-compulsory-liquidation',\n",
       "   '/apply-register-design',\n",
       "   '/late-commercial-payments-interest-debt-recovery'),\n",
       "  63.39869281045751)]"
      ]
     },
     "execution_count": 140,
     "metadata": {},
     "output_type": "execute_result"
    }
   ],
   "source": [
    "sorted(recalls, key=lambda x: -x[1])[:3]"
   ]
  },
  {
   "cell_type": "markdown",
   "id": "86cadcd7",
   "metadata": {},
   "source": [
    "Here are the bottom 3:"
   ]
  },
  {
   "cell_type": "code",
   "execution_count": 138,
   "id": "489a6715",
   "metadata": {},
   "outputs": [
    {
     "data": {
      "text/plain": [
       "[(('/update-or-surrender-trade-marks',\n",
       "   '/right-to-contest-answer',\n",
       "   '/check-trade-marks-journal'),\n",
       "  47.05882352941176),\n",
       " (('/contracts-finder',\n",
       "   '/file-your-confirmation-statement-with-companies-house',\n",
       "   '/find-tender'),\n",
       "  52.94117647058824),\n",
       " (('/respond-to-court-claim-for-money',\n",
       "   '/set-up-sole-trader',\n",
       "   '/possession-claim-online-recover-property'),\n",
       "  55.22875816993464)]"
      ]
     },
     "execution_count": 138,
     "metadata": {},
     "output_type": "execute_result"
    }
   ],
   "source": [
    "sorted(recalls, key=lambda x: x[1])[:3]"
   ]
  },
  {
   "cell_type": "markdown",
   "id": "5b845172",
   "metadata": {},
   "source": [
    "### Sensitivity to choice of M and N"
   ]
  },
  {
   "cell_type": "markdown",
   "id": "b62359af",
   "metadata": {},
   "source": [
    "The choice of M and N will affect performance. Here we test the performance per choice of M and N with a factorial experiment. We'll evaluate this on the best combination of seed pages found previously: \n",
    "\n",
    "  ('/road-occupation-licence-for-building-work',\n",
    "   '/apply-for-child-performance-licence',\n",
    "   '/set-up-limited-company')"
   ]
  },
  {
   "cell_type": "code",
   "execution_count": 156,
   "id": "cacefc85",
   "metadata": {},
   "outputs": [
    {
     "data": {
      "application/vnd.jupyter.widget-view+json": {
       "model_id": "de8f1fb55066469bb9669c3eef5f00a0",
       "version_major": 2,
       "version_minor": 0
      },
      "text/plain": [
       "  0%|          | 0/121 [00:00<?, ?it/s]"
      ]
     },
     "metadata": {},
     "output_type": "display_data"
    },
    {
     "ename": "KeyboardInterrupt",
     "evalue": "",
     "output_type": "error",
     "traceback": [
      "\u001b[1;31m---------------------------------------------------------------------------\u001b[0m",
      "\u001b[1;31mKeyboardInterrupt\u001b[0m                         Traceback (most recent call last)",
      "\u001b[1;32m<ipython-input-156-d1951d9302d3>\u001b[0m in \u001b[0;36m<module>\u001b[1;34m\u001b[0m\n\u001b[0;32m     21\u001b[0m         \u001b[1;32mfor\u001b[0m \u001b[0mm\u001b[0m \u001b[1;32min\u001b[0m \u001b[0mrange\u001b[0m\u001b[1;33m(\u001b[0m\u001b[0mM\u001b[0m\u001b[1;33m)\u001b[0m\u001b[1;33m:\u001b[0m\u001b[1;33m\u001b[0m\u001b[1;33m\u001b[0m\u001b[0m\n\u001b[0;32m     22\u001b[0m \u001b[1;33m\u001b[0m\u001b[0m\n\u001b[1;32m---> 23\u001b[1;33m             \u001b[0mpages_visited\u001b[0m\u001b[1;33m.\u001b[0m\u001b[0mextend\u001b[0m\u001b[1;33m(\u001b[0m\u001b[0mgetSlugs\u001b[0m\u001b[1;33m(\u001b[0m\u001b[0mG\u001b[0m\u001b[1;33m.\u001b[0m\u001b[0msubgraph\u001b[0m\u001b[1;33m(\u001b[0m\u001b[0mrandom_walk\u001b[0m\u001b[1;33m(\u001b[0m\u001b[0mA\u001b[0m\u001b[1;33m,\u001b[0m \u001b[0mG\u001b[0m\u001b[1;33m,\u001b[0m \u001b[0mN\u001b[0m\u001b[1;33m,\u001b[0m \u001b[0msab_page\u001b[0m\u001b[1;33m)\u001b[0m\u001b[1;33m)\u001b[0m\u001b[1;33m)\u001b[0m\u001b[1;33m)\u001b[0m\u001b[1;33m\u001b[0m\u001b[1;33m\u001b[0m\u001b[0m\n\u001b[0m\u001b[0;32m     24\u001b[0m \u001b[1;33m\u001b[0m\u001b[0m\n\u001b[0;32m     25\u001b[0m     \u001b[0mpages_visited\u001b[0m \u001b[1;33m=\u001b[0m \u001b[0mlist\u001b[0m\u001b[1;33m(\u001b[0m\u001b[0mset\u001b[0m\u001b[1;33m(\u001b[0m\u001b[0mpages_visited\u001b[0m\u001b[1;33m)\u001b[0m\u001b[1;33m)\u001b[0m\u001b[1;33m\u001b[0m\u001b[1;33m\u001b[0m\u001b[0m\n",
      "\u001b[1;32m<ipython-input-77-022701912b5e>\u001b[0m in \u001b[0;36mrandom_walk\u001b[1;34m(A, G, steps, seed, nodeData)\u001b[0m\n\u001b[0;32m     25\u001b[0m \u001b[1;33m\u001b[0m\u001b[0m\n\u001b[0;32m     26\u001b[0m         \u001b[1;31m# identify neighbours of current node\u001b[0m\u001b[1;33m\u001b[0m\u001b[1;33m\u001b[0m\u001b[1;33m\u001b[0m\u001b[0m\n\u001b[1;32m---> 27\u001b[1;33m         \u001b[0mneighbours\u001b[0m \u001b[1;33m=\u001b[0m \u001b[0mnp\u001b[0m\u001b[1;33m.\u001b[0m\u001b[0mnonzero\u001b[0m\u001b[1;33m(\u001b[0m\u001b[0mA\u001b[0m\u001b[1;33m[\u001b[0m\u001b[0mcurrent_node_index\u001b[0m\u001b[1;33m]\u001b[0m\u001b[1;33m)\u001b[0m\u001b[1;33m[\u001b[0m\u001b[1;36m1\u001b[0m\u001b[1;33m]\u001b[0m\u001b[1;33m\u001b[0m\u001b[1;33m\u001b[0m\u001b[0m\n\u001b[0m\u001b[0;32m     28\u001b[0m \u001b[1;33m\u001b[0m\u001b[0m\n\u001b[0;32m     29\u001b[0m         \u001b[1;31m# if reached an absorbing state, i.e. no neighbours, then terminate the random walk\u001b[0m\u001b[1;33m\u001b[0m\u001b[1;33m\u001b[0m\u001b[1;33m\u001b[0m\u001b[0m\n",
      "\u001b[1;32m~\\anaconda3\\lib\\site-packages\\scipy\\sparse\\_index.py\u001b[0m in \u001b[0;36m__getitem__\u001b[1;34m(self, key)\u001b[0m\n\u001b[0;32m     37\u001b[0m                 \u001b[1;32mreturn\u001b[0m \u001b[0mself\u001b[0m\u001b[1;33m.\u001b[0m\u001b[0m_get_intXint\u001b[0m\u001b[1;33m(\u001b[0m\u001b[0mrow\u001b[0m\u001b[1;33m,\u001b[0m \u001b[0mcol\u001b[0m\u001b[1;33m)\u001b[0m\u001b[1;33m\u001b[0m\u001b[1;33m\u001b[0m\u001b[0m\n\u001b[0;32m     38\u001b[0m             \u001b[1;32melif\u001b[0m \u001b[0misinstance\u001b[0m\u001b[1;33m(\u001b[0m\u001b[0mcol\u001b[0m\u001b[1;33m,\u001b[0m \u001b[0mslice\u001b[0m\u001b[1;33m)\u001b[0m\u001b[1;33m:\u001b[0m\u001b[1;33m\u001b[0m\u001b[1;33m\u001b[0m\u001b[0m\n\u001b[1;32m---> 39\u001b[1;33m                 \u001b[1;32mreturn\u001b[0m \u001b[0mself\u001b[0m\u001b[1;33m.\u001b[0m\u001b[0m_get_intXslice\u001b[0m\u001b[1;33m(\u001b[0m\u001b[0mrow\u001b[0m\u001b[1;33m,\u001b[0m \u001b[0mcol\u001b[0m\u001b[1;33m)\u001b[0m\u001b[1;33m\u001b[0m\u001b[1;33m\u001b[0m\u001b[0m\n\u001b[0m\u001b[0;32m     40\u001b[0m             \u001b[1;32melif\u001b[0m \u001b[0mcol\u001b[0m\u001b[1;33m.\u001b[0m\u001b[0mndim\u001b[0m \u001b[1;33m==\u001b[0m \u001b[1;36m1\u001b[0m\u001b[1;33m:\u001b[0m\u001b[1;33m\u001b[0m\u001b[1;33m\u001b[0m\u001b[0m\n\u001b[0;32m     41\u001b[0m                 \u001b[1;32mreturn\u001b[0m \u001b[0mself\u001b[0m\u001b[1;33m.\u001b[0m\u001b[0m_get_intXarray\u001b[0m\u001b[1;33m(\u001b[0m\u001b[0mrow\u001b[0m\u001b[1;33m,\u001b[0m \u001b[0mcol\u001b[0m\u001b[1;33m)\u001b[0m\u001b[1;33m\u001b[0m\u001b[1;33m\u001b[0m\u001b[0m\n",
      "\u001b[1;32m~\\anaconda3\\lib\\site-packages\\scipy\\sparse\\csr.py\u001b[0m in \u001b[0;36m_get_intXslice\u001b[1;34m(self, row, col)\u001b[0m\n\u001b[0;32m    284\u001b[0m     \u001b[1;32mdef\u001b[0m \u001b[0m_get_intXslice\u001b[0m\u001b[1;33m(\u001b[0m\u001b[0mself\u001b[0m\u001b[1;33m,\u001b[0m \u001b[0mrow\u001b[0m\u001b[1;33m,\u001b[0m \u001b[0mcol\u001b[0m\u001b[1;33m)\u001b[0m\u001b[1;33m:\u001b[0m\u001b[1;33m\u001b[0m\u001b[1;33m\u001b[0m\u001b[0m\n\u001b[0;32m    285\u001b[0m         \u001b[1;32mif\u001b[0m \u001b[0mcol\u001b[0m\u001b[1;33m.\u001b[0m\u001b[0mstep\u001b[0m \u001b[1;32min\u001b[0m \u001b[1;33m(\u001b[0m\u001b[1;36m1\u001b[0m\u001b[1;33m,\u001b[0m \u001b[1;32mNone\u001b[0m\u001b[1;33m)\u001b[0m\u001b[1;33m:\u001b[0m\u001b[1;33m\u001b[0m\u001b[1;33m\u001b[0m\u001b[0m\n\u001b[1;32m--> 286\u001b[1;33m             \u001b[1;32mreturn\u001b[0m \u001b[0mself\u001b[0m\u001b[1;33m.\u001b[0m\u001b[0m_get_submatrix\u001b[0m\u001b[1;33m(\u001b[0m\u001b[0mrow\u001b[0m\u001b[1;33m,\u001b[0m \u001b[0mcol\u001b[0m\u001b[1;33m,\u001b[0m \u001b[0mcopy\u001b[0m\u001b[1;33m=\u001b[0m\u001b[1;32mTrue\u001b[0m\u001b[1;33m)\u001b[0m\u001b[1;33m\u001b[0m\u001b[1;33m\u001b[0m\u001b[0m\n\u001b[0m\u001b[0;32m    287\u001b[0m         \u001b[1;31m# TODO: uncomment this once it's faster:\u001b[0m\u001b[1;33m\u001b[0m\u001b[1;33m\u001b[0m\u001b[1;33m\u001b[0m\u001b[0m\n\u001b[0;32m    288\u001b[0m         \u001b[1;31m# return self.getrow(row)._minor_slice(col)\u001b[0m\u001b[1;33m\u001b[0m\u001b[1;33m\u001b[0m\u001b[1;33m\u001b[0m\u001b[0m\n",
      "\u001b[1;32m~\\anaconda3\\lib\\site-packages\\scipy\\sparse\\compressed.py\u001b[0m in \u001b[0;36m_get_submatrix\u001b[1;34m(self, major, minor, copy)\u001b[0m\n\u001b[0;32m    789\u001b[0m             \u001b[1;32mreturn\u001b[0m \u001b[0mself\u001b[0m\u001b[1;33m.\u001b[0m\u001b[0mcopy\u001b[0m\u001b[1;33m(\u001b[0m\u001b[1;33m)\u001b[0m \u001b[1;32mif\u001b[0m \u001b[0mcopy\u001b[0m \u001b[1;32melse\u001b[0m \u001b[0mself\u001b[0m\u001b[1;33m\u001b[0m\u001b[1;33m\u001b[0m\u001b[0m\n\u001b[0;32m    790\u001b[0m \u001b[1;33m\u001b[0m\u001b[0m\n\u001b[1;32m--> 791\u001b[1;33m         indptr, indices, data = get_csr_submatrix(\n\u001b[0m\u001b[0;32m    792\u001b[0m             M, N, self.indptr, self.indices, self.data, i0, i1, j0, j1)\n\u001b[0;32m    793\u001b[0m \u001b[1;33m\u001b[0m\u001b[0m\n",
      "\u001b[1;31mKeyboardInterrupt\u001b[0m: "
     ]
    }
   ],
   "source": [
    "from itertools import product \n",
    "\n",
    "results = {'precision':[], 'recall':[], 'M':[], 'N':[], 'n_pages':[]}\n",
    "\n",
    "# number of steps to take in random walk\n",
    "Ns = [50,100,200,300,400,500,600,700,800,900,1000]\n",
    "\n",
    "# number of times to initialise random walk from a given seed node\n",
    "Ms = [50,100,200,300,400,500,600,700,800,900,1000]\n",
    "\n",
    "# all combinations of N and M\n",
    "NMs = list(product(Ns,Ms))\n",
    "\n",
    "for N, M in tqdm(NMs):\n",
    "    \n",
    "    pages_visited = list()\n",
    "\n",
    "    for sab_page in ('/road-occupation-licence-for-building-work',\n",
    "                     '/apply-for-child-performance-licence',\n",
    "                     '/set-up-limited-company'):\n",
    "        for m in range(M):\n",
    "\n",
    "            pages_visited.extend(getSlugs(G.subgraph(random_walk(A, G, N, sab_page))))\n",
    "\n",
    "    pages_visited = list(set(pages_visited))\n",
    "\n",
    "    p, r = evaluate(sab_pages, pages_visited)\n",
    "    \n",
    "    results['precision'].append(p)\n",
    "    results['recall'].append(r)\n",
    "    results['M'].append(M)\n",
    "    results['N'].append(N)\n",
    "    results['n_pages'].append(len(pages_visited))"
   ]
  },
  {
   "cell_type": "code",
   "execution_count": null,
   "id": "28156e42",
   "metadata": {
    "scrolled": false
   },
   "outputs": [],
   "source": [
    "results_df = pd.DataFrame(results)\n",
    "results_df.to_csv('rw_mn_experiment.csv')\n",
    "results_df.head()"
   ]
  },
  {
   "cell_type": "code",
   "execution_count": null,
   "id": "38be01e8",
   "metadata": {},
   "outputs": [],
   "source": [
    "import plotly.express as px\n",
    "\n",
    "fig = px.scatter_3d(results_df, x='N', y='M', z='recall', color='n_pages')\n",
    "fig.show()"
   ]
  },
  {
   "cell_type": "markdown",
   "id": "b980c507",
   "metadata": {},
   "source": [
    "# Biased random walks"
   ]
  },
  {
   "cell_type": "markdown",
   "id": "db9fb51b",
   "metadata": {},
   "source": [
    "Previously, transition probabilities were uniformly distributed. Hence, the random walk treated all neighbouring nodes as equal. In reality, information from the random walk so far can inform which node to transition to. Now, transition probabilities will be biased using such information, to increase the probability of moving towards nodes that are more relevant to a WUJ."
   ]
  },
  {
   "cell_type": "markdown",
   "id": "9d7455db",
   "metadata": {},
   "source": [
    "## Node2vec"
   ]
  },
  {
   "cell_type": "code",
   "execution_count": 157,
   "id": "df81cb79",
   "metadata": {
    "scrolled": false
   },
   "outputs": [
    {
     "data": {
      "text/html": [
       "<div>\n",
       "<style scoped>\n",
       "    .dataframe tbody tr th:only-of-type {\n",
       "        vertical-align: middle;\n",
       "    }\n",
       "\n",
       "    .dataframe tbody tr th {\n",
       "        vertical-align: top;\n",
       "    }\n",
       "\n",
       "    .dataframe thead th {\n",
       "        text-align: right;\n",
       "    }\n",
       "</style>\n",
       "<table border=\"1\" class=\"dataframe\">\n",
       "  <thead>\n",
       "    <tr style=\"text-align: right;\">\n",
       "      <th></th>\n",
       "      <th>cid</th>\n",
       "      <th>vec</th>\n",
       "    </tr>\n",
       "  </thead>\n",
       "  <tbody>\n",
       "    <tr>\n",
       "      <th>0</th>\n",
       "      <td>2977d3b7-e44d-4200-beb3-b3ea4eae9267</td>\n",
       "      <td>[1.8671892, 2.6098192, -2.3222048, -1.7512394,...</td>\n",
       "    </tr>\n",
       "    <tr>\n",
       "      <th>1</th>\n",
       "      <td>5efc1f67-7631-11e4-a3cb-005056011aef</td>\n",
       "      <td>[10.41427, 1.7373929, 0.0075460924, 1.0664258,...</td>\n",
       "    </tr>\n",
       "    <tr>\n",
       "      <th>2</th>\n",
       "      <td>774cee22-d896-44c1-a611-e3109cce8eae</td>\n",
       "      <td>[3.3376453, -2.5657954, -2.1055672, -2.3333597...</td>\n",
       "    </tr>\n",
       "    <tr>\n",
       "      <th>3</th>\n",
       "      <td>632d1ae0-0340-4a23-87b0-595bb596e5f4</td>\n",
       "      <td>[0.35865974, -1.9952487, -7.7627034, -7.632190...</td>\n",
       "    </tr>\n",
       "    <tr>\n",
       "      <th>4</th>\n",
       "      <td>9ca1a27b-af7b-44d2-b10d-0a6d0e3ff53d</td>\n",
       "      <td>[3.8525279, -5.164307, -9.626906, -5.730718, -...</td>\n",
       "    </tr>\n",
       "  </tbody>\n",
       "</table>\n",
       "</div>"
      ],
      "text/plain": [
       "                                    cid  \\\n",
       "0  2977d3b7-e44d-4200-beb3-b3ea4eae9267   \n",
       "1  5efc1f67-7631-11e4-a3cb-005056011aef   \n",
       "2  774cee22-d896-44c1-a611-e3109cce8eae   \n",
       "3  632d1ae0-0340-4a23-87b0-595bb596e5f4   \n",
       "4  9ca1a27b-af7b-44d2-b10d-0a6d0e3ff53d   \n",
       "\n",
       "                                                 vec  \n",
       "0  [1.8671892, 2.6098192, -2.3222048, -1.7512394,...  \n",
       "1  [10.41427, 1.7373929, 0.0075460924, 1.0664258,...  \n",
       "2  [3.3376453, -2.5657954, -2.1055672, -2.3333597...  \n",
       "3  [0.35865974, -1.9952487, -7.7627034, -7.632190...  \n",
       "4  [3.8525279, -5.164307, -9.626906, -5.730718, -...  "
      ]
     },
     "execution_count": 157,
     "metadata": {},
     "output_type": "execute_result"
    }
   ],
   "source": [
    "n2v = pd.read_csv('../data/processed/n2v_node_embeddings_weighted_8nov21',\n",
    "                  sep=' ',\n",
    "                  skiprows=1,\n",
    "                  header=None)\n",
    "\n",
    "n2v.rename(columns={0:'cid'}, inplace=True)\n",
    "n2v['vec'] = n2v.iloc[:,1:].values.tolist()\n",
    "n2v['vec'] = n2v['vec'].apply(np.array)\n",
    "n2v.drop(n2v.columns[1:-1], axis=1, inplace=True)\n",
    "\n",
    "n2v.head()"
   ]
  },
  {
   "cell_type": "code",
   "execution_count": 158,
   "id": "dacdcc9b",
   "metadata": {},
   "outputs": [
    {
     "data": {
      "text/html": [
       "<div>\n",
       "<style scoped>\n",
       "    .dataframe tbody tr th:only-of-type {\n",
       "        vertical-align: middle;\n",
       "    }\n",
       "\n",
       "    .dataframe tbody tr th {\n",
       "        vertical-align: top;\n",
       "    }\n",
       "\n",
       "    .dataframe thead th {\n",
       "        text-align: right;\n",
       "    }\n",
       "</style>\n",
       "<table border=\"1\" class=\"dataframe\">\n",
       "  <thead>\n",
       "    <tr style=\"text-align: right;\">\n",
       "      <th></th>\n",
       "      <th>node_id</th>\n",
       "      <th>cid</th>\n",
       "    </tr>\n",
       "  </thead>\n",
       "  <tbody>\n",
       "    <tr>\n",
       "      <th>0</th>\n",
       "      <td>488294</td>\n",
       "      <td>c5acf4c3-8a8c-49e1-8d14-5e61fbb1f3c8</td>\n",
       "    </tr>\n",
       "    <tr>\n",
       "      <th>1</th>\n",
       "      <td>450289</td>\n",
       "      <td>b1a3bd0c-5da6-4139-b362-9ee40dd50b50</td>\n",
       "    </tr>\n",
       "    <tr>\n",
       "      <th>2</th>\n",
       "      <td>47721</td>\n",
       "      <td>19003dea-8169-414a-a18c-7e51366ec08f</td>\n",
       "    </tr>\n",
       "    <tr>\n",
       "      <th>3</th>\n",
       "      <td>592592</td>\n",
       "      <td>fc70b57d-a8be-4a95-a7fb-ca15451e8b32</td>\n",
       "    </tr>\n",
       "    <tr>\n",
       "      <th>4</th>\n",
       "      <td>466487</td>\n",
       "      <td>ba321772-bc46-49ee-8a6f-85f21ed5957b</td>\n",
       "    </tr>\n",
       "  </tbody>\n",
       "</table>\n",
       "</div>"
      ],
      "text/plain": [
       "   node_id                                   cid\n",
       "0   488294  c5acf4c3-8a8c-49e1-8d14-5e61fbb1f3c8\n",
       "1   450289  b1a3bd0c-5da6-4139-b362-9ee40dd50b50\n",
       "2    47721  19003dea-8169-414a-a18c-7e51366ec08f\n",
       "3   592592  fc70b57d-a8be-4a95-a7fb-ca15451e8b32\n",
       "4   466487  ba321772-bc46-49ee-8a6f-85f21ed5957b"
      ]
     },
     "execution_count": 158,
     "metadata": {},
     "output_type": "execute_result"
    }
   ],
   "source": [
    "node_ids = pd.DataFrame({\n",
    "                        'node_id': [n[0] for n in list(G.nodes(data=True))],\n",
    "                        'cid': [n[1]['properties']['contentID'] for n in list(G.nodes(data=True))]\n",
    "                        })\n",
    "node_ids.head()"
   ]
  },
  {
   "cell_type": "code",
   "execution_count": 159,
   "id": "14a11075",
   "metadata": {
    "scrolled": true
   },
   "outputs": [
    {
     "data": {
      "text/html": [
       "<div>\n",
       "<style scoped>\n",
       "    .dataframe tbody tr th:only-of-type {\n",
       "        vertical-align: middle;\n",
       "    }\n",
       "\n",
       "    .dataframe tbody tr th {\n",
       "        vertical-align: top;\n",
       "    }\n",
       "\n",
       "    .dataframe thead th {\n",
       "        text-align: right;\n",
       "    }\n",
       "</style>\n",
       "<table border=\"1\" class=\"dataframe\">\n",
       "  <thead>\n",
       "    <tr style=\"text-align: right;\">\n",
       "      <th></th>\n",
       "      <th>cid</th>\n",
       "      <th>vec</th>\n",
       "      <th>node_id</th>\n",
       "    </tr>\n",
       "  </thead>\n",
       "  <tbody>\n",
       "    <tr>\n",
       "      <th>0</th>\n",
       "      <td>2977d3b7-e44d-4200-beb3-b3ea4eae9267</td>\n",
       "      <td>[1.8671892, 2.6098192, -2.3222048, -1.7512394,...</td>\n",
       "      <td>78413</td>\n",
       "    </tr>\n",
       "    <tr>\n",
       "      <th>1</th>\n",
       "      <td>5efc1f67-7631-11e4-a3cb-005056011aef</td>\n",
       "      <td>[10.41427, 1.7373929, 0.0075460924, 1.0664258,...</td>\n",
       "      <td>252664</td>\n",
       "    </tr>\n",
       "    <tr>\n",
       "      <th>2</th>\n",
       "      <td>774cee22-d896-44c1-a611-e3109cce8eae</td>\n",
       "      <td>[3.3376453, -2.5657954, -2.1055672, -2.3333597...</td>\n",
       "      <td>339181</td>\n",
       "    </tr>\n",
       "    <tr>\n",
       "      <th>3</th>\n",
       "      <td>632d1ae0-0340-4a23-87b0-595bb596e5f4</td>\n",
       "      <td>[0.35865974, -1.9952487, -7.7627034, -7.632190...</td>\n",
       "      <td>301546</td>\n",
       "    </tr>\n",
       "    <tr>\n",
       "      <th>4</th>\n",
       "      <td>9ca1a27b-af7b-44d2-b10d-0a6d0e3ff53d</td>\n",
       "      <td>[3.8525279, -5.164307, -9.626906, -5.730718, -...</td>\n",
       "      <td>411169</td>\n",
       "    </tr>\n",
       "  </tbody>\n",
       "</table>\n",
       "</div>"
      ],
      "text/plain": [
       "                                    cid  \\\n",
       "0  2977d3b7-e44d-4200-beb3-b3ea4eae9267   \n",
       "1  5efc1f67-7631-11e4-a3cb-005056011aef   \n",
       "2  774cee22-d896-44c1-a611-e3109cce8eae   \n",
       "3  632d1ae0-0340-4a23-87b0-595bb596e5f4   \n",
       "4  9ca1a27b-af7b-44d2-b10d-0a6d0e3ff53d   \n",
       "\n",
       "                                                 vec  node_id  \n",
       "0  [1.8671892, 2.6098192, -2.3222048, -1.7512394,...    78413  \n",
       "1  [10.41427, 1.7373929, 0.0075460924, 1.0664258,...   252664  \n",
       "2  [3.3376453, -2.5657954, -2.1055672, -2.3333597...   339181  \n",
       "3  [0.35865974, -1.9952487, -7.7627034, -7.632190...   301546  \n",
       "4  [3.8525279, -5.164307, -9.626906, -5.730718, -...   411169  "
      ]
     },
     "execution_count": 159,
     "metadata": {},
     "output_type": "execute_result"
    }
   ],
   "source": [
    "n2v = n2v.merge(node_ids, on='cid')\n",
    "n2v.head()"
   ]
  },
  {
   "cell_type": "code",
   "execution_count": 160,
   "id": "f15b9756",
   "metadata": {},
   "outputs": [],
   "source": [
    "G2 = G.subgraph(n2v.node_id).copy()\n",
    "\n",
    "# remove any possible nodes that refer to themselves\n",
    "G2.remove_edges_from(nx.selfloop_edges(G2))"
   ]
  },
  {
   "cell_type": "code",
   "execution_count": 161,
   "id": "b6bbc201",
   "metadata": {},
   "outputs": [],
   "source": [
    "# add node2vec vectors as properties in each node\n",
    "for row in n2v.iterrows():\n",
    "    # row[1][2] stores the node_id in each n2v row\n",
    "    # row[1][1] stores the node2vec embedding of this node\n",
    "    G2.nodes[row[1][2]]['n2v'] = row[1][1]"
   ]
  },
  {
   "cell_type": "code",
   "execution_count": 162,
   "id": "a50ad419",
   "metadata": {},
   "outputs": [],
   "source": [
    "G2_nodes = np.array(G2.nodes(data=True))"
   ]
  },
  {
   "cell_type": "markdown",
   "id": "e1edfffa",
   "metadata": {},
   "source": [
    "Some SaB pages do not have node2vec embeddings available, hence we'll remove those for now:"
   ]
  },
  {
   "cell_type": "code",
   "execution_count": 163,
   "id": "5921098e",
   "metadata": {
    "scrolled": true
   },
   "outputs": [
    {
     "data": {
      "text/plain": [
       "302"
      ]
     },
     "execution_count": 163,
     "metadata": {},
     "output_type": "execute_result"
    }
   ],
   "source": [
    "G2_pages = [node[1]['properties']['name'] for node in G2_nodes]\n",
    "sab_pages_2 = [page for page in sab_pages if page in G2_pages]\n",
    "len(sab_pages_2)"
   ]
  },
  {
   "cell_type": "markdown",
   "id": "4053ab84",
   "metadata": {},
   "source": [
    "#### Compute transition probabilities"
   ]
  },
  {
   "cell_type": "code",
   "execution_count": 164,
   "id": "58a57fb9",
   "metadata": {
    "scrolled": false
   },
   "outputs": [
    {
     "data": {
      "application/vnd.jupyter.widget-view+json": {
       "model_id": "d5a6d4e6cb384657b3762a745876686c",
       "version_major": 2,
       "version_minor": 0
      },
      "text/plain": [
       "  0%|          | 0/48608 [00:00<?, ?it/s]"
      ]
     },
     "metadata": {},
     "output_type": "display_data"
    },
    {
     "name": "stderr",
     "output_type": "stream",
     "text": [
      "C:\\Users\\JakeR\\anaconda3\\lib\\site-packages\\scipy\\sparse\\_index.py:125: SparseEfficiencyWarning: Changing the sparsity structure of a csr_matrix is expensive. lil_matrix is more efficient.\n",
      "  self._set_arrayXarray(i, j, x)\n"
     ]
    }
   ],
   "source": [
    "from numpy import dot\n",
    "from numpy.linalg import norm\n",
    "from scipy.sparse import csr_matrix\n",
    "\n",
    "# get adjacency matrix\n",
    "A2 = nx.adj_matrix(G2, weight=None)\n",
    "\n",
    "# initialise transition matrix\n",
    "T2 = csr_matrix(A2.shape)\n",
    "\n",
    "for i in tqdm(range(A2.shape[0])):\n",
    "    \n",
    "    # get indexes of neighbouring nodes\n",
    "    neighbours = np.nonzero(A2[i])[1]\n",
    "    \n",
    "    # skip nodes without neighbours\n",
    "    if neighbours.size == 0:\n",
    "        continue\n",
    "    \n",
    "    # get n2v vectors of neighbouring nodes\n",
    "    neighbour_n2v = np.array([node[1]['n2v'] for node in G2_nodes[neighbours]])\n",
    "    \n",
    "    # get n2v vector of current node\n",
    "    current_n2v = G2_nodes[i][1]['n2v']\n",
    "    \n",
    "    # use n2v vectors to compute cosine similarities between current node and its neighbours\n",
    "    #cosine_sims = (neighbour_n2v @ current_n2v)/(norm(neighbour_n2v, axis=1) * norm(current_n2v))\n",
    "    \n",
    "    # use n2v vectors to compute dot product between current node and its neighbours\n",
    "    dot_prod = (neighbour_n2v @ current_n2v)\n",
    "    \n",
    "    # transition probabilities\n",
    "    # softmax with base 1.025\n",
    "    ps = 1.025**(dot_prod)/sum(1.025**(dot_prod))\n",
    "    \n",
    "    # insert transition probabilities into transition matrix\n",
    "    T2[i, neighbours] = ps "
   ]
  },
  {
   "cell_type": "code",
   "execution_count": 29,
   "id": "1cfadcaa",
   "metadata": {
    "scrolled": false
   },
   "outputs": [
    {
     "data": {
      "application/vnd.jupyter.widget-view+json": {
       "model_id": "21646e14379549e68988d8192fe76548",
       "version_major": 2,
       "version_minor": 0
      },
      "text/plain": [
       "  0%|          | 0/302 [00:00<?, ?it/s]"
      ]
     },
     "metadata": {},
     "output_type": "display_data"
    }
   ],
   "source": [
    "# these lists will be lists of lists, where each sublist\n",
    "# contains the precisions and recalls of the repeat random walks\n",
    "# for a given seed node. e.g.\n",
    "\n",
    "#                  sab_page_1       sab_page_2              sab_page_n\n",
    "# precisions = [[0.1,0.15,0.12], [0.2,0.19,0.21], . . ., [0.3, 0.25, 0.12]]\n",
    "\n",
    "#                                               sab_page_1  sab_page_2    sab_page_n\n",
    "# then we can compute averages: avg_precisions = [0.123,      0.199, . . ., 0.223]\n",
    "\n",
    "precisions = []\n",
    "recalls = []\n",
    "\n",
    "# number of steps to take in random walk\n",
    "N = 500\n",
    "\n",
    "# number of repeats per seed node\n",
    "repeats = 5\n",
    "\n",
    "for sab_page in tqdm(sab_pages_2):\n",
    "    \n",
    "    # to store the precision and recall scores\n",
    "    # per seed page, for each repeat\n",
    "    ps = []\n",
    "    rs = []\n",
    "    \n",
    "    for repeat in range(repeats):\n",
    "        walk_results = random_walk_T(T2, G2, N, sab_page)\n",
    "        if walk_results is None:\n",
    "            continue\n",
    "            \n",
    "        pred = getSlugs(G2.subgraph(walk_results))\n",
    "        p, r = evaluate(sab_pages_2, pred)\n",
    "        ps.append(p)\n",
    "        rs.append(r)\n",
    "        \n",
    "    precisions.append(ps)\n",
    "    recalls.append(rs)"
   ]
  },
  {
   "cell_type": "code",
   "execution_count": 32,
   "id": "81247684",
   "metadata": {
    "scrolled": false
   },
   "outputs": [
    {
     "data": {
      "image/png": "[encoded data removed]",
      "text/plain": [
       "<Figure size 1080x360 with 2 Axes>"
      ]
     },
     "metadata": {
      "needs_background": "light"
     },
     "output_type": "display_data"
    }
   ],
   "source": [
    "avg_recalls = [np.mean(r) for r in recalls]\n",
    "avg_precisions = [np.mean(p) for p in precisions]\n",
    "\n",
    "fig, ax = plt.subplots(1, 2, figsize=(15,5))\n",
    "ax[0].hist(avg_precisions);\n",
    "ax[0].set_title(\"Median Precision\");\n",
    "ax[0].set_xlabel(\"Percentage\");\n",
    "ax[1].hist(avg_recalls);\n",
    "ax[1].set_title(\"Median Recall\");\n",
    "ax[1].set_xlabel(\"Percentage\");"
   ]
  },
  {
   "cell_type": "code",
   "execution_count": 41,
   "id": "b14803c5",
   "metadata": {
    "scrolled": true
   },
   "outputs": [
    {
     "data": {
      "application/vnd.jupyter.widget-view+json": {
       "model_id": "ceecd2e6f4b64823837961da5ce2be15",
       "version_major": 2,
       "version_minor": 0
      },
      "text/plain": [
       "  0%|          | 0/3 [00:00<?, ?it/s]"
      ]
     },
     "metadata": {},
     "output_type": "display_data"
    },
    {
     "data": {
      "application/vnd.jupyter.widget-view+json": {
       "model_id": "6b4899aee8294982ab2adf3c6d4f9d97",
       "version_major": 2,
       "version_minor": 0
      },
      "text/plain": [
       "  0%|          | 0/100 [00:00<?, ?it/s]"
      ]
     },
     "metadata": {},
     "output_type": "display_data"
    },
    {
     "data": {
      "application/vnd.jupyter.widget-view+json": {
       "model_id": "ba79588f8cd945db8fd78533c40e8ad5",
       "version_major": 2,
       "version_minor": 0
      },
      "text/plain": [
       "  0%|          | 0/100 [00:00<?, ?it/s]"
      ]
     },
     "metadata": {},
     "output_type": "display_data"
    },
    {
     "data": {
      "application/vnd.jupyter.widget-view+json": {
       "model_id": "6b39d45de94247e5b91f362268678835",
       "version_major": 2,
       "version_minor": 0
      },
      "text/plain": [
       "  0%|          | 0/100 [00:00<?, ?it/s]"
      ]
     },
     "metadata": {},
     "output_type": "display_data"
    }
   ],
   "source": [
    "# number of times to initialise random walk from a given seed node\n",
    "M = 100\n",
    "\n",
    "# number of steps to take in random walk\n",
    "N = 500\n",
    "\n",
    "pages_visited_T = list()\n",
    "pages_visited = list()\n",
    "\n",
    "for sab_page in tqdm(np.random.choice(sab_pages_2,3)):\n",
    "    for m in tqdm(range(M)):\n",
    "        pages_visited_T.extend(getSlugs(G2.subgraph(random_walk_T(T2, G2, N, sab_page))))\n",
    "        pages_visited.extend(getSlugs(G2.subgraph(random_walk(T2, G2, N, sab_page))))\n",
    "        \n",
    "pages_visited_T = list(set(pages_visited_T))\n",
    "pages_visited = list(set(pages_visited))\n",
    "        \n",
    "p_T, r_T = evaluate(sab_pages_2, pages_visited_T)\n",
    "p, r = evaluate(sab_pages_2, pages_visited)"
   ]
  },
  {
   "cell_type": "code",
   "execution_count": 42,
   "id": "2ed31084",
   "metadata": {},
   "outputs": [
    {
     "data": {
      "text/plain": [
       "(24.81203007518797, 10.927152317880795, 133)"
      ]
     },
     "execution_count": 42,
     "metadata": {},
     "output_type": "execute_result"
    }
   ],
   "source": [
    "p_T,r_T,len(pages_visited_T)"
   ]
  },
  {
   "cell_type": "code",
   "execution_count": 43,
   "id": "7847d716",
   "metadata": {
    "scrolled": true
   },
   "outputs": [
    {
     "data": {
      "text/plain": [
       "(2.6239907727797, 60.264900662251655, 6936)"
      ]
     },
     "execution_count": 43,
     "metadata": {},
     "output_type": "execute_result"
    }
   ],
   "source": [
    "p,r,len(pages_visited)"
   ]
  },
  {
   "cell_type": "code",
   "execution_count": 179,
   "id": "619610c8",
   "metadata": {
    "scrolled": false
   },
   "outputs": [
    {
     "data": {
      "application/vnd.jupyter.widget-view+json": {
       "model_id": "bbdc9c1b4ef14fceb820f780d8abd4d6",
       "version_major": 2,
       "version_minor": 0
      },
      "text/plain": [
       "  0%|          | 0/3 [00:00<?, ?it/s]"
      ]
     },
     "metadata": {},
     "output_type": "display_data"
    },
    {
     "data": {
      "application/vnd.jupyter.widget-view+json": {
       "model_id": "be40d46092064f57916f0fb39d291e9d",
       "version_major": 2,
       "version_minor": 0
      },
      "text/plain": [
       "  0%|          | 0/100 [00:00<?, ?it/s]"
      ]
     },
     "metadata": {},
     "output_type": "display_data"
    },
    {
     "data": {
      "application/vnd.jupyter.widget-view+json": {
       "model_id": "a2f851cc1f154928a8525f8d9994609d",
       "version_major": 2,
       "version_minor": 0
      },
      "text/plain": [
       "  0%|          | 0/100 [00:00<?, ?it/s]"
      ]
     },
     "metadata": {},
     "output_type": "display_data"
    },
    {
     "data": {
      "application/vnd.jupyter.widget-view+json": {
       "model_id": "890ee6bc7c7148249e95497590679ed2",
       "version_major": 2,
       "version_minor": 0
      },
      "text/plain": [
       "  0%|          | 0/100 [00:00<?, ?it/s]"
      ]
     },
     "metadata": {},
     "output_type": "display_data"
    }
   ],
   "source": [
    "# number of times to initialise random walk from a given seed node\n",
    "M = 100\n",
    "\n",
    "# number of steps to take in random walk\n",
    "N = 50\n",
    "\n",
    "pages_visited_T = list()\n",
    "pages_visited = list()\n",
    "\n",
    "for sab_page in tqdm(np.random.choice(sab_pages_2,3)):\n",
    "    for m in tqdm(range(M)):\n",
    "        pages_visited_T.extend(getSlugs(G2.subgraph(random_walk(T2, G2, N, sab_page, p=True))))\n",
    "        pages_visited.extend(getSlugs(G2.subgraph(random_walk(T2, G2, N, sab_page))))\n",
    "        \n",
    "pages_visited_T = list(set(pages_visited_T))\n",
    "pages_visited = list(set(pages_visited))\n",
    "        \n",
    "p_T, r_T = evaluate(sab_pages_2, pages_visited_T)\n",
    "p, r = evaluate(sab_pages_2, pages_visited)"
   ]
  },
  {
   "cell_type": "code",
   "execution_count": 180,
   "id": "9d6442f2",
   "metadata": {},
   "outputs": [
    {
     "data": {
      "text/plain": [
       "(13.564668769716087, 14.23841059602649, 317)"
      ]
     },
     "execution_count": 180,
     "metadata": {},
     "output_type": "execute_result"
    }
   ],
   "source": [
    "p_T, r_T, len(pages_visited_T)"
   ]
  },
  {
   "cell_type": "code",
   "execution_count": 181,
   "id": "c3d23407",
   "metadata": {
    "scrolled": true
   },
   "outputs": [
    {
     "data": {
      "text/plain": [
       "(3.117178612059158, 45.36423841059602, 4395)"
      ]
     },
     "execution_count": 181,
     "metadata": {},
     "output_type": "execute_result"
    }
   ],
   "source": [
    "p, r, len(pages_visited)"
   ]
  },
  {
   "cell_type": "markdown",
   "id": "560e179c",
   "metadata": {},
   "source": [
    "### Sensitivity to choice of seed nodes"
   ]
  },
  {
   "cell_type": "code",
   "execution_count": 182,
   "id": "19bf50e3",
   "metadata": {},
   "outputs": [],
   "source": [
    "from itertools import combinations\n",
    "from random import sample\n",
    "sab_samples_2 = sample(list(combinations(sab_pages_2,3)),20)"
   ]
  },
  {
   "cell_type": "code",
   "execution_count": 186,
   "id": "cca3c341",
   "metadata": {},
   "outputs": [
    {
     "data": {
      "application/vnd.jupyter.widget-view+json": {
       "model_id": "41275ae10f7e4164ac53984b108c48f0",
       "version_major": 2,
       "version_minor": 0
      },
      "text/plain": [
       "  0%|          | 0/20 [00:00<?, ?it/s]"
      ]
     },
     "metadata": {},
     "output_type": "display_data"
    }
   ],
   "source": [
    "precisions = []\n",
    "recalls = []\n",
    "\n",
    "# number of times to initialise random walk from a given seed node\n",
    "M = 100\n",
    "\n",
    "# number of steps to take in random walk\n",
    "N = 100\n",
    "\n",
    "for sab_sample in tqdm(sab_samples_2):\n",
    "    \n",
    "    pages_visited = list()\n",
    "    \n",
    "    for sab_page in sab_sample:\n",
    "        for m in range(M):\n",
    "            pages_visited.extend(getSlugs(G2.subgraph(random_walk(T2, G2, N, sab_page, p=True))))\n",
    "\n",
    "    pages_visited = list(set(pages_visited))\n",
    "\n",
    "    p, r = evaluate(sab_pages_2, pages_visited)\n",
    "    \n",
    "    precisions.append((sab_sample,p))\n",
    "    recalls.append((sab_sample,r))"
   ]
  },
  {
   "cell_type": "code",
   "execution_count": 189,
   "id": "cd71c65c",
   "metadata": {},
   "outputs": [
    {
     "data": {
      "text/plain": [
       "[(('/workplace-fire-safety-your-responsibilities',\n",
       "   '/renew-patent-trademark-registered-design',\n",
       "   '/apply-skip-permit'),\n",
       "  19.5364238410596),\n",
       " (('/capital-allowances', '/research-export-markets', '/pedlars-certificate'),\n",
       "  17.549668874172188),\n",
       " (('/being-made-bankrupt',\n",
       "   '/contact-local-marine-management-organisation',\n",
       "   '/skip-licence-scotland'),\n",
       "  17.549668874172188)]"
      ]
     },
     "execution_count": 189,
     "metadata": {},
     "output_type": "execute_result"
    }
   ],
   "source": [
    "sorted(recalls, key=lambda x: -x[1])[:3]"
   ]
  },
  {
   "cell_type": "markdown",
   "id": "ff5645ea",
   "metadata": {},
   "source": [
    "### Sensitivity of choice to M and N"
   ]
  },
  {
   "cell_type": "code",
   "execution_count": null,
   "id": "bca579ce",
   "metadata": {},
   "outputs": [
    {
     "data": {
      "application/vnd.jupyter.widget-view+json": {
       "model_id": "a0ab2cfc95174e7095fbbfd027bff5d7",
       "version_major": 2,
       "version_minor": 0
      },
      "text/plain": [
       "  0%|          | 0/100 [00:00<?, ?it/s]"
      ]
     },
     "metadata": {},
     "output_type": "display_data"
    }
   ],
   "source": [
    "from itertools import product \n",
    "\n",
    "results = {'precision':[], 'recall':[], 'M':[], 'N':[], 'n_pages':[]}\n",
    "\n",
    "# number of steps to take in random walk\n",
    "Ns = [10,50,100,100,200,300,400,500,750,1000]\n",
    "\n",
    "# number of times to initialise random walk from a given seed node\n",
    "Ms = [100,200,300,400,500,1000,2500,5000,7500,10000]\n",
    "\n",
    "# all combinations of N and M\n",
    "NMs = list(product(Ns,Ms))\n",
    "\n",
    "for N, M in tqdm(NMs):\n",
    "    \n",
    "    pages_visited = list()\n",
    "\n",
    "    for sab_page in ('/workplace-fire-safety-your-responsibilities',\n",
    "                     '/renew-patent-trademark-registered-design',\n",
    "                     '/apply-skip-permit'):\n",
    "        for m in range(M):\n",
    "\n",
    "            pages_visited.extend(getSlugs(G2.subgraph(random_walk(T2, G2, N, sab_page))))\n",
    "\n",
    "    pages_visited = list(set(pages_visited))\n",
    "\n",
    "    p, r = evaluate(sab_pages_2, pages_visited)\n",
    "    \n",
    "    results['precision'].append(p)\n",
    "    results['recall'].append(r)\n",
    "    results['M'].append(M)\n",
    "    results['N'].append(N)\n",
    "    results['n_pages'].append(len(pages_visited))"
   ]
  },
  {
   "cell_type": "code",
   "execution_count": null,
   "id": "bd17f697",
   "metadata": {},
   "outputs": [],
   "source": [
    "results_df = pd.DataFrame(results)\n",
    "results_df.to_csv('brw_mn_experiment.csv')\n",
    "results_df.head()"
   ]
  }
 ],
 "metadata": {
  "kernelspec": {
   "display_name": "Python 3",
   "language": "python",
   "name": "python3"
  },
  "language_info": {
   "codemirror_mode": {
    "name": "ipython",
    "version": 3
   },
   "file_extension": ".py",
   "mimetype": "text/x-python",
   "name": "python",
   "nbconvert_exporter": "python",
   "pygments_lexer": "ipython3",
   "version": "3.8.8"
  }
 },
 "nbformat": 4,
 "nbformat_minor": 5
}
