{
 "cells": [
  {
   "cell_type": "markdown",
   "id": "4d79e85b",
   "metadata": {},
   "source": [
    "## BigQuery SQL queries used in this project"
   ]
  },
  {
   "cell_type": "markdown",
   "id": "ad34e8ce",
   "metadata": {},
   "source": [
    "Data collected from this script is available here: https://drive.google.com/drive/folders/1E-pxqkJDrS-jd_MNq6IbS-v7gGNNmrYd?usp=sharing. No need to run these queries yourself."
   ]
  },
  {
   "cell_type": "code",
   "execution_count": 1,
   "id": "321fd040",
   "metadata": {},
   "outputs": [],
   "source": [
    "from google.oauth2 import service_account\n",
    "import pandas_gbq\n",
    "import os\n",
    "\n",
    "credentials = service_account.Credentials.from_service_account_file(os.getenv(\"GOOGLE_APPLICATION_CREDENTIALS\"))"
   ]
  },
  {
   "cell_type": "code",
   "execution_count": 4,
   "id": "dc65c551",
   "metadata": {},
   "outputs": [],
   "source": [
    "# import packages\n",
    "import pandas as pd\n",
    "import pandas_gbq\n",
    "\n",
    "# extract data from BigQuery\n",
    "project_id = \"govuk-bigquery-analytics\"\n",
    "\n",
    "# document types to ignore i.e. pages not relevant to WUJs\n",
    "ignore = (\n",
    "    \"authored_article\",\n",
    "    \"news_article\",\n",
    "    \"news_story\",\n",
    "    \"press_release\",\n",
    "    \"world_news_story\",\n",
    "    \"utaac_decision\",\n",
    "    \"speech\",\n",
    "    \"case_study\",\n",
    "    \"raib_report\",\n",
    "    \"asylum_support_decision\",\n",
    "    \"policy_paper\",\n",
    "    \"corporate_report\",\n",
    "    \"written_statement\",\n",
    "    \"consultation_outcome\",\n",
    "    \"closed_consultation\",\n",
    "    \"maib_report\",\n",
    "    \"person\",\n",
    "    \"correspondence\",\n",
    "    \"employment_tribunal_decision\",\n",
    "    \"employment_appeal_tribunal_decision\",\n",
    "    \"tax_tribunal_decision\",\n",
    "    \"ministerial_role\",\n",
    "    \"residential_property_tribunal_decision\",\n",
    "    \"cma_case\",\n",
    ")"
   ]
  },
  {
   "cell_type": "markdown",
   "id": "e3b35664",
   "metadata": {},
   "source": [
    "## Page hits"
   ]
  },
  {
   "cell_type": "markdown",
   "id": "df71635a",
   "metadata": {},
   "source": [
    "Here we're collecting lists of page paths and content ids, for which there have been more than 5 page/content hits in the last 2 weeks. Subsequently, given one of these lists, nodes within the knowledge graph whose page path is within the list are extracted. These nodes form a subgraph."
   ]
  },
  {
   "cell_type": "markdown",
   "id": "9a07dc8e",
   "metadata": {},
   "source": [
    "### By page hits per page path"
   ]
  },
  {
   "cell_type": "code",
   "execution_count": 5,
   "id": "187147c0",
   "metadata": {},
   "outputs": [
    {
     "name": "stderr",
     "output_type": "stream",
     "text": [
      "Downloading: 100%|██████████| 22313/22313 [00:01<00:00, 21408.56rows/s]\n"
     ]
    }
   ],
   "source": [
    "# get page paths with more than 5 page hits in the last 2 weeks,\n",
    "# ignoring irrelevant pages\n",
    "sql = \"\"\"\n",
    "DECLARE start_date STRING DEFAULT \"20211018\";\n",
    "DECLARE end_date STRING DEFAULT \"20211031\";\n",
    "\n",
    "WITH sessions AS (\n",
    "SELECT DISTINCT\n",
    "    CONCAT(fullVisitorId, \"-\", CAST(visitId AS STRING)) AS sessionId,\n",
    "    REGEXP_REPLACE(hits.page.pagePath, r'[?#].*', '') AS pagePath\n",
    "FROM `govuk-bigquery-analytics.87773428.ga_sessions_*`\n",
    "CROSS JOIN UNNEST(hits) AS hits\n",
    "WHERE\n",
    "    _TABLE_SUFFIX BETWEEN start_date AND end_date\n",
    "    AND hits.page.pagePath NOT LIKE \"/print%\"\n",
    "    AND hits.type = 'PAGE'\n",
    "    AND (SELECT value FROM hits.customDimensions WHERE index = 2) NOT IN {} \n",
    ")\n",
    "\n",
    "SELECT DISTINCT\n",
    "    pagePath,\n",
    "    COUNT(sessionId) AS noOfSessions \n",
    "FROM sessions\n",
    "GROUP BY pagePath\n",
    "HAVING noOfSessions >= 5\n",
    "ORDER BY noOfSessions\n",
    "\"\"\".format(\n",
    "    ignore\n",
    ")\n",
    "\n",
    "# create Data Frame\n",
    "page_paths = pandas_gbq.read_gbq(sql, project_id=project_id, credentials=credentials)\n",
    "page_paths.to_csv(\"../data/processed/page_paths.csv\", index=False)"
   ]
  },
  {
   "cell_type": "markdown",
   "id": "7832e905",
   "metadata": {},
   "source": [
    "### By page hits per content ID"
   ]
  },
  {
   "cell_type": "code",
   "execution_count": null,
   "id": "5d602041",
   "metadata": {},
   "outputs": [],
   "source": [
    "# get content ids with more than 5 page hits in the last 2 weeks,\n",
    "# ignoring irrelevant pages\n",
    "sql = \"\"\"\n",
    "DECLARE start_date STRING DEFAULT \"20211018\";\n",
    "DECLARE end_date STRING DEFAULT \"20211031\";\n",
    "\n",
    "WITH sessions AS (\n",
    "SELECT DISTINCT\n",
    "    CONCAT(fullVisitorId, \"-\", CAST(visitId AS STRING)) AS sessionId,\n",
    "    (SELECT value FROM hits.customDimensions WHERE index = 4) AS contentId\n",
    "FROM `govuk-bigquery-analytics.87773428.ga_sessions_*`\n",
    "CROSS JOIN UNNEST(hits) AS hits\n",
    "WHERE\n",
    "    _TABLE_SUFFIX BETWEEN start_date AND end_date\n",
    "    AND hits.page.pagePath NOT LIKE \"/print%\"\n",
    "    AND hits.type = 'PAGE'\n",
    "    AND (SELECT value FROM hits.customDimensions WHERE index = 2) NOT IN {}\n",
    ")\n",
    "\n",
    "SELECT DISTINCT\n",
    "    contentID,\n",
    "    COUNT(sessionId) AS noOfSessions \n",
    "FROM sessions\n",
    "GROUP BY contentID\n",
    "HAVING noOfSessions >= 5\n",
    "\"\"\".format(\n",
    "    ignore\n",
    ")\n",
    "\n",
    "# create Data Frame\n",
    "content_ids = pandas_gbq.read_gbq(sql, project_id=project_id, credentials=credentials)\n",
    "content_ids.to_csv(\"../data/processed/content_ids.csv\", index=False)"
   ]
  }
 ],
 "metadata": {
  "kernelspec": {
   "display_name": "Python 3",
   "language": "python",
   "name": "python3"
  },
  "language_info": {
   "codemirror_mode": {
    "name": "ipython",
    "version": 3
   },
   "file_extension": ".py",
   "mimetype": "text/x-python",
   "name": "python",
   "nbconvert_exporter": "python",
   "pygments_lexer": "ipython3",
   "version": "3.8.8"
  }
 },
 "nbformat": 4,
 "nbformat_minor": 5
}
