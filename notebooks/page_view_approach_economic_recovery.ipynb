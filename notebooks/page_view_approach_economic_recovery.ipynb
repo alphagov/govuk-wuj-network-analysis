{
 "cells": [
  {
   "cell_type": "markdown",
   "metadata": {},
   "source": [
    "# Page view approach - economic recovery WUJ"
   ]
  },
  {
   "cell_type": "markdown",
   "metadata": {},
   "source": [
    "This approach does not rely on the existing knowledge graph. A functional graph based on page hit session data is created, before further filtering of the graph, to find a list of pages related to the economic recovery whole user journey (WUJ).   "
   ]
  },
  {
   "cell_type": "code",
   "execution_count": null,
   "metadata": {},
   "outputs": [],
   "source": [
    "from neo4j import GraphDatabase\n",
    "import networkx as nx\n",
    "import os\n",
    "import pandas as pd\n",
    "import matplotlib.pyplot as plt\n",
    "from tqdm.notebook import tqdm\n",
    "import operator\n",
    "from operator import itemgetter\n",
    "from collections import defaultdict\n",
    "import gspread \n",
    "from oauth2client.service_account import ServiceAccountCredentials"
   ]
  },
  {
   "cell_type": "markdown",
   "metadata": {},
   "source": [
    "## Functions for coercing knowledge graph into NetworkX"
   ]
  },
  {
   "cell_type": "code",
   "execution_count": null,
   "metadata": {},
   "outputs": [],
   "source": [
    "def getSubgraph(q, parameters=None):\n",
    "\n",
    "    '''\n",
    "    Given a Cypher query q, this function queries the knowledge graph,\n",
    "    returns the nodes and edges from this query, and uses them to construct\n",
    "    a networkx graph.\n",
    "\n",
    "    E.g. getSubgraph(r'MATCH (u:Cid)-[r:HYPERLINKS_TO]->(v:Cid) RETURN *')\n",
    "         returns the structural graph.\n",
    "\n",
    "    Optionally, can add in parameters (dictionary), allowing Python variables\n",
    "    to be integrated into the Cypher query q.\n",
    "\n",
    "    E.g.\n",
    "        parameters = {}\n",
    "        parameters['pages'] = ['a','list','of','stuff']\n",
    "        q7 = f\"\"\"\n",
    "        MATCH (u:Cid)-[r]-(v:Cid)\n",
    "        WHERE u.name IN $pages AND v.name in $pages\n",
    "        RETURN *\n",
    "        \"\"\"\n",
    "\n",
    "        g7 = getSubgraph(q7, parameters)\n",
    "    '''\n",
    "\n",
    "    # get credentials\n",
    "    # add to .secrets: export KG_PWD=\"<PASSWORD>\"\n",
    "    KG_PWD = os.getenv(\"KG_PWD\")\n",
    "\n",
    "    # create connection to knowledge graph\n",
    "    driver = GraphDatabase.driver(\n",
    "        \"bolt+s://knowledge-graph.integration.govuk.digital:7687\",\n",
    "        auth=(\"neo4j\", KG_PWD),\n",
    "    )\n",
    "\n",
    "    # run query on knowledge graph\n",
    "    results = driver.session().run(q, parameters)\n",
    "\n",
    "    # create networkx graph object\n",
    "    G = nx.MultiDiGraph()\n",
    "\n",
    "    # add nodes into networkx graph object\n",
    "    nodes = list(results.graph()._nodes.values())\n",
    "    print(\"Adding nodes\\n\")\n",
    "    for node in tqdm(nodes):\n",
    "        G.add_node(node.id, labels=node._labels, properties=node._properties)\n",
    "\n",
    "    # add edges into networkx graph object\n",
    "    rels = list(results.graph()._relationships.values())\n",
    "    print(\"Adding edges\\n\")\n",
    "    for rel in tqdm(rels):\n",
    "        G.add_edge(\n",
    "            rel.start_node.id,\n",
    "            rel.end_node.id,\n",
    "            key=rel.id,\n",
    "            type=rel.type,\n",
    "            properties=rel._properties,\n",
    "        )\n",
    "\n",
    "    return G\n",
    "\n",
    "\n",
    "def showGraph(g):\n",
    "    \"\"\"\n",
    "    Given a networkx graph g, this function visualises the graph.\n",
    "    Do not use for a large g.\n",
    "    \"\"\"\n",
    "    print(nx.info(g))\n",
    "    nx.draw(g)"
   ]
  },
  {
   "cell_type": "code",
   "execution_count": null,
   "metadata": {},
   "outputs": [],
   "source": [
    "def getNoOfTruePages(g):\n",
    "    \"\"\"\n",
    "    Calculate a proxy recall metric for the list of pages identified in a\n",
    "    subgraph (when compared to the ground truth for the economic recovery pages). \n",
    "    The output is the number of pages in the subgraph list that are present in \n",
    "    the ground truth list.  \n",
    "    \"\"\"\n",
    "    \n",
    "    # convert nodeIds to page path slug for the subgraph list\n",
    "    subgraph_list = [node[0] for node in g.nodes(data=True)]\n",
    "\n",
    "    # set up the ground truth list\n",
    "    true_list = list(economic_pages)\n",
    "\n",
    "    # how many pages are in the subgraph list that are also in the ground truth list\n",
    "    return (len(true_list)) - (len([node for node in true_list if node not in subgraph_list]))"
   ]
  },
  {
   "cell_type": "markdown",
   "metadata": {},
   "source": [
    "## Pre-defined economic recovery subgraph"
   ]
  },
  {
   "cell_type": "markdown",
   "metadata": {},
   "source": [
    "Following the page view approach, import the pages (nodes) in the economic recovery subgraph"
   ]
  },
  {
   "cell_type": "code",
   "execution_count": null,
   "metadata": {},
   "outputs": [],
   "source": [
    "GOOGLE_APPLICATION_CREDENTIALS = os.getenv('GOOGLE_APPLICATION_CREDENTIALS')\n",
    "\n",
    "# Connect to service account\n",
    "scope = ['https://spreadsheets.google.com/feeds'] \n",
    "credentials = ServiceAccountCredentials.from_json_keyfile_name(GOOGLE_APPLICATION_CREDENTIALS, scope) \n",
    "gc = gspread.authorize(credentials)\n",
    "\n",
    "# Import the data from google sheets\n",
    "spreadsheet_key = '1lLsgQRsl4bXmbyiwrbMNQOR_Zu-FkbqYRUmOOhTYc70' \n",
    "book = gc.open_by_key(spreadsheet_key) \n",
    "worksheet = book.worksheet('Top pages') \n",
    "table = worksheet.get_all_values()\n",
    "\n",
    "# Convert table data into a dataframe then set \n",
    "df = pd.DataFrame(table[1:], columns=table[0])\n",
    "economic_pages=set(list(filter(None, df['pagePathv2'])))"
   ]
  }
 ],
 "metadata": {
  "interpreter": {
   "hash": "c6313e0c8b41eb13583c36725f8a1f1fa69ba497bb7e6eaf409642bf47446516"
  },
  "kernelspec": {
   "display_name": "Python 3.9.7 64-bit ('govuk-wuj-network-analysis': pyenv)",
   "language": "python",
   "name": "python3"
  },
  "language_info": {
   "codemirror_mode": {
    "name": "ipython",
    "version": 3
   },
   "file_extension": ".py",
   "mimetype": "text/x-python",
   "name": "python",
   "nbconvert_exporter": "python",
   "pygments_lexer": "ipython3",
   "version": "3.9.7"
  },
  "orig_nbformat": 4
 },
 "nbformat": 4,
 "nbformat_minor": 2
}
