{
 "cells": [
  {
   "cell_type": "code",
   "execution_count": 7,
   "metadata": {},
   "outputs": [
    {
     "name": "stdout",
     "output_type": "stream",
     "text": [
      "[]\n"
     ]
    }
   ],
   "source": [
    "import nbformat as nbf\n",
    "from glob import glob\n",
    "import uuid\n",
    "\n",
    "def get_cell_id(id_length=8):\n",
    "    return uuid.uuid4().hex[:id_length]\n",
    "\n",
    "# -- SETUP\n",
    "nb_name = 'RandomWalks'\n",
    "\n",
    "# -- MAIN\n",
    "# grab notebook\n",
    "notebooks = list(filter(lambda x: nb_name in x, glob(\"*.ipynb\", recursive=True)))\n",
    "\n",
    "print(notebooks)\n",
    "\n",
    "# iterate over notebooks\n",
    "# for ipath in sorted(notebooks):\n",
    "#     # load notebook\n",
    "#     ntbk = nbf.read(ipath, nbf.NO_CONVERT)\n",
    "    \n",
    "#     cell_ids = []\n",
    "#     for cell in ntbk.cells:\n",
    "#         cell_ids.append(cell['id'])\n",
    "\n",
    "#     # reset cell ids if there are duplicates\n",
    "#     if not len(cell_ids) == len(set(cell_ids)): \n",
    "#         for cell in ntbk.cells:\n",
    "#             cell['id'] = get_cell_id()\n"
   ]
  },
  {
   "cell_type": "code",
   "execution_count": null,
   "metadata": {},
   "outputs": [],
   "source": []
  }
 ],
 "metadata": {
  "interpreter": {
   "hash": "b8b846935c606cea246de54deed5846dcd1684508b0f7522a02f36eb958d20d0"
  },
  "kernelspec": {
   "display_name": "Python 3.8.8 64-bit ('base': conda)",
   "language": "python",
   "name": "python3"
  },
  "language_info": {
   "codemirror_mode": {
    "name": "ipython",
    "version": 3
   },
   "file_extension": ".py",
   "mimetype": "text/x-python",
   "name": "python",
   "nbconvert_exporter": "python",
   "pygments_lexer": "ipython3",
   "version": "3.8.8"
  },
  "orig_nbformat": 4
 },
 "nbformat": 4,
 "nbformat_minor": 2
}
