{
 "cells": [
  {
   "cell_type": "markdown",
   "metadata": {},
   "source": [
    "# Step 4: Create NetworkX graph of the economic recovery whole user journey"
   ]
  },
  {
   "cell_type": "markdown",
   "metadata": {},
   "source": [
    "Combine the nodes and edges together, as defined in `step_three_extract_nodes_and_edges.sql`,\n",
    "to create a NetworkX functional graph of the economic recovery whole user journey. \n",
    "\n",
    "OUTPUT: \n",
    "- A NetworkX graph `G`\n",
    "  - This is saved as a pickle object in `../data/processed` \n",
    "\n",
    "REQUIREMENTS: \n",
    "- Run `step_one_identify_seed_pages.ipynb` to define seed0 and seed1 pages\n",
    "- Run `step_two_extract_page_hits.sql` to extract page hits for sessions that visit \n",
    "  at least one seed0 or seed1 page\n",
    "- Run `step_three_extract_nodes_and_edges.sql` to extract nodes and edges"
   ]
  },
  {
   "cell_type": "markdown",
   "metadata": {},
   "source": [
    "## Import modules and authentication "
   ]
  },
  {
   "cell_type": "code",
   "execution_count": null,
   "metadata": {},
   "outputs": [],
   "source": [
    "# import statements \n",
    "import os \n",
    "import networkx as nx\n",
    "import pandas as pd\n",
    "import pandas_gbq\n",
    "from google.oauth2 import service_account\n",
    "import pandas_gbq\n",
    "\n",
    "# authentication\n",
    "GOOGLE_APPLICATION_CREDENTIALS = os.getenv(\"GOOGLE_APPLICATION_CREDENTIALS\")\n",
    "credentials = service_account.Credentials.from_service_account_file(GOOGLE_APPLICATION_CREDENTIALS,)"
   ]
  },
  {
   "cell_type": "markdown",
   "metadata": {},
   "source": [
    "## Import nodes and edges "
   ]
  },
  {
   "cell_type": "code",
   "execution_count": null,
   "metadata": {},
   "outputs": [],
   "source": [
    "project_id = \"govuk-bigquery-analytics\"\n",
    "\n",
    "# nodes\n",
    "sql_nodes = \"\"\"\n",
    "SELECT \n",
    "    *\n",
    "FROM `govuk-bigquery-analytics.wuj_network_analysis.nodes_er`\n",
    "\"\"\"\n",
    "nodes = pandas_gbq.read_gbq(sql_nodes, project_id=project_id, credentials=credentials)  \n",
    "\n",
    "# edges \n",
    "sql_edges = \"\"\"\n",
    "SELECT \n",
    "    *\n",
    "FROM `govuk-bigquery-analytics.wuj_network_analysis.edges_er`\n",
    "\"\"\"\n",
    "edges = pandas_gbq.read_gbq(sql_edges, project_id=project_id, credentials=credentials)"
   ]
  },
  {
   "cell_type": "markdown",
   "metadata": {},
   "source": [
    "## Create NetworkX graph"
   ]
  },
  {
   "cell_type": "code",
   "execution_count": null,
   "metadata": {},
   "outputs": [],
   "source": [
    "# add nodes, edges, and edge weight \n",
    "G=nx.from_pandas_edgelist(edges, 'sourcePagePath', 'destinationPagePath', ['edgeWeight'], create_using=nx.DiGraph())\n",
    "\n",
    "# iterate over nodes and set the source nodes' attributes\n",
    "nx.set_node_attributes(G, pd.Series(nodes.documentType.values, index=nodes.sourcePagePath).to_dict(), 'documentType')\n",
    "nx.set_node_attributes(G, pd.Series(nodes.topLevelTaxons.values, index=nodes.sourcePagePath).to_dict(), 'topLevelTaxons')\n",
    "nx.set_node_attributes(G, pd.Series(nodes.bottomLevelTaxons.values, index=nodes.sourcePagePath).to_dict(), 'bottomLevelTaxons')\n",
    "nx.set_node_attributes(G, pd.Series(nodes.sourcePageSessionHitsAll.values, index=nodes.sourcePagePath).to_dict(), 'sessionHitsAll')\n",
    "nx.set_node_attributes(G, pd.Series(nodes.sourcePageSessionHitsEntranceOnly.values, index=nodes.sourcePagePath).to_dict(), 'entranceHit')\n",
    "nx.set_node_attributes(G, pd.Series(nodes.sourcePageSessionHitsExitOnly.values, index=nodes.sourcePagePath).to_dict(), 'exitHit')\n",
    "nx.set_node_attributes(G, pd.Series(nodes.sourcePageSessionHitsEntranceAndExit.values, index=nodes.sourcePagePath).to_dict(), 'entranceAndExitHit')\n",
    "\n",
    "# save functional graph \n",
    "nx.write_gpickle(G, \"../data/processed/functional_session_hit_directed_graph_er.gpickle\")"
   ]
  }
 ],
 "metadata": {
  "interpreter": {
   "hash": "c6313e0c8b41eb13583c36725f8a1f1fa69ba497bb7e6eaf409642bf47446516"
  },
  "kernelspec": {
   "display_name": "Python 3 (ipykernel)",
   "language": "python",
   "name": "python3"
  },
  "language_info": {
   "codemirror_mode": {
    "name": "ipython",
    "version": 3
   },
   "file_extension": ".py",
   "mimetype": "text/x-python",
   "name": "python",
   "nbconvert_exporter": "python",
   "pygments_lexer": "ipython3",
   "version": "3.9.7"
  }
 },
 "nbformat": 4,
 "nbformat_minor": 2
}
