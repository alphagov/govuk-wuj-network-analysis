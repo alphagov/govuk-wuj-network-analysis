{
 "cells": [
  {
   "cell_type": "markdown",
   "id": "89d8409a",
   "metadata": {},
   "source": [
    "# Creating a Bokeh plot to visualise the economic recovery subgraph"
   ]
  },
  {
   "cell_type": "markdown",
   "id": "b5843ed1",
   "metadata": {},
   "source": [
    "Plot the networkx subgraph to explore the page view approach economic recovery subgraph (11677 nodes and 88111 edges). `seed0` and `seed1` nodes are defined to identify the interactions between them and adjacent nodes.\n",
    "\n",
    "OUTPUT:\n",
    "- A html file is saved within the working directory `Economic Recovery Neighbour Graph.html`\n",
    "\n",
    "REQUIREMENTS:\n",
    "- Run `step_one_identify_seed_pages.ipynb` to define `seed0` and `seed1` pages\n",
    "- Run `step_two_extract_page_hits.sql` to extract page hits for sessions that visit at least one `seed0` or `seed1` page\n",
    "- Run `step_three_extract_nodes_and_edges.sql` to extract nodes and edges\n",
    "- Run `step_four_create_networkx_graph.ipynb` to create NetworkX graph of the economic recovery whole user journey"
   ]
  },
  {
   "cell_type": "markdown",
   "id": "75777726",
   "metadata": {},
   "source": [
    "## Import statements"
   ]
  },
  {
   "cell_type": "code",
   "execution_count": null,
   "id": "dcf981a9",
   "metadata": {},
   "outputs": [],
   "source": [
    "import networkx as nx\n",
    "from bokeh.io import output_notebook, show, save\n",
    "from bokeh.models import Circle, MultiLine\n",
    "from bokeh.plotting import figure\n",
    "from bokeh.plotting import from_networkx\n",
    "from bokeh.models import NodesAndLinkedEdges"
   ]
  },
  {
   "cell_type": "markdown",
   "id": "a488fa99",
   "metadata": {},
   "source": [
    "## Import graph and define seed pages"
   ]
  },
  {
   "cell_type": "code",
   "execution_count": null,
   "id": "7fc73d9f",
   "metadata": {},
   "outputs": [],
   "source": [
    "# get networkx graph\n",
    "G = nx.read_gpickle(\"../../data/processed/functional_session_hit_directed_graph_er.gpickle\")\n",
    "\n",
    "# seed0 pages\n",
    "seed0=['/topic/further-education-skills', \n",
    "       '/browse/working/finding-job']\n",
    "\n",
    "# seed1 pages\n",
    "seed1=['/browse/working/state-pension',\n",
    "       '/browse/working/workplace-personal-pensions',\n",
    "       '/browse/working/rights-trade-unions',\n",
    "       '/contact-jobcentre-plus',\n",
    "       '/jobseekers-allowance',\n",
    "       '/browse/working/tax-minimum-wage',\n",
    "       '/browse/working/time-off',\n",
    "       '/looking-for-work-if-disabled',\n",
    "       '/become-apprentice',\n",
    "       '/volunteering',\n",
    "       '/tell-employer-or-college-about-criminal-record', \n",
    "       '/browse/working/finding-job',\n",
    "       '/employers-checks-job-applicants',\n",
    "       '/browse/working/contract-working-hours',\n",
    "       '/browse/working/redundancies-dismissals',\n",
    "       '/browse/working/armed-forces',\n",
    "       '/apply-apprenticeship',\n",
    "       '/find-a-job',\n",
    "       '/prove-right-to-work',\n",
    "       '/job-offers-your-rights',\n",
    "       '/report-problem-criminal-record-certificate',\n",
    "       '/criminal-record-check-documents',\n",
    "       '/criminal-record-checks-apply-role',\n",
    "       '/moving-from-benefits-to-work',\n",
    "       '/jobsearch-rights',\n",
    "       '/find-internship',\n",
    "       '/employment-rights-for-interns',\n",
    "       '/topic/further-education-skills/apprenticeships',\n",
    "       '/find-traineeship',\n",
    "       '/work-reference',\n",
    "       '/career-skills-and-training',\n",
    "       '/access-to-work',\n",
    "       '/request-copy-criminal-record',\n",
    "       '/guidance/apply-for-communication-support-at-a-job-interview-if-you-have-a-disability-or-health-condition-access-to-work',\n",
    "       '/topic/further-education-skills/vocational-qualifications',\n",
    "       '/register-jobs-international-organisations',\n",
    "       '/topic/defence-armed-forces/military-recruitment-training-operations',\n",
    "       '/topic/further-education-skills/administration',\n",
    "       '/topic/further-education-skills/learning-records-service',\n",
    "       '/topic/work-careers/government-graduate-schemes',\n",
    "       '/topic/work-careers/secondments-with-government']"
   ]
  },
  {
   "cell_type": "markdown",
   "id": "f854a2e6",
   "metadata": {},
   "source": [
    "## Add node properties related to colour"
   ]
  },
  {
   "cell_type": "code",
   "execution_count": null,
   "id": "50122abc",
   "metadata": {},
   "outputs": [],
   "source": [
    "list(G.nodes)"
   ]
  },
  {
   "cell_type": "code",
   "execution_count": null,
   "id": "4f4c09d7",
   "metadata": {},
   "outputs": [],
   "source": [
    "wuj_colours = {\n",
    "    'none': 'white',\n",
    "    'seed0': 'red',\n",
    "    'seed1': 'blue'\n",
    "}\n",
    "\n",
    "wuj_highlight_colours = {\n",
    "    'none': 'green',\n",
    "    'seed0': 'orange',\n",
    "    'seed1': 'purple'\n",
    "}\n",
    "\n",
    "wuj_pages = {\n",
    "    'seed0': set(seed0),\n",
    "    'seed1': set(seed1)\n",
    "}\n",
    "\n",
    "for page in G.nodes:\n",
    "    G.nodes[page]['wuj'] = 'none'\n",
    "    G.nodes[page]['wuj_colour'] = wuj_colours['none']\n",
    "    G.nodes[page]['title'] = page\n",
    "    for key, value in wuj_pages.items():\n",
    "        if page in value:\n",
    "            G.nodes[page]['wuj'] = key\n",
    "            G.nodes[page]['wuj_colour'] = wuj_colours[key]\n",
    "            break"
   ]
  },
  {
   "cell_type": "markdown",
   "id": "1952d60d",
   "metadata": {},
   "source": [
    "## Add colour to edges"
   ]
  },
  {
   "cell_type": "code",
   "execution_count": 166,
   "id": "a68cf7d5",
   "metadata": {},
   "outputs": [],
   "source": [
    "# adding colour attributes to edges for the bokeh plot\n",
    "for i,j,data in G.edges(data=True):\n",
    "    data['wuj_edge_colour'] = 'black'\n",
    "    data['edge_highlight_colour'] = '#027600'\n",
    "    data['edge_alpha'] = 0.1"
   ]
  },
  {
   "cell_type": "code",
   "execution_count": 167,
   "id": "38c42c65",
   "metadata": {},
   "outputs": [],
   "source": [
    "# seed0 graph\n",
    "seed0_graph = G.subgraph([node[0] for node in G.nodes(data=True) if node[1] in seed0])\n",
    "\n",
    "for i,j,data in seed0_graph.edges(data=True):\n",
    "    data['wuj_edge_colour'] = 'red'\n",
    "    data['edge_highlight_colour'] = 'orange'\n",
    "    data['edge_alpha'] = 0.5"
   ]
  },
  {
   "cell_type": "code",
   "execution_count": 168,
   "id": "af486f93",
   "metadata": {},
   "outputs": [],
   "source": [
    "# seed1 graph\n",
    "seed1_graph = G.subgraph([node[0] for node in G.nodes(data=True) if node[1] in seed1])\n",
    "\n",
    "for i,j,data in seed1_graph.edges(data=True):\n",
    "    data['wuj_edge_colour'] = 'blue'\n",
    "    data['edge_highlight_colour'] = '#E60CEC'\n",
    "    data['edge_alpha'] = 0.5"
   ]
  },
  {
   "cell_type": "markdown",
   "id": "63e28fa0",
   "metadata": {},
   "source": [
    "## Create neighbourhoods"
   ]
  },
  {
   "cell_type": "code",
   "execution_count": 169,
   "id": "37e986be",
   "metadata": {},
   "outputs": [],
   "source": [
    "seed0_neighbourhood = [list(nx.generators.ego_graph(G, seed0, radius=1).nodes) for seed0 in seed0]\n",
    "seed0_neighbourhood = set.union(*map(set, seed0_neighbourhood))\n",
    "seed0_neighbourhood_graph = G.subgraph(seed0_neighbourhood)"
   ]
  },
  {
   "cell_type": "code",
   "execution_count": null,
   "id": "f4edbda5",
   "metadata": {},
   "outputs": [],
   "source": [
    "seed1_neighbourhood = [list(nx.generators.ego_graph(G, seed1, radius=1).nodes) for seed1 in seed1]\n",
    "seed1_neighbourhood = set.union(*map(set, seed1_neighbourhood))\n",
    "seed1_neighbourhood_graph = G.subgraph(seed1_neighbourhood)"
   ]
  },
  {
   "cell_type": "markdown",
   "id": "cb25ed28",
   "metadata": {},
   "source": [
    "## Plot the Bokeh graph"
   ]
  },
  {
   "cell_type": "code",
   "execution_count": null,
   "id": "29a0480f",
   "metadata": {},
   "outputs": [],
   "source": [
    "output_notebook()\n",
    "\n",
    "# choose colours for node and edge highlighting\n",
    "node_highlight_color = 'white'\n",
    "edge_highlight_color = 'green'\n",
    "\n",
    "# choose attributes from G network to size and colour by — setting manual size (e.g. 10) or color (e.g. 'skyblue') also allowed\n",
    "color_by_this_attribute = 'wuj_colour'\n",
    "edge_color_by_this_attribute = 'wuj_edge_colour'\n",
    "edge_alpha_by_this_attribute = 'edge_alpha'\n",
    "edge_highlight_color_by_this_attribute = 'edge_highlight_colour'\n",
    "\n",
    "# title\n",
    "title = 'Economic Recovery Neighbour Graph'\n",
    "\n",
    "# establish which categories will appear when hovering over each node\n",
    "HOVER_TOOLTIPS = [\n",
    "       ('Seed page', '@wuj'),\n",
    "       ('Page path', '@title')\n",
    "]\n",
    "\n",
    "# create a plot — set dimensions, toolbar, and title\n",
    "plot = figure(tooltips = HOVER_TOOLTIPS,\n",
    "              tools=\"pan,wheel_zoom,save,reset\", active_scroll='wheel_zoom',title=title,\n",
    "              plot_width=1400, plot_height=800)\n",
    "\n",
    "# create a network graph object\n",
    "network_graph = from_networkx(seed0_neighbourhood_graph, nx.kamada_kawai_layout, center=(0, 0))\n",
    "\n",
    "# set node sizes and colours according to node degree (colour as category from attribute)\n",
    "network_graph.node_renderer.glyph = Circle(fill_color=color_by_this_attribute)\n",
    "\n",
    "# set node highlight colours\n",
    "network_graph.node_renderer.hover_glyph = Circle(fill_color=node_highlight_color, line_width=2)\n",
    "network_graph.node_renderer.selection_glyph = Circle(fill_color=node_highlight_color, line_width=2)\n",
    "\n",
    "# set edge opacity and width\n",
    "network_graph.edge_renderer.glyph = MultiLine(line_alpha=edge_alpha_by_this_attribute, line_width=1, line_color=edge_color_by_this_attribute)\n",
    "\n",
    "# set edge highlight colours\n",
    "network_graph.edge_renderer.selection_glyph = MultiLine(line_color=edge_highlight_color_by_this_attribute, line_width=1.5)\n",
    "network_graph.edge_renderer.hover_glyph = MultiLine(line_color=edge_highlight_color_by_this_attribute, line_width=1.5)\n",
    "\n",
    "# highlight nodes and edges\n",
    "network_graph.selection_policy = NodesAndLinkedEdges()\n",
    "network_graph.inspection_policy = NodesAndLinkedEdges()\n",
    "\n",
    "plot.renderers.append(network_graph)\n",
    "\n",
    "show(plot)\n",
    "save(plot, filename=f\"{title}.html\")"
   ]
  },
  {
   "cell_type": "markdown",
   "id": "0584e2b6",
   "metadata": {},
   "source": [
    "## Nodes and their edges"
   ]
  },
  {
   "cell_type": "markdown",
   "id": "fb8bb1dd",
   "metadata": {},
   "source": [
    "To see if there are any patterns in relation to a node and it's edges, e.g. are there any clear segments for whole user journeys?"
   ]
  },
  {
   "cell_type": "code",
   "execution_count": null,
   "id": "ebe42035",
   "metadata": {},
   "outputs": [],
   "source": [
    "# create a dict of all nodes and it's edges\n",
    "dict_of_nodes_and_edges = dict()\n",
    "for node in G.nodes():\n",
    "    dict_of_nodes_and_edges[node] = list(nx.neighbors(G, node))\n",
    "\n",
    "# sort dict based on the length of its' values (i.e. top result is the largest number of neighbours)\n",
    "sorted(dict_of_nodes_and_edges.items(), key= lambda x: len(x[1]), reverse=True)"
   ]
  }
 ],
 "metadata": {
  "kernelspec": {
   "display_name": "Python 3 (ipykernel)",
   "language": "python",
   "name": "python3"
  },
  "language_info": {
   "codemirror_mode": {
    "name": "ipython",
    "version": 3
   },
   "file_extension": ".py",
   "mimetype": "text/x-python",
   "name": "python",
   "nbconvert_exporter": "python",
   "pygments_lexer": "ipython3",
   "version": "3.9.7"
  }
 },
 "nbformat": 4,
 "nbformat_minor": 5
}
