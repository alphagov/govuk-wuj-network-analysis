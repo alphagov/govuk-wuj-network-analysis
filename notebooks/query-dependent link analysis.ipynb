{
 "cells": [
  {
   "cell_type": "markdown",
   "id": "87e9d961",
   "metadata": {},
   "source": [
    "# Query-dependent link analysis"
   ]
  },
  {
   "cell_type": "markdown",
   "id": "a7f2d162",
   "metadata": {},
   "source": [
    "This notebook aims to identify the WUJ Start a Business pages using query-dependent link analysis"
   ]
  },
  {
   "cell_type": "markdown",
   "id": "5a06ae98",
   "metadata": {},
   "source": [
    "# Functions for coercing knowledge graph into NetworkX"
   ]
  },
  {
   "cell_type": "code",
   "execution_count": null,
   "id": "fb3f213d",
   "metadata": {},
   "outputs": [],
   "source": [
    "from neo4j import GraphDatabase\n",
    "import networkx as nx\n",
    "import os\n",
    "import pandas as pd\n",
    "from tqdm.notebook import tqdm\n",
    "import operator\n",
    "from operator import itemgetter\n",
    "from collections import defaultdict\n",
    "import gspread \n",
    "from oauth2client.service_account import ServiceAccountCredentials"
   ]
  },
  {
   "cell_type": "code",
   "execution_count": null,
   "id": "1bcde9cb",
   "metadata": {},
   "outputs": [],
   "source": [
    "def getSubgraph(q, parameters=None):\n",
    "\n",
    "    '''\n",
    "    Given a Cypher query q, this function queries the knowledge graph,\n",
    "    returns the nodes and edges from this query, and uses them to construct\n",
    "    a networkx graph.\n",
    "\n",
    "    E.g. getSubgraph(r'MATCH (u:Cid)-[r:HYPERLINKS_TO]->(v:Cid) RETURN *')\n",
    "         returns the structural graph.\n",
    "\n",
    "    Optionally, can add in parameters (dictionary), allowing Python variables\n",
    "    to be integrated into the Cypher query q.\n",
    "\n",
    "    E.g.\n",
    "        parameters = {}\n",
    "        parameters['pages'] = ['a','list','of','stuff']\n",
    "        q7 = f\"\"\"\n",
    "        MATCH (u:Cid)-[r]-(v:Cid)\n",
    "        WHERE u.name IN $pages AND v.name in $pages\n",
    "        RETURN *\n",
    "        \"\"\"\n",
    "\n",
    "        g7 = getSubgraph(q7, parameters)\n",
    "    '''\n",
    "\n",
    "    # get credentials\n",
    "    # add to .secrets: export KG_PWD=\"<PASSWORD>\"\n",
    "    KG_PWD = os.getenv(\"KG_PWD\")\n",
    "\n",
    "    # create connection to knowledge graph\n",
    "    driver = GraphDatabase.driver(\n",
    "        \"bolt+s://knowledge-graph.integration.govuk.digital:7687\",\n",
    "        auth=(\"neo4j\", KG_PWD),\n",
    "    )\n",
    "\n",
    "    # run query on knowledge graph\n",
    "    results = driver.session().run(q, parameters)\n",
    "\n",
    "    # create networkx graph object\n",
    "    G = nx.MultiDiGraph()\n",
    "\n",
    "    # add nodes into networkx graph object\n",
    "    nodes = list(results.graph()._nodes.values())\n",
    "    print(\"Adding nodes\\n\")\n",
    "    for node in tqdm(nodes):\n",
    "        G.add_node(node.id, labels=node._labels, properties=node._properties)\n",
    "\n",
    "    # add edges into networkx graph object\n",
    "    rels = list(results.graph()._relationships.values())\n",
    "    print(\"Adding edges\\n\")\n",
    "    for rel in tqdm(rels):\n",
    "        G.add_edge(\n",
    "            rel.start_node.id,\n",
    "            rel.end_node.id,\n",
    "            key=rel.id,\n",
    "            type=rel.type,\n",
    "            properties=rel._properties,\n",
    "        )\n",
    "\n",
    "    return G\n",
    "\n",
    "\n",
    "def showGraph(g):\n",
    "    \"\"\"\n",
    "    Given a networkx graph g, this function visualises the graph.\n",
    "    Do not use for a large g.\n",
    "    \"\"\"\n",
    "    print(nx.info(g))\n",
    "    nx.draw(g)"
   ]
  },
  {
   "cell_type": "code",
   "execution_count": null,
   "id": "a5926e3f",
   "metadata": {},
   "outputs": [],
   "source": [
    "def getNoOfTruePages(g):\n",
    "    \"\"\"\n",
    "    Calculate a proxy recall metric for the list of pages identified in a\n",
    "    subgraph (when compared to the ground truth of the start a business pages). \n",
    "    The ouput is the number of pages in the subgraph list that are also in \n",
    "    the ground truth list.  \n",
    "    \"\"\"\n",
    "    \n",
    "    # convert nodeIds to page path slug for the subgraph list\n",
    "    subgraph_list = [node[1]['properties']['name'] for node in g.nodes(data=True)]\n",
    "\n",
    "    # set up the ground truth list\n",
    "    true_list = list(sab_pages)\n",
    "\n",
    "    # how many pages are in the subgraph list that are also in the ground truth list\n",
    "    return 308 - len([node for node in true_list if node not in subgraph_list])\n",
    "    "
   ]
  },
  {
   "cell_type": "markdown",
   "id": "3ad04140",
   "metadata": {},
   "source": [
    "# Start a Business (pre-defined pages) graph"
   ]
  },
  {
   "cell_type": "markdown",
   "id": "56d4bc68",
   "metadata": {},
   "source": [
    "To investigate the graph of a manually curated list of a WUJ (Start a Business), i.e. the 'ideal' graph. Creates a graph of 308 nodes and 14295 edges"
   ]
  },
  {
   "cell_type": "code",
   "execution_count": null,
   "id": "f9753fd2",
   "metadata": {},
   "outputs": [],
   "source": [
    "GOOGLE_APPLICATION_CREDENTIALS = os.getenv('GOOGLE_APPLICATION_CREDENTIALS')\n",
    "\n",
    "# Connect to service account\n",
    "scope = ['https://spreadsheets.google.com/feeds'] \n",
    "credentials = ServiceAccountCredentials.from_json_keyfile_name(GOOGLE_APPLICATION_CREDENTIALS, scope) \n",
    "gc = gspread.authorize(credentials)\n",
    "\n",
    "# Import the data from google sheets\n",
    "spreadsheet_key = '1x3lHpUkIm-KTnWrRJU11An1J2Yb4KJT8z0QpuXOm3e0' \n",
    "book = gc.open_by_key(spreadsheet_key) \n",
    "worksheet = book.worksheet('sab_pages') \n",
    "table = worksheet.get_all_values()\n",
    "\n",
    "# Convert table data into a dataframe then set \n",
    "df = pd.DataFrame(table[1:], columns=table[0])\n",
    "sab_pages=set(df['pagePath'])"
   ]
  },
  {
   "cell_type": "code",
   "execution_count": null,
   "id": "f865310f",
   "metadata": {},
   "outputs": [],
   "source": [
    "# Query neo4j\n",
    "parameters = {}\n",
    "parameters['pages'] = list(sab_pages)\n",
    "\n",
    "query = r\"\"\"\n",
    "MATCH (c1:Cid)-[r:HYPERLINKS_TO|:USER_MOVEMENT]-(c2:Cid)\n",
    "WHERE c1.name IN $pages\n",
    "RETURN *\n",
    "\"\"\"\n",
    "g = getSubgraph(query, parameters)\n",
    "showGraph(g)"
   ]
  },
  {
   "cell_type": "code",
   "execution_count": null,
   "id": "79e3b4a0",
   "metadata": {},
   "outputs": [],
   "source": [
    "# Create a list of the nodes\n",
    "nodes = list(g.nodes(data=True))\n",
    "\n",
    "# Only keep nodes that are also in sab_pages\n",
    "sabNodes = [node for node in nodes if node[1]['properties']['name'] in sab_pages]\n",
    "g = g.subgraph([node[0] for node in sabNodes])\n",
    "\n",
    "# Draw graph\n",
    "showGraph(g)"
   ]
  },
  {
   "cell_type": "markdown",
   "id": "4c35a7ff",
   "metadata": {},
   "source": [
    "## Exploring the Start a Business subgraph"
   ]
  },
  {
   "cell_type": "markdown",
   "id": "99b3668d",
   "metadata": {},
   "source": [
    "Summary: \n",
    "- Subgraph components = 274, 16, 3, 2, 2, 1, 1, 1, 1, 1, 1, 1, 1, 1, 1, 1\n",
    "- Max shortest path length = 17\n",
    "- Centrality metrics provide an estimate of node importance, pages such as \n",
    "  '/get-information-about-a-company' and '/running-a-limited-company'\n",
    "- Nodes with user movement between = 186\n",
    "- User movement weight ranges from 6 to 34837"
   ]
  },
  {
   "cell_type": "code",
   "execution_count": null,
   "id": "90df4bb9",
   "metadata": {},
   "outputs": [],
   "source": [
    "## Which nodes are in the list but not in the graph? \n",
    "## Answer: two pages in the list no longer exist, so are not in the graph\n",
    "\n",
    "# List of node property 'name'\n",
    "nodes_graph = [v['properties']['name'] for _,v in g.nodes(data=True)]\n",
    "\n",
    "# Which nodes are in sab_pages but not in the graph\n",
    "[node for node in sab_pages if node not in nodes_graph]"
   ]
  },
  {
   "cell_type": "code",
   "execution_count": null,
   "id": "d7a80d8f",
   "metadata": {},
   "outputs": [],
   "source": [
    "## Subgraph components: [274, 16, 3, 2, 2, 1, 1, 1, 1, 1, 1, 1, 1, 1, 1, 1]\n",
    "nx.is_weakly_connected(g)\n",
    "[len(c) for c in sorted(nx.weakly_connected_components(g), key=len, reverse=True)]"
   ]
  },
  {
   "cell_type": "code",
   "execution_count": null,
   "id": "a93854ed",
   "metadata": {},
   "outputs": [],
   "source": [
    "list(nx.weakly_connected_components(g))"
   ]
  },
  {
   "cell_type": "code",
   "execution_count": null,
   "id": "a090b285",
   "metadata": {},
   "outputs": [],
   "source": [
    "## Max shortest path length: 17\n",
    "max([max(j.values()) for (i,j) in nx.shortest_path_length(g)]) # find the largest diameter amongst all components within g"
   ]
  },
  {
   "cell_type": "code",
   "execution_count": null,
   "id": "823e754d",
   "metadata": {},
   "outputs": [],
   "source": [
    "# Between centrality: the number of shortest paths that pass through the node - a 'bridge' between nodes\n",
    "g_di = nx.DiGraph(g)\n",
    "g_di_between = nx.betweenness_centrality(g_di)\n",
    "g_between = dict(sorted(g_di_between.items(), key=operator.itemgetter(1),reverse=True))\n",
    "\n",
    "\n",
    "node_names = []\n",
    "for k,v in g.nodes(data=True):\n",
    "    node_names.append(k)\n",
    "    node_names.append(v['properties']['name']) # append cid id and name    \n",
    "node_names_dict = dict(zip(node_names[::2], node_names[1::2]))  # turn list into dict \n",
    "g_between = {v: node_names_dict.get(k, v) for k, v in g_between.items()}  # replace cid with node name \n",
    "list(g_between.items())[:10][:10]"
   ]
  },
  {
   "cell_type": "code",
   "execution_count": null,
   "id": "db344d6a",
   "metadata": {},
   "outputs": [],
   "source": [
    "# Degree centrality: counts the number of incoming and outgoing relationships from a node - 'most connected'\n",
    "g_degree = nx.degree_centrality(g)\n",
    "g_degree = dict(sorted(g_degree.items(), key=operator.itemgetter(1),reverse=True))\n",
    "\n",
    "[node[1]['properties']['name'] for node in G.nodes(data=True)]\n",
    "\n",
    "node_names = []\n",
    "for k,v in g.nodes(data=True):\n",
    "    node_names.append(k)\n",
    "    node_names.append(v['properties']['name'])  # append cid id and name    \n",
    "node_names_dict = dict(zip(node_names[::2], node_names[1::2]))  # turn list into dict \n",
    "g_degree = {v: node_names_dict.get(k, v) for k, v in g_degree.items()}  # replace cid with node name \n",
    "list(g_degree.items())[:10][:10]"
   ]
  },
  {
   "cell_type": "code",
   "execution_count": null,
   "id": "fc683c5a",
   "metadata": {},
   "outputs": [],
   "source": [
    "# Closeness centrality: closeness to other nodes\n",
    "g_closeness = nx.closeness_centrality(g)\n",
    "g_closeness = dict(sorted(g_closeness.items(), key=operator.itemgetter(1),reverse=True))\n",
    "\n",
    "node_names = []\n",
    "for k,v in g.nodes(data=True):\n",
    "    node_names.append(k)\n",
    "    node_names.append(v['properties']['name'])  # append cid id and name    \n",
    "node_names_dict = dict(zip(node_names[::2], node_names[1::2]))  # turn list into dict \n",
    "g_closeness = {v: node_names_dict.get(k, v) for k, v in g_closeness.items()}  # replace cid with node name \n",
    "list(g_closeness.items())[:10][:10]"
   ]
  },
  {
   "cell_type": "code",
   "execution_count": null,
   "id": "21f68319",
   "metadata": {},
   "outputs": [],
   "source": [
    "# Eigenvector centrality \n",
    "g_di = nx.DiGraph(g)\n",
    "g_eigen = nx.eigenvector_centrality(g_di)\n",
    "g_eigen = dict(sorted(g_eigen.items(), key=operator.itemgetter(1),reverse=True))\n",
    "\n",
    "node_names = []\n",
    "for k,v in g.nodes(data=True):\n",
    "    node_names.append(k)\n",
    "    node_names.append(v['properties']['name']) # append cid id and name    \n",
    "node_names_dict = dict(zip(node_names[::2], node_names[1::2]))  # turn list into dict \n",
    "g_eigen = {v: node_names_dict.get(k, v) for k, v in g_eigen.items()}  # replace cid with node name \n",
    "list(g_eigen.items())[:10][:10]"
   ]
  },
  {
   "cell_type": "code",
   "execution_count": null,
   "id": "14b924d5",
   "metadata": {},
   "outputs": [],
   "source": [
    "# VoteRank\n",
    "g_voterank = nx.voterank(g)\n",
    "\n",
    "node_names = []\n",
    "for k,v in g.nodes(data=True):\n",
    "    node_names.append(k)\n",
    "    node_names.append(v['properties']['name']) # append cid id and name   \n",
    "node_names_dict = dict(zip(node_names[::2], node_names[1::2]))  # turn list into dict \n",
    "g_voterank = [node_names_dict.get(item,item)  for item in g_voterank]\n",
    "g_voterank[:10]"
   ]
  },
  {
   "cell_type": "code",
   "execution_count": null,
   "id": "50bbf9da",
   "metadata": {},
   "outputs": [],
   "source": [
    "# Which nodes have user_movement in or out? 186\n",
    "user_movement_nodes = []\n",
    "\n",
    "for node1, node2, data in g.edges(data=True):\n",
    "    if data['type']=='USER_MOVEMENT':\n",
    "            user_movement_nodes.append(node1)\n",
    "\n",
    "len(list(set(user_movement_nodes)))"
   ]
  },
  {
   "cell_type": "code",
   "execution_count": null,
   "id": "dba75caf",
   "metadata": {},
   "outputs": [],
   "source": [
    "# Weight (user movement) for each pair of nodes in the graph  \n",
    "user_movement_weights = []\n",
    "\n",
    "for node1, node2, data in g.edges(data=True):\n",
    "    if data['type']=='USER_MOVEMENT':\n",
    "        case = {'node1': node1, 'node2': node2, 'weight':data['properties']['weight'] }\n",
    "        user_movement_weights.append(case)\n",
    "\n",
    "sorted(user_movement_weights, key=itemgetter('weight'), reverse=True)\n",
    "\n",
    "# Sum the weight of each node \n",
    "user_movements_sum = defaultdict(float)\n",
    "\n",
    "for info in user_movement_weights:\n",
    "    user_movements_sum[info['node1']] += info['weight']\n",
    "\n",
    "user_movements_sum = [{'node1': node1, 'weight': user_movements_sum[node1]} \n",
    "                     for node1 in user_movements_sum]\n",
    "\n",
    "sorted(user_movements_sum, key=lambda x: x['weight'], reverse=True)"
   ]
  },
  {
   "cell_type": "markdown",
   "id": "b7866f38",
   "metadata": {},
   "source": [
    "# Defining subgraph based on session hits from BigQuery GA"
   ]
  },
  {
   "cell_type": "code",
   "execution_count": null,
   "id": "d35aa4d2",
   "metadata": {},
   "outputs": [],
   "source": [
    "# Import df of nodes (contentId) that is based on at least 5 session hits in a two-week period \n",
    "df = pd.read_csv('..data/processed/content_ids.csv', index_col=0)"
   ]
  },
  {
   "cell_type": "code",
   "execution_count": null,
   "id": "26c1889f",
   "metadata": {},
   "outputs": [],
   "source": [
    "# Graph\n",
    "g = nx.read_gpickle(\"../data/processed/5_hits_per_contentID_graph.gpickle\")"
   ]
  },
  {
   "cell_type": "markdown",
   "id": "fd047923",
   "metadata": {},
   "source": [
    "# Defining subgraphs to replicate the Start a Business pages"
   ]
  },
  {
   "cell_type": "markdown",
   "id": "6d098522",
   "metadata": {},
   "source": [
    "Exploring ways of creating a subgraph for a Start a Business WUJ (for query-dependent link analysis). \n",
    "<br>\n",
    "Using the ground truth WUJ graph, and a managable subgraph (df).\n",
    "<br><br>\n",
    "Summary:\n",
    "- Step by steps: 183 nodes, 27 in true list\n",
    "- Browse pages: 173 nodes, 56 in true list\n",
    "- Super-taxons: 2686 nodes, 154 in true list\n",
    "- 'Top' nodes: 644 nodes, 137 in true list\n",
    "- Keyword search: 370 nodes, 8 in true list\n",
    "- Keyword search v2: 411 nodes, 11 in true list\n",
    "- Merging all results: 4056 nodes, 191 in true list"
   ]
  },
  {
   "cell_type": "markdown",
   "id": "e4a4cef1",
   "metadata": {},
   "source": [
    "### Using step by steps: 183 nodes,  27 in the true list (or with [r1:HYPERLINKS_TO|:USER_MOVEMENT]-(c3:Cid) 4209 nodes and 163 in true list)\n"
   ]
  },
  {
   "cell_type": "code",
   "execution_count": null,
   "id": "2d184ea1",
   "metadata": {},
   "outputs": [],
   "source": [
    "# Query neo4j\n",
    "parameters = {}\n",
    "parameters['contentId'] = df['contentId'].tolist()\n",
    "parameters['pages'] = ['/export-customs-declaration', '/import-customs-declaration', '/import-goods-into-uk', \n",
    "                     '/set-up-limited-company', '/set-up-self-employed', '/export-goods'] \n",
    "\n",
    "query = f\"\"\"\n",
    "MATCH (u:Cid)-[r:HYPERLINKS_TO|USER_MOVEMENT]->(v:Cid)\n",
    "WHERE u.contentID IN $contentId AND v.contentID in $contentId \n",
    "WITH * \n",
    "MATCH (c1:Cid)-[r:HYPERLINKS_TO|:USER_MOVEMENT]-(c2:Cid)-[r1:HYPERLINKS_TO|:USER_MOVEMENT]-(c3:Cid)\n",
    "WHERE c1.name IN $pages\n",
    "RETURN *\n",
    "\"\"\"\n",
    "\n",
    "g = getSubgraph(query, parameters)\n",
    "nx.info(g)"
   ]
  },
  {
   "cell_type": "code",
   "execution_count": null,
   "id": "897246cc",
   "metadata": {},
   "outputs": [],
   "source": [
    "# Query neo4j\n",
    "parameters = {}\n",
    "parameters['contentId'] = df['contentId'].tolist()\n",
    "parameters['pages'] = ['/export-customs-declaration', '/import-customs-declaration', '/import-goods-into-uk', \n",
    "                       '/set-up-limited-company', '/set-up-self-employed', '/export-goods'] \n",
    "\n",
    "query = r\"\"\"\n",
    "MATCH (u:Cid)-[r:HYPERLINKS_TO|USER_MOVEMENT]->(v:Cid)\n",
    "WHERE u.contentID IN $contentId AND v.contentID in $contentId \n",
    "WITH *\n",
    "MATCH (c1:Cid)\n",
    "-[r1:HAS_STEP]->(s:Step)\n",
    "-[r2:HAS_TASK]->(c2:Cid)\n",
    "-[r3:HYPERLINKS_TO|USER_MOVEMENT]-(c3:Cid)\n",
    "WHERE c1.name IN $pages\n",
    "RETURN c2.name\n",
    "\"\"\"\n",
    "\n",
    "g = getSubgraph(query, parameters)\n",
    "nx.info(g)"
   ]
  },
  {
   "cell_type": "code",
   "execution_count": 70,
   "id": "cba5ff00",
   "metadata": {},
   "outputs": [
    {
     "data": {
      "text/plain": [
       "49"
      ]
     },
     "execution_count": 70,
     "metadata": {},
     "output_type": "execute_result"
    }
   ],
   "source": [
    "## Recall and precision\n",
    "\n",
    "# Convert nodeIds to page path names\n",
    "node_names_dict = {k:v['properties']['name'] for k,v in g.nodes(data=True)}\n",
    "\n",
    "# Set up lists to compare\n",
    "true_list = sab_pages\n",
    "subgraph_list = list(node_names_dict.values())\n",
    "\n",
    "# What pages are in the subgraph list but not in the true list? \n",
    "[node for node in subgraph_list if node not in true_list]\n",
    "\n",
    "# What pages are in the true list but not in the subgraph list? \n",
    "[node for node in true_list if node not in subgraph_list]\n",
    "\n",
    "# No. of pages in the subgraph list that are also in the true list\n",
    "getNoOfTruePages(g)"
   ]
  },
  {
   "cell_type": "markdown",
   "id": "c06389d4",
   "metadata": {},
   "source": [
    "### Using browse pages: 173 nodes, 56 in the true list ([r1:HYPERLINKS_TO|:USER_MOVEMENT]-(c3:Cid): 7157 nodes, 212 in true list)"
   ]
  },
  {
   "cell_type": "code",
   "execution_count": null,
   "id": "bb63e8d2",
   "metadata": {},
   "outputs": [],
   "source": [
    "# Query neo4j\n",
    "parameters = {}\n",
    "parameters['contentId'] = df['contentId'].tolist()\n",
    "\n",
    "query = f\"\"\"\n",
    "MATCH (u:Cid)-[r:HYPERLINKS_TO|USER_MOVEMENT]->(v:Cid)\n",
    "WHERE u.contentID IN $contentId AND v.contentID in $contentId\n",
    "WITH * \n",
    "MATCH (c1:Cid)-[r:HYPERLINKS_TO|:USER_MOVEMENT]-(c2:Cid)\n",
    "WHERE c1.name = '/browse/business'\n",
    "RETURN *\n",
    "\"\"\"\n",
    "\n",
    "g1 = getSubgraph(query, parameters)\n",
    "nx.info(g1)"
   ]
  },
  {
   "cell_type": "code",
   "execution_count": null,
   "id": "6e76367a",
   "metadata": {},
   "outputs": [],
   "source": [
    "# No. of pages in the subgraph list that are also in the true list\n",
    "getNoOfTruePages(g1)"
   ]
  },
  {
   "cell_type": "markdown",
   "id": "1e58ea1d",
   "metadata": {},
   "source": [
    "### Using taxons - this is too big (over 58000 distinct nodes)"
   ]
  },
  {
   "cell_type": "code",
   "execution_count": null,
   "id": "21542ecd",
   "metadata": {},
   "outputs": [],
   "source": [
    "# Query neo4j\n",
    "parameters = {}\n",
    "parameters['contentId'] = df['contentId'].tolist()\n",
    "\n",
    "query = f\"\"\"\n",
    "MATCH (u:Cid)-[r:HYPERLINKS_TO|USER_MOVEMENT]->(v:Cid)\n",
    "WHERE u.contentID IN $contentId AND v.contentID in $contentId\n",
    "WITH * \n",
    "MATCH (t:Taxon)<-[:IS_TAGGED_TO]-(c:Cid)\n",
    "WHERE t.taxonBasePath STARTS WITH '/business'\n",
    "RETURN *\n",
    "\"\"\"\n",
    "\n",
    "g2 = getSubgraph(query, parameters)\n",
    "nx.info(g2)"
   ]
  },
  {
   "cell_type": "code",
   "execution_count": null,
   "id": "18fbc028",
   "metadata": {},
   "outputs": [],
   "source": [
    "# No. of pages in the subgraph list that are also in the true list\n",
    "getNoOfTruePages(g2)"
   ]
  },
  {
   "cell_type": "markdown",
   "id": "9db88b2f",
   "metadata": {},
   "source": [
    "### Using supertaxons: 2686 nodes, 154 in true list"
   ]
  },
  {
   "cell_type": "code",
   "execution_count": null,
   "id": "deed8a87",
   "metadata": {},
   "outputs": [],
   "source": [
    "# Query neo4j\n",
    "parameters = {}\n",
    "parameters['contentId'] = df['contentId'].tolist()\n",
    "\n",
    "query = f\"\"\"\n",
    "MATCH (u:Cid)-[r:HYPERLINKS_TO|USER_MOVEMENT]->(v:Cid)\n",
    "WHERE u.contentID IN $contentId AND v.contentID in $contentId\n",
    "WITH * \n",
    "MATCH (t:Taxon)<-[:IS_TAGGED_TO]-(c:Cid)-[r:USER_MOVEMENT|:HYPERLINKS_TO]-(oc:Cid)-[:IS_TAGGED_TO]->(ot:Taxon)\n",
    "WHERE t.taxonBasePath STARTS WITH '/business'\n",
    "AND ot.taxonBasePath STARTS WITH '/money'\n",
    "RETURN *\n",
    "\"\"\"\n",
    "\n",
    "g2 = getSubgraph(query, parameters)\n",
    "nx.info(g2)"
   ]
  },
  {
   "cell_type": "code",
   "execution_count": null,
   "id": "9575da67",
   "metadata": {},
   "outputs": [],
   "source": [
    "# No. of pages in the subgraph list that are also in the true list\n",
    "getNoOfTruePages(g2)"
   ]
  },
  {
   "cell_type": "markdown",
   "id": "89629341",
   "metadata": {},
   "source": [
    "### Using the 'top' nodes (as defined by centrality metrics): 644 nodes, 137 in true list  ([r1:HYPERLINKS_TO|:USER_MOVEMENT]-(c3:Cid): 14306 nodes, 267 in true list)"
   ]
  },
  {
   "cell_type": "code",
   "execution_count": null,
   "id": "5f663ae7",
   "metadata": {},
   "outputs": [],
   "source": [
    "# Query neo4j\n",
    "parameters = {}\n",
    "parameters['contentId'] = df['contentId'].tolist()\n",
    "parameters['pages'] = ['/get-information-about-a-company', '/set-up-business', '/search-for-trademark', '/pay-corporation-tax', \n",
    "         '/running-a-limited-company', '/limited-company-formation', '/business-support-helpline', '/capital-allowances',\n",
    "         '/prepare-file-annual-accounts-for-limited-company', '/liquidate-your-company', '/set-up-sole-trader']\n",
    "\n",
    "query = f\"\"\"\n",
    "MATCH (u:Cid)-[r:HYPERLINKS_TO|USER_MOVEMENT]->(v:Cid)\n",
    "WHERE u.contentID IN $contentId AND v.contentID in $contentId\n",
    "WITH * \n",
    "MATCH (c1:Cid)-[r:HYPERLINKS_TO|:USER_MOVEMENT]-(c2:Cid)\n",
    "WHERE c1.name IN $pages\n",
    "RETURN *\n",
    "\"\"\"\n",
    "\n",
    "g3 = getSubgraph(query, parameters)\n",
    "nx.info(g3)"
   ]
  },
  {
   "cell_type": "code",
   "execution_count": null,
   "id": "b2d1d5ed",
   "metadata": {},
   "outputs": [],
   "source": [
    "# No. of pages in the subgraph list that are also in the true list\n",
    "getNoOfTruePages(g3)"
   ]
  },
  {
   "cell_type": "markdown",
   "id": "674171b9",
   "metadata": {},
   "source": [
    "### Using keyword search: 370 nodes, 8 in true list"
   ]
  },
  {
   "cell_type": "code",
   "execution_count": null,
   "id": "979bfeb7",
   "metadata": {},
   "outputs": [],
   "source": [
    "# Query neo4j\n",
    "parameters = {}\n",
    "parameters['contentId'] = df['contentId'].tolist()\n",
    "\n",
    "query = f\"\"\"\n",
    "MATCH (u:Cid)-[r:HYPERLINKS_TO|USER_MOVEMENT]->(v:Cid)\n",
    "WHERE u.contentID IN $contentId AND v.contentID in $contentId\n",
    "WITH * \n",
    "MATCH (c1:Cid)-[r:HYPERLINKS_TO|:USER_MOVEMENT]-(c2:Cid)\n",
    "WHERE toLower(c1.text) CONTAINS 'start a business'\n",
    "RETURN *\n",
    "\"\"\"\n",
    "\n",
    "g4 = getSubgraph(query, parameters)\n",
    "nx.info(g4)"
   ]
  },
  {
   "cell_type": "code",
   "execution_count": null,
   "id": "d5e85f3f",
   "metadata": {},
   "outputs": [],
   "source": [
    "# No. of pages in the subgraph list that are also in the true list\n",
    "getNoOfTruePages(g4)"
   ]
  },
  {
   "cell_type": "markdown",
   "id": "ccabd7f5",
   "metadata": {},
   "source": [
    "### Using keyword search v2: 411 nodes, 11 in true list"
   ]
  },
  {
   "cell_type": "code",
   "execution_count": null,
   "id": "e65dcbb5",
   "metadata": {},
   "outputs": [],
   "source": [
    "# Query neo4j\n",
    "parameters = {}\n",
    "parameters['contentId'] = df['contentId'].tolist()\n",
    "\n",
    "query = f\"\"\"\n",
    "MATCH (u:Cid)-[r:HYPERLINKS_TO|USER_MOVEMENT]->(v:Cid)\n",
    "WHERE u.contentID IN $contentId AND v.contentID in $contentId\n",
    "WITH * \n",
    "MATCH (c1:Cid)-[r:HYPERLINKS_TO|:USER_MOVEMENT]-(c2:Cid)\n",
    "WHERE toLower(c1.text) CONTAINS 'start business'\n",
    "RETURN *\n",
    "\"\"\"\n",
    "\n",
    "g5 = getSubgraph(query, parameters)\n",
    "nx.info(g5)"
   ]
  },
  {
   "cell_type": "code",
   "execution_count": null,
   "id": "dd100f77",
   "metadata": {},
   "outputs": [],
   "source": [
    "# No. of pages in the subgraph list that are also in the true list\n",
    "getNoOfTruePages(g5)"
   ]
  },
  {
   "cell_type": "markdown",
   "id": "c9ccabd2",
   "metadata": {},
   "source": [
    "###  Merging results"
   ]
  },
  {
   "cell_type": "code",
   "execution_count": null,
   "id": "0e8cd00a",
   "metadata": {},
   "outputs": [],
   "source": [
    "# Uncomment graphs to include, comment graphs to exclude\n",
    "g_list = []\n",
    "[g_list.append(v['properties']['name']) for k,v in g.nodes(data=True)]\n",
    "[g_list.append(v['properties']['name']) for k,v in g1.nodes(data=True)]\n",
    "[g_list.append(v['properties']['name']) for k,v in g2.nodes(data=True)]\n",
    "[g_list.append(v['properties']['name']) for k,v in g3.nodes(data=True)]\n",
    "#[g_list.append(v['properties']['name']) for k,v in g4.nodes(data=True)]\n",
    "#[g_list.append(v['properties']['name']) for k,v in g5.nodes(data=True)]\n"
   ]
  },
  {
   "cell_type": "code",
   "execution_count": null,
   "id": "669bf57b",
   "metadata": {},
   "outputs": [],
   "source": [
    "# Set up lists to compare\n",
    "true_list = sab_pages\n",
    "subgraph_list = g_list\n",
    "\n",
    "# What pages are in the subgraph list but not in the true list? \n",
    "[node for node in subgraph_list if node not in true_list]\n",
    "\n",
    "# What pages are in the true list but not in the subgraph list? \n",
    "a = [node for node in true_list if node not in subgraph_list]\n",
    "\n",
    "# The no. of pages in the subgraph list that are also in the true list\n",
    "308-len(a) "
   ]
  },
  {
   "cell_type": "code",
   "execution_count": null,
   "id": "a868650f",
   "metadata": {},
   "outputs": [],
   "source": [
    "# Query neo4j to get a graph of the merged nodes\n",
    "parameters = {}\n",
    "parameters['pages'] = g_list\n",
    "\n",
    "query = f\"\"\"\n",
    "MATCH (u:Cid)-[r:HYPERLINKS_TO|USER_MOVEMENT]->(v:Cid)\n",
    "WHERE u.name IN $pages AND v.name in $pages\n",
    "RETURN *\n",
    "\"\"\"\n",
    "\n",
    "g = getSubgraph(query, parameters)\n",
    "nx.info(g)"
   ]
  },
  {
   "cell_type": "markdown",
   "id": "e1f29710",
   "metadata": {},
   "source": [
    "### One query filtering down"
   ]
  },
  {
   "cell_type": "code",
   "execution_count": null,
   "id": "344a44fd",
   "metadata": {},
   "outputs": [],
   "source": [
    "# Query neo4j\n",
    "parameters = {}\n",
    "parameters['contentId'] = df['contentId'].tolist()\n",
    "parameters['pages'] = ['/export-customs-declaration', '/import-customs-declaration', '/import-goods-into-uk', \n",
    "                       '/set-up-limited-company', '/set-up-self-employed', '/export-goods'] \n",
    "\n",
    "query = f\"\"\"\n",
    "MATCH (u:Cid)-[r:HYPERLINKS_TO|USER_MOVEMENT]->(v:Cid)\n",
    "WHERE u.contentID IN $contentId AND v.contentID in $contentId\n",
    "WITH * \n",
    "MATCH (c1:Cid)-[r:HYPERLINKS_TO|:USER_MOVEMENT]-(c2:Cid)-[r1:HYPERLINKS_TO|:USER_MOVEMENT]-(c3:Cid)\n",
    "WHERE c1.name = '/browse/business'\n",
    "WITH *\n",
    "MATCH (c4:Cid)-[r2:HYPERLINKS_TO|:USER_MOVEMENT]-(c5:Cid)\n",
    "WHERE c4.name IN $pages\n",
    "RETURN *\n",
    "\"\"\"\n",
    "\n",
    "g = getSubgraph(query, parameters)\n",
    "nx.info(g)"
   ]
  },
  {
   "cell_type": "code",
   "execution_count": null,
   "id": "84b3430b",
   "metadata": {},
   "outputs": [],
   "source": [
    "# No. of pages in the subgraph list that are also in the true list\n",
    "getNoOfTruePages(g)"
   ]
  },
  {
   "cell_type": "markdown",
   "id": "3f2ffe36",
   "metadata": {},
   "source": [
    "###  Apply PageRank"
   ]
  },
  {
   "cell_type": "code",
   "execution_count": null,
   "id": "71b06830",
   "metadata": {},
   "outputs": [],
   "source": [
    "# PageRank computes a ranking of the nodes in the graph G based on the structure of the incoming links\n",
    "# weightkey: Edge data key to use as weight. If None weights are set to 1.\n",
    "pagerank = nx.pagerank(g, alpha=0.85, personalization=None, max_iter=100, tol=1e-06, nstart=None, weight='weight', dangling=None)\n",
    "\n",
    "# Set PageRank in descending order\n",
    "pagerank = dict(sorted(pagerank.items(), key=lambda item: item[1], reverse=True))\n",
    "\n",
    "# Convert cid id to name \n",
    "node_names_dict = {k:v['properties']['name'] for k,v in g.nodes(data=True)}\n",
    "pagerank_sorted = {v: node_names_dict.get(k, v) for k, v in pagerank.items()}  # replace cid with node name \n",
    "pagerank_sorted\n"
   ]
  },
  {
   "cell_type": "code",
   "execution_count": null,
   "id": "5575bcbb",
   "metadata": {},
   "outputs": [],
   "source": [
    "# Where in the PageRank list do the pre-defined pages sit? \n",
    "all_pagepaths = list(pagerank_sorted.values())\n",
    "\n",
    "for pagepath1 in all_pagepaths:\n",
    "    for pagepath2 in sab_pages:\n",
    "        if pagepath1 == pagepath2: \n",
    "           print(all_pagepaths.index(pagepath1))"
   ]
  },
  {
   "cell_type": "code",
   "execution_count": null,
   "id": "f313abc1",
   "metadata": {},
   "outputs": [],
   "source": [
    "# Export PageRank to csv\n",
    "df = pd.DataFrame.from_dict(pagerank_sorted, orient=\"index\")\n",
    "df.to_csv(\"../data/processed/sab_wuj_pagerank.csv\")"
   ]
  }
 ],
 "metadata": {
  "kernelspec": {
   "display_name": "Python 3 (ipykernel)",
   "language": "python",
   "name": "python3"
  },
  "language_info": {
   "codemirror_mode": {
    "name": "ipython",
    "version": 3
   },
   "file_extension": ".py",
   "mimetype": "text/x-python",
   "name": "python",
   "nbconvert_exporter": "python",
   "pygments_lexer": "ipython3",
   "version": "3.9.7"
  }
 },
 "nbformat": 4,
 "nbformat_minor": 5
}
