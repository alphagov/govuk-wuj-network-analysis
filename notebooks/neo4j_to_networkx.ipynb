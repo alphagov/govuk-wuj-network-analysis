{
 "cells": [
  {
   "cell_type": "markdown",
   "id": "87372f01",
   "metadata": {},
   "source": [
    "# Neo4j to Network X\n",
    "\n",
    "This notebook contains code for querying the neo4j knowledge graph and transforming the results of that query into a network x graph."
   ]
  },
  {
   "cell_type": "code",
   "execution_count": 1,
   "id": "55556efc",
   "metadata": {},
   "outputs": [],
   "source": [
    "import networkx as nx\n",
    "import os\n",
    "import pandas as pd\n",
    "from tqdm.notebook import tqdm\n",
    "from neo4j import GraphDatabase"
   ]
  },
  {
   "cell_type": "markdown",
   "id": "85668b4f",
   "metadata": {},
   "source": [
    "You can visit this G Drive folder to get the data for this project: https://drive.google.com/drive/folders/1E-pxqkJDrS-jd_MNq6IbS-v7gGNNmrYd?usp=sharing. Insert this data into ../data/processed/"
   ]
  },
  {
   "cell_type": "markdown",
   "id": "cd95e335",
   "metadata": {},
   "source": [
    "## Functions for coercing knowledge graph into NetworkX"
   ]
  },
  {
   "cell_type": "code",
   "execution_count": null,
   "id": "dffb3657",
   "metadata": {},
   "outputs": [],
   "source": [
    "def getSubgraph(q, parameters=None):\n",
    "\n",
    "    '''\n",
    "    Given a Cypher query q, this function queries the knowledge graph,\n",
    "    returns the nodes and edges from this query, and uses them to construct\n",
    "    a networkx graph.\n",
    "\n",
    "    E.g. getSubgraph(r'MATCH (u:Cid)-[r:HYPERLINKS_TO]->(v:Cid) RETURN *')\n",
    "         returns the structural graph.\n",
    "\n",
    "    Optionally, can add in parameters (dictionary), allowing Python variables\n",
    "    to be integrated into the Cypher query q.\n",
    "\n",
    "    E.g.\n",
    "        parameters = {}\n",
    "        parameters['pages'] = ['a','list','of','stuff']\n",
    "        q7 = f\"\"\"\n",
    "        MATCH (u:Cid)-[r]-(v:Cid)\n",
    "        WHERE u.name IN $pages AND v.name in $pages\n",
    "        RETURN *\n",
    "        \"\"\"\n",
    "\n",
    "        g7 = getSubgraph(q7, parameters)\n",
    "    '''\n",
    "\n",
    "    # get credentials\n",
    "    # add to .secrets: export KG_PWD=\"<PASSWORD>\"\n",
    "    KG_PWD = os.getenv(\"KG_PWD\")\n",
    "\n",
    "    # create connection to knowledge graph\n",
    "    driver = GraphDatabase.driver(\n",
    "        \"bolt+s://knowledge-graph.integration.govuk.digital:7687\",\n",
    "        auth=(\"neo4j\", KG_PWD),\n",
    "    )\n",
    "\n",
    "    # run query on knowledge graph\n",
    "    results = driver.session().run(q, parameters)\n",
    "\n",
    "    # create networkx graph object\n",
    "    G = nx.MultiDiGraph()\n",
    "\n",
    "    # add nodes into networkx graph object\n",
    "    nodes = list(results.graph()._nodes.values())\n",
    "    print(\"Adding nodes\\n\")\n",
    "    for node in tqdm(nodes):\n",
    "        G.add_node(node.id, labels=node._labels, properties=node._properties)\n",
    "\n",
    "    # add edges into networkx graph object\n",
    "    rels = list(results.graph()._relationships.values())\n",
    "    print(\"Adding edges\\n\")\n",
    "    for rel in tqdm(rels):\n",
    "        G.add_edge(\n",
    "            rel.start_node.id,\n",
    "            rel.end_node.id,\n",
    "            key=rel.id,\n",
    "            type=rel.type,\n",
    "            properties=rel._properties,\n",
    "        )\n",
    "\n",
    "    return G\n",
    "\n",
    "\n",
    "def showGraph(g):\n",
    "    \"\"\"\n",
    "    Given a networkx graph g, this function visualises the graph.\n",
    "    Do not use for a large g.\n",
    "    \"\"\"\n",
    "    print(nx.info(g))\n",
    "    nx.draw(g)"
   ]
  },
  {
   "cell_type": "markdown",
   "id": "a334a4d7",
   "metadata": {},
   "source": [
    "## Defining subgraph based on mainstream content"
   ]
  },
  {
   "cell_type": "code",
   "execution_count": null,
   "id": "efb3c98b",
   "metadata": {},
   "outputs": [],
   "source": [
    "# mainstream content in the structural graph\n",
    "\n",
    "q3 = r\"\"\"\n",
    "MATCH (u:Mainstream)-[r:HYPERLINKS_TO]->(v:Mainstream)\n",
    "RETURN *\n",
    "\"\"\"\n",
    "\n",
    "g3 = getSubgraph(q3)\n",
    "showGraph(g3)"
   ]
  },
  {
   "cell_type": "markdown",
   "id": "5c6bba15",
   "metadata": {},
   "source": [
    "## Defining subgraph based on functional graph"
   ]
  },
  {
   "cell_type": "code",
   "execution_count": null,
   "id": "00fae1ee",
   "metadata": {},
   "outputs": [],
   "source": [
    "# get the functional graph\n",
    "\n",
    "q5 = r\"\"\"\n",
    "MATCH (u:Cid)-[r:USER_MOVEMENT]->(v:Cid)\n",
    "RETURN *\n",
    "\"\"\"\n",
    "\n",
    "g5 = getSubgraph(q5)\n",
    "g5.number_of_nodes(), g5.number_of_edges()"
   ]
  },
  {
   "cell_type": "code",
   "execution_count": null,
   "id": "510af3a7",
   "metadata": {},
   "outputs": [],
   "source": [
    "# write the functional graph to disk\n",
    "nx.write_gpickle(g5, \"../data/processed/functional_graph.gpickle\")"
   ]
  },
  {
   "cell_type": "markdown",
   "id": "24c25973",
   "metadata": {},
   "source": [
    "## Defining subgraph based on structural graph"
   ]
  },
  {
   "cell_type": "code",
   "execution_count": null,
   "id": "38853f68",
   "metadata": {},
   "outputs": [],
   "source": [
    "# get the structural grpah\n",
    "\n",
    "q6 = r\"\"\"\n",
    "MATCH (u:Cid)-[r:HYPERLINKS_TO]->(v:Cid)\n",
    "RETURN *\n",
    "\"\"\"\n",
    "\n",
    "g6 = getSubgraph(q6)\n",
    "g6.number_of_nodes(), g6.number_of_edges()"
   ]
  },
  {
   "cell_type": "code",
   "execution_count": null,
   "id": "8eb3fc62",
   "metadata": {},
   "outputs": [],
   "source": [
    "# write structural graph to disk\n",
    "nx.write_gpickle(g6, \"../data/processed/structural_graph.gpickle\")"
   ]
  },
  {
   "cell_type": "code",
   "execution_count": null,
   "id": "df4fb50d",
   "metadata": {},
   "outputs": [],
   "source": [
    "# visualising nodes in the structural graph that mention 'start a business'\n",
    "nodes = list(g6.nodes(data=True))\n",
    "sabNodes = [\n",
    "    node\n",
    "    for node in nodes\n",
    "    if \"start a business\" in node[1][\"properties\"][\"text\"].lower()\n",
    "]\n",
    "nx.draw(g6.subgraph([node[0] for node in sabNodes]))"
   ]
  },
  {
   "cell_type": "markdown",
   "id": "55661449",
   "metadata": {},
   "source": [
    "## Defining subgraph based on page hits from Big Query GA data"
   ]
  },
  {
   "cell_type": "markdown",
   "id": "766db8b1",
   "metadata": {},
   "source": [
    "### By page path"
   ]
  },
  {
   "cell_type": "code",
   "execution_count": 5,
   "id": "351351fe",
   "metadata": {},
   "outputs": [
    {
     "data": {
      "text/html": [
       "<div>\n",
       "<style scoped>\n",
       "    .dataframe tbody tr th:only-of-type {\n",
       "        vertical-align: middle;\n",
       "    }\n",
       "\n",
       "    .dataframe tbody tr th {\n",
       "        vertical-align: top;\n",
       "    }\n",
       "\n",
       "    .dataframe thead th {\n",
       "        text-align: right;\n",
       "    }\n",
       "</style>\n",
       "<table border=\"1\" class=\"dataframe\">\n",
       "  <thead>\n",
       "    <tr style=\"text-align: right;\">\n",
       "      <th></th>\n",
       "      <th>pagePath</th>\n",
       "      <th>noOfSessions</th>\n",
       "    </tr>\n",
       "  </thead>\n",
       "  <tbody>\n",
       "    <tr>\n",
       "      <th>0</th>\n",
       "      <td>/report-blocked-drain/harlow</td>\n",
       "      <td>5</td>\n",
       "    </tr>\n",
       "    <tr>\n",
       "      <th>1</th>\n",
       "      <td>/government/publications/weekly-statistics-for...</td>\n",
       "      <td>5</td>\n",
       "    </tr>\n",
       "    <tr>\n",
       "      <th>2</th>\n",
       "      <td>/student-finance-calculator/y/[date]/uk-full-t...</td>\n",
       "      <td>5</td>\n",
       "    </tr>\n",
       "    <tr>\n",
       "      <th>3</th>\n",
       "      <td>/government/statistics/suicide-deaths-in-north...</td>\n",
       "      <td>5</td>\n",
       "    </tr>\n",
       "    <tr>\n",
       "      <th>4</th>\n",
       "      <td>/government/publications/psv-speed-limiter-exe...</td>\n",
       "      <td>5</td>\n",
       "    </tr>\n",
       "  </tbody>\n",
       "</table>\n",
       "</div>"
      ],
      "text/plain": [
       "                                            pagePath  noOfSessions\n",
       "0                       /report-blocked-drain/harlow             5\n",
       "1  /government/publications/weekly-statistics-for...             5\n",
       "2  /student-finance-calculator/y/[date]/uk-full-t...             5\n",
       "3  /government/statistics/suicide-deaths-in-north...             5\n",
       "4  /government/publications/psv-speed-limiter-exe...             5"
      ]
     },
     "execution_count": 5,
     "metadata": {},
     "output_type": "execute_result"
    }
   ],
   "source": [
    "page_paths = pd.read_csv('../data/processed/page_paths.csv')\n",
    "page_paths.head()"
   ]
  },
  {
   "cell_type": "code",
   "execution_count": null,
   "id": "872ac637",
   "metadata": {},
   "outputs": [],
   "source": [
    "parameters = {}\n",
    "parameters[\"pages\"] = page_paths[\"pagePath\"].tolist()\n",
    "q7 = f\"\"\"\n",
    "MATCH (u:Cid)-[r:HYPERLINKS_TO|USER_MOVEMENT]->(v:Cid)\n",
    "WHERE u.name IN $pages AND v.name in $pages\n",
    "RETURN *\n",
    "\"\"\"\n",
    "\n",
    "g7 = getSubgraph(q7, parameters)\n",
    "nx.info(g7)"
   ]
  },
  {
   "cell_type": "code",
   "execution_count": null,
   "id": "da357ff0",
   "metadata": {},
   "outputs": [],
   "source": [
    "# write graph to disk\n",
    "nx.write_gpickle(g7, \"../data/processed/5_hits_graph.gpickle\")"
   ]
  },
  {
   "cell_type": "markdown",
   "id": "d35ae36d",
   "metadata": {},
   "source": [
    "#### Running checks to ensure all SaB pages are in this subgraph"
   ]
  },
  {
   "cell_type": "code",
   "execution_count": 6,
   "id": "db005515",
   "metadata": {},
   "outputs": [
    {
     "data": {
      "text/html": [
       "<div>\n",
       "<style scoped>\n",
       "    .dataframe tbody tr th:only-of-type {\n",
       "        vertical-align: middle;\n",
       "    }\n",
       "\n",
       "    .dataframe tbody tr th {\n",
       "        vertical-align: top;\n",
       "    }\n",
       "\n",
       "    .dataframe thead th {\n",
       "        text-align: right;\n",
       "    }\n",
       "</style>\n",
       "<table border=\"1\" class=\"dataframe\">\n",
       "  <thead>\n",
       "    <tr style=\"text-align: right;\">\n",
       "      <th></th>\n",
       "      <th>pagePath</th>\n",
       "    </tr>\n",
       "  </thead>\n",
       "  <tbody>\n",
       "    <tr>\n",
       "      <th>0</th>\n",
       "      <td>/creative-works-licence</td>\n",
       "    </tr>\n",
       "    <tr>\n",
       "      <th>1</th>\n",
       "      <td>/get-uncertified-electronic-copy-patent</td>\n",
       "    </tr>\n",
       "    <tr>\n",
       "      <th>2</th>\n",
       "      <td>/unincorporated-associations</td>\n",
       "    </tr>\n",
       "    <tr>\n",
       "      <th>3</th>\n",
       "      <td>/get-information-about-a-company</td>\n",
       "    </tr>\n",
       "    <tr>\n",
       "      <th>4</th>\n",
       "      <td>/goods-sent-from-abroad</td>\n",
       "    </tr>\n",
       "  </tbody>\n",
       "</table>\n",
       "</div>"
      ],
      "text/plain": [
       "                                  pagePath\n",
       "0                  /creative-works-licence\n",
       "1  /get-uncertified-electronic-copy-patent\n",
       "2             /unincorporated-associations\n",
       "3         /get-information-about-a-company\n",
       "4                  /goods-sent-from-abroad"
      ]
     },
     "execution_count": 6,
     "metadata": {},
     "output_type": "execute_result"
    }
   ],
   "source": [
    "sab_pages = pd.read_csv('../data/processed/sab_pages.csv')\n",
    "sab_pages.head()"
   ]
  },
  {
   "cell_type": "code",
   "execution_count": null,
   "id": "d375b5a2",
   "metadata": {},
   "outputs": [],
   "source": [
    "# percentage of SaB nodes that are in our subgraph\n",
    "g7nodes = list(g7.nodes(data=True))\n",
    "g7names = set([node[1][\"properties\"][\"name\"] for node in g7nodes])\n",
    "len(set(sab_pages.pagePath).intersection(g7names)) / len(set(sab_pages.pagePath)) * 100"
   ]
  },
  {
   "cell_type": "markdown",
   "id": "0b802e9b",
   "metadata": {},
   "source": [
    "99.67% of SaB nodes are in this subgraph. The missing node relates to a withdrawn page, therefore, effectively 100% of the SaB nodes are in this subgraph:"
   ]
  },
  {
   "cell_type": "code",
   "execution_count": null,
   "id": "430217f0",
   "metadata": {},
   "outputs": [],
   "source": [
    "set(sab_pages.pagePath) - set(sab_pages.pagePath).intersection(g7names)"
   ]
  },
  {
   "cell_type": "markdown",
   "id": "be786258",
   "metadata": {},
   "source": [
    "### By content ID"
   ]
  },
  {
   "cell_type": "code",
   "execution_count": 7,
   "id": "ead7580f",
   "metadata": {},
   "outputs": [
    {
     "data": {
      "text/html": [
       "<div>\n",
       "<style scoped>\n",
       "    .dataframe tbody tr th:only-of-type {\n",
       "        vertical-align: middle;\n",
       "    }\n",
       "\n",
       "    .dataframe tbody tr th {\n",
       "        vertical-align: top;\n",
       "    }\n",
       "\n",
       "    .dataframe thead th {\n",
       "        text-align: right;\n",
       "    }\n",
       "</style>\n",
       "<table border=\"1\" class=\"dataframe\">\n",
       "  <thead>\n",
       "    <tr style=\"text-align: right;\">\n",
       "      <th></th>\n",
       "      <th>contentID</th>\n",
       "      <th>noOfSessions</th>\n",
       "    </tr>\n",
       "  </thead>\n",
       "  <tbody>\n",
       "    <tr>\n",
       "      <th>0</th>\n",
       "      <td>ee03eb40-34b3-4930-8715-9cab858421ef</td>\n",
       "      <td>5533</td>\n",
       "    </tr>\n",
       "    <tr>\n",
       "      <th>1</th>\n",
       "      <td>f3bbdec2-0e62-4520-a7fd-6ffd5d36e03a</td>\n",
       "      <td>4840078</td>\n",
       "    </tr>\n",
       "    <tr>\n",
       "      <th>2</th>\n",
       "      <td>774cee22-d896-44c1-a611-e3109cce8eae</td>\n",
       "      <td>980732</td>\n",
       "    </tr>\n",
       "    <tr>\n",
       "      <th>3</th>\n",
       "      <td>86f14e34-ba09-4e35-913e-af9e213cff2e</td>\n",
       "      <td>110257</td>\n",
       "    </tr>\n",
       "    <tr>\n",
       "      <th>4</th>\n",
       "      <td>e41bd8f3-148c-4285-ad16-131c716bc067</td>\n",
       "      <td>76841</td>\n",
       "    </tr>\n",
       "  </tbody>\n",
       "</table>\n",
       "</div>"
      ],
      "text/plain": [
       "                              contentID  noOfSessions\n",
       "0  ee03eb40-34b3-4930-8715-9cab858421ef          5533\n",
       "1  f3bbdec2-0e62-4520-a7fd-6ffd5d36e03a       4840078\n",
       "2  774cee22-d896-44c1-a611-e3109cce8eae        980732\n",
       "3  86f14e34-ba09-4e35-913e-af9e213cff2e        110257\n",
       "4  e41bd8f3-148c-4285-ad16-131c716bc067         76841"
      ]
     },
     "execution_count": 7,
     "metadata": {},
     "output_type": "execute_result"
    }
   ],
   "source": [
    "content_ids = pd.read_csv('../data/processed/content_ids.csv')\n",
    "content_ids.head()"
   ]
  },
  {
   "cell_type": "code",
   "execution_count": null,
   "id": "537f937f",
   "metadata": {},
   "outputs": [],
   "source": [
    "parameters = {}\n",
    "parameters[\"pages\"] = content_ids[\"contentID\"].tolist()\n",
    "q8 = f\"\"\"\n",
    "MATCH (u:Cid)-[r:HYPERLINKS_TO|USER_MOVEMENT]->(v:Cid)\n",
    "WHERE u.contentID IN $pages AND v.contentID in $pages\n",
    "RETURN *\n",
    "\"\"\"\n",
    "\n",
    "g8 = getSubgraph(q8, parameters)\n",
    "nx.info(g8)"
   ]
  },
  {
   "cell_type": "code",
   "execution_count": null,
   "id": "58bfaf19",
   "metadata": {},
   "outputs": [],
   "source": [
    "# write graph to disk\n",
    "nx.write_gpickle(g8, \"../data/processed/5_hits_per_contentID_graph.gpickle\")"
   ]
  },
  {
   "cell_type": "code",
   "execution_count": null,
   "id": "ee4cd4f4",
   "metadata": {},
   "outputs": [],
   "source": [
    "# percentage of SaB nodes that are in our subgraph\n",
    "g8nodes = list(g8.nodes(data=True))\n",
    "g8names = set([node[1][\"properties\"][\"name\"] for node in g8nodes])\n",
    "len(set(sab_pages.pagePath).intersection(g8names)) / len(set(sab_pages.pagePath)) * 100"
   ]
  }
 ],
 "metadata": {
  "kernelspec": {
   "display_name": "Python 3",
   "language": "python",
   "name": "python3"
  },
  "language_info": {
   "codemirror_mode": {
    "name": "ipython",
    "version": 3
   },
   "file_extension": ".py",
   "mimetype": "text/x-python",
   "name": "python",
   "nbconvert_exporter": "python",
   "pygments_lexer": "ipython3",
   "version": "3.8.8"
  }
 },
 "nbformat": 4,
 "nbformat_minor": 5
}
