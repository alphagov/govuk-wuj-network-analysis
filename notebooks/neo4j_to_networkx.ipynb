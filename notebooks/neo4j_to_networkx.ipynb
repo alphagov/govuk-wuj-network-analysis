{
 "cells": [
  {
   "cell_type": "markdown",
   "id": "cd95e335",
   "metadata": {},
   "source": [
    "## Functions for coercing knowledge graph into NetworkX"
   ]
  },
  {
   "cell_type": "code",
   "execution_count": null,
   "id": "dffb3657",
   "metadata": {},
   "outputs": [],
   "source": [
    "import os\n",
    "\n",
    "import networkx as nx\n",
    "from neo4j import GraphDatabase\n",
    "from tqdm.notebook import tqdm\n",
    "\n",
    "\n",
    "def getSubgraph(q, parameters=None):\n",
    "\n",
    "    '''\n",
    "    Given a Cypher query q, this function queries the knowledge graph,\n",
    "    returns the nodes and edges from this query, and uses them to construct\n",
    "    a networkx graph.\n",
    "\n",
    "    E.g. getSubgraph(r'MATCH (u:Cid)-[r:HYPERLINKS_TO]->(v:Cid) RETURN *')\n",
    "         returns the structural graph.\n",
    "\n",
    "    Optionally, can add in parameters (dictionary), allowing Python variables\n",
    "    to be integrated into the Cypher query q.\n",
    "\n",
    "    E.g.\n",
    "        parameters = {}\n",
    "        parameters['pages'] = ['a','list','of','stuff']\n",
    "        q7 = f\"\"\"\n",
    "        MATCH (u:Cid)-[r]-(v:Cid)\n",
    "        WHERE u.name IN $pages AND v.name in $pages\n",
    "        RETURN *\n",
    "        \"\"\"\n",
    "\n",
    "        g7 = getSubgraph(q7, parameters)\n",
    "    '''\n",
    "\n",
    "    # get credentials\n",
    "    # add to .secrets: export KG_PWD=\"<PASSWORD>\"\n",
    "    KG_PWD = os.getenv(\"KG_PWD\")\n",
    "\n",
    "    # create connection to knowledge graph\n",
    "    driver = GraphDatabase.driver(\n",
    "        \"bolt+s://knowledge-graph.integration.govuk.digital:7687\",\n",
    "        auth=(\"neo4j\", KG_PWD),\n",
    "    )\n",
    "\n",
    "    # run query on knowledge graph\n",
    "    results = driver.session().run(q, parameters)\n",
    "\n",
    "    # create networkx graph object\n",
    "    G = nx.MultiDiGraph()\n",
    "\n",
    "    # add nodes into networkx graph object\n",
    "    nodes = list(results.graph()._nodes.values())\n",
    "    print(\"Adding nodes\\n\")\n",
    "    for node in tqdm(nodes):\n",
    "        G.add_node(node.id, labels=node._labels, properties=node._properties)\n",
    "\n",
    "    # add edges into networkx graph object\n",
    "    rels = list(results.graph()._relationships.values())\n",
    "    print(\"Adding edges\\n\")\n",
    "    for rel in tqdm(rels):\n",
    "        G.add_edge(\n",
    "            rel.start_node.id,\n",
    "            rel.end_node.id,\n",
    "            key=rel.id,\n",
    "            type=rel.type,\n",
    "            properties=rel._properties,\n",
    "        )\n",
    "\n",
    "    return G\n",
    "\n",
    "\n",
    "def showGraph(g):\n",
    "    \"\"\"\n",
    "    Given a networkx graph g, this function visualises the graph.\n",
    "    Do not use for a large g.\n",
    "    \"\"\"\n",
    "    print(nx.info(g))\n",
    "    nx.draw(g)"
   ]
  },
  {
   "cell_type": "markdown",
   "id": "a334a4d7",
   "metadata": {},
   "source": [
    "## Defining subgraph based on mainstream content"
   ]
  },
  {
   "cell_type": "code",
   "execution_count": null,
   "id": "efb3c98b",
   "metadata": {},
   "outputs": [],
   "source": [
    "# mainstream content in the structural graph\n",
    "\n",
    "q3 = r\"\"\"\n",
    "MATCH (u:Mainstream)-[r:HYPERLINKS_TO]->(v:Mainstream)\n",
    "RETURN *\n",
    "\"\"\"\n",
    "\n",
    "g3 = getSubgraph(q3)\n",
    "showGraph(g3)"
   ]
  },
  {
   "cell_type": "markdown",
   "id": "5c6bba15",
   "metadata": {},
   "source": [
    "## Defining subgraph based on functional graph"
   ]
  },
  {
   "cell_type": "code",
   "execution_count": null,
   "id": "00fae1ee",
   "metadata": {},
   "outputs": [],
   "source": [
    "# get the functional graph\n",
    "\n",
    "q5 = r\"\"\"\n",
    "MATCH (u:Cid)-[r:USER_MOVEMENT]->(v:Cid)\n",
    "RETURN *\n",
    "\"\"\"\n",
    "\n",
    "g5 = getSubgraph(q5)\n",
    "g5.number_of_nodes(), g5.number_of_edges()"
   ]
  },
  {
   "cell_type": "code",
   "execution_count": null,
   "id": "510af3a7",
   "metadata": {},
   "outputs": [],
   "source": [
    "# write the functional graph to disk\n",
    "nx.write_gpickle(g5, \"functional_graph.gpickle\")"
   ]
  },
  {
   "cell_type": "markdown",
   "id": "24c25973",
   "metadata": {},
   "source": [
    "## Defining subgraph based on structural graph"
   ]
  },
  {
   "cell_type": "code",
   "execution_count": null,
   "id": "38853f68",
   "metadata": {},
   "outputs": [],
   "source": [
    "# get the structural grpah\n",
    "\n",
    "q6 = r\"\"\"\n",
    "MATCH (u:Cid)-[r:HYPERLINKS_TO]->(v:Cid)\n",
    "RETURN *\n",
    "\"\"\"\n",
    "\n",
    "g6 = getSubgraph(q6)\n",
    "g6.number_of_nodes(), g6.number_of_edges()"
   ]
  },
  {
   "cell_type": "code",
   "execution_count": null,
   "id": "8eb3fc62",
   "metadata": {},
   "outputs": [],
   "source": [
    "# write structural graph to disk\n",
    "nx.write_gpickle(g6, \"structural_graph.gpickle\")"
   ]
  },
  {
   "cell_type": "code",
   "execution_count": null,
   "id": "df4fb50d",
   "metadata": {},
   "outputs": [],
   "source": [
    "# visualising nodes in the structural graph that mention 'start a business'\n",
    "nodes = list(g6.nodes(data=True))\n",
    "sabNodes = [\n",
    "    node\n",
    "    for node in nodes\n",
    "    if \"start a business\" in node[1][\"properties\"][\"text\"].lower()\n",
    "]\n",
    "nx.draw(g6.subgraph([node[0] for node in sabNodes]))"
   ]
  },
  {
   "cell_type": "markdown",
   "id": "55661449",
   "metadata": {},
   "source": [
    "## Defining subgraph based on page hits from Big Query GA data"
   ]
  },
  {
   "cell_type": "code",
   "execution_count": null,
   "id": "932c2112",
   "metadata": {},
   "outputs": [],
   "source": [
    "import pandas as pd"
   ]
  },
  {
   "cell_type": "markdown",
   "id": "766db8b1",
   "metadata": {},
   "source": [
    "### By page path"
   ]
  },
  {
   "cell_type": "code",
   "execution_count": null,
   "id": "20479711",
   "metadata": {},
   "outputs": [],
   "source": [
    "# get page paths\n",
    "page_paths = pd.read_csv(\"page_paths.csv\")"
   ]
  },
  {
   "cell_type": "code",
   "execution_count": null,
   "id": "a6202271",
   "metadata": {},
   "outputs": [],
   "source": [
    "page_paths.head()"
   ]
  },
  {
   "cell_type": "code",
   "execution_count": null,
   "id": "872ac637",
   "metadata": {},
   "outputs": [],
   "source": [
    "parameters = {}\n",
    "parameters[\"pages\"] = page_paths[\"pagePath\"].tolist()\n",
    "q7 = f\"\"\"\n",
    "MATCH (u:Cid)-[r:HYPERLINKS_TO|USER_MOVEMENT]->(v:Cid)\n",
    "WHERE u.name IN $pages AND v.name in $pages\n",
    "RETURN *\n",
    "\"\"\"\n",
    "\n",
    "g7 = getSubgraph(q7, parameters)\n",
    "nx.info(g7)"
   ]
  },
  {
   "cell_type": "code",
   "execution_count": null,
   "id": "da357ff0",
   "metadata": {},
   "outputs": [],
   "source": [
    "# write graph to disk\n",
    "nx.write_gpickle(g7, \"5_hits_graph.gpickle\")"
   ]
  },
  {
   "cell_type": "markdown",
   "id": "d35ae36d",
   "metadata": {},
   "source": [
    "#### Running checks to ensure all SaB pages are in this subgraph"
   ]
  },
  {
   "cell_type": "code",
   "execution_count": null,
   "id": "5bda5111",
   "metadata": {},
   "outputs": [],
   "source": [
    "# create Data Frame\n",
    "sab_pages = pd.read_csv(\"sab_pages.csv\")"
   ]
  },
  {
   "cell_type": "code",
   "execution_count": null,
   "id": "d375b5a2",
   "metadata": {},
   "outputs": [],
   "source": [
    "# percentage of SaB nodes that are in our subgraph\n",
    "g7nodes = list(g7.nodes(data=True))\n",
    "g7names = set([node[1][\"properties\"][\"name\"] for node in g7nodes])\n",
    "len(set(sab_pages.pagePath).intersection(g7names)) / len(set(sab_pages.pagePath)) * 100"
   ]
  },
  {
   "cell_type": "markdown",
   "id": "0b802e9b",
   "metadata": {},
   "source": [
    "99.67% of SaB nodes are in this subgraph. The missing node relates to a withdrawn page, therefore, effectively 100% of the SaB nodes are in this subgraph:"
   ]
  },
  {
   "cell_type": "code",
   "execution_count": null,
   "id": "430217f0",
   "metadata": {},
   "outputs": [],
   "source": [
    "set(sab_pages.pagePath) - set(sab_pages.pagePath).intersection(g7names)"
   ]
  },
  {
   "cell_type": "markdown",
   "id": "be786258",
   "metadata": {},
   "source": [
    "### By content ID"
   ]
  },
  {
   "cell_type": "code",
   "execution_count": null,
   "id": "7d832eb0",
   "metadata": {},
   "outputs": [],
   "source": [
    "# get page paths\n",
    "content_ids = pd.read_csv(\"content_ids.csv\")"
   ]
  },
  {
   "cell_type": "code",
   "execution_count": null,
   "id": "bddcc54b",
   "metadata": {},
   "outputs": [],
   "source": [
    "content_ids.head()"
   ]
  },
  {
   "cell_type": "code",
   "execution_count": null,
   "id": "537f937f",
   "metadata": {},
   "outputs": [],
   "source": [
    "parameters = {}\n",
    "parameters[\"pages\"] = content_ids[\"contentID\"].tolist()\n",
    "q8 = f\"\"\"\n",
    "MATCH (u:Cid)-[r:HYPERLINKS_TO|USER_MOVEMENT]->(v:Cid)\n",
    "WHERE u.contentID IN $pages AND v.contentID in $pages\n",
    "RETURN *\n",
    "\"\"\"\n",
    "\n",
    "g8 = getSubgraph(q8, parameters)\n",
    "nx.info(g8)"
   ]
  },
  {
   "cell_type": "code",
   "execution_count": null,
   "id": "58bfaf19",
   "metadata": {},
   "outputs": [],
   "source": [
    "# write graph to disk\n",
    "nx.write_gpickle(g8, \"5_hits_per_contentID_graph.gpickle\")"
   ]
  },
  {
   "cell_type": "code",
   "execution_count": null,
   "id": "ee4cd4f4",
   "metadata": {},
   "outputs": [],
   "source": [
    "# percentage of SaB nodes that are in our subgraph\n",
    "g8nodes = list(g8.nodes(data=True))\n",
    "g8names = set([node[1][\"properties\"][\"name\"] for node in g8nodes])\n",
    "len(set(sab_pages.pagePath).intersection(g8names)) / len(set(sab_pages.pagePath)) * 100"
   ]
  }
 ],
 "metadata": {
  "kernelspec": {
   "display_name": "Python 3",
   "language": "python",
   "name": "python3"
  },
  "language_info": {
   "codemirror_mode": {
    "name": "ipython",
    "version": 3
   },
   "file_extension": ".py",
   "mimetype": "text/x-python",
   "name": "python",
   "nbconvert_exporter": "python",
   "pygments_lexer": "ipython3",
   "version": "3.8.8"
  }
 },
 "nbformat": 4,
 "nbformat_minor": 5
}
